{
 "cells": [
  {
   "cell_type": "code",
   "execution_count": 7,
   "id": "8b471425",
   "metadata": {},
   "outputs": [],
   "source": [
    "import numpy as np\n",
    "import h5py\n",
    "import cv2\n",
    "FILE_PATH = r\"C:\\VisualOdometry\\falcon_indoor_flight_1_data.h5\""
   ]
  },
  {
   "cell_type": "code",
   "execution_count": 8,
   "id": "6f9dead5",
   "metadata": {},
   "outputs": [],
   "source": [
    "with h5py.File(FILE_PATH, \"r\") as file:\n",
    "    w, h = list(file[\"prophesee\"][\"left\"][\"calib\"][\"resolution\"])\n",
    "    distortion_coeffs_left = list(file[\"prophesee\"][\"left\"][\"calib\"][\"distortion_coeffs\"])\n",
    "    fx, fy, cx, cy = (list(file[\"prophesee\"][\"left\"][\"calib\"][\"intrinsics\"]))\n",
    "    K_left = np.array([[fx, 0, cx], [0, fy, cy], [0, 0, 1]])\n",
    "\n",
    "    distortion_coeffs_right = list(file[\"prophesee\"][\"right\"][\"calib\"][\"distortion_coeffs\"])\n",
    "    fx, fy, cx, cy = (list(file[\"prophesee\"][\"right\"][\"calib\"][\"intrinsics\"]))\n",
    "    K_right = np.array([[fx, 0, cx], [0, fy, cy], [0, 0, 1]])\n",
    "\n",
    "    distortion_coeffs_rgb = (list(file[\"ovc\"][\"rgb\"][\"calib\"][\"distortion_coeffs\"]))\n",
    "    fx, fy, cx, cy = list(file[\"ovc\"][\"rgb\"][\"calib\"][\"intrinsics\"])\n",
    "    T_rgb = (list(file[\"ovc\"][\"rgb\"][\"calib\"][\"T_to_prophesee_left\"]))\n",
    "    T_rgb = np.array(T_rgb)\n",
    "    K_rgb = np.array([[fx, 0, cx], [0, fy, cy], [0, 0, 1]])"
   ]
  },
  {
   "cell_type": "code",
   "execution_count": 20,
   "id": "b565dfdb",
   "metadata": {},
   "outputs": [
    {
     "data": {
      "text/plain": [
       "array([[ 0.99995986,  0.00772153,  0.00454551,  0.03025287],\n",
       "       [-0.00770454,  0.99996331, -0.0037437 , -0.07599698],\n",
       "       [-0.00457425,  0.00370853,  0.99998266, -0.0085445 ],\n",
       "       [ 0.        ,  0.        ,  0.        ,  1.        ]])"
      ]
     },
     "execution_count": 20,
     "metadata": {},
     "output_type": "execute_result"
    }
   ],
   "source": [
    "T_rgb"
   ]
  },
  {
   "cell_type": "code",
   "execution_count": 11,
   "id": "777bcf26",
   "metadata": {},
   "outputs": [],
   "source": [
    "def event_generator(file_path, cam_direction=\"left\", batch_size=1024):\n",
    "    with h5py.File(file_path, \"r\") as file:\n",
    "        x = file[\"prophesee\"][cam_direction][\"x\"]\n",
    "        y = file[\"prophesee\"][cam_direction][\"y\"]\n",
    "        p = file[\"prophesee\"][cam_direction][\"p\"]\n",
    "        t = file[\"prophesee\"][cam_direction][\"t\"]\n",
    "        total = x.shape[0]\n",
    "        for i in range(0, total, batch_size):\n",
    "            yield (\n",
    "                x[i : i + batch_size],\n",
    "                y[i : i + batch_size],\n",
    "                p[i : i + batch_size],\n",
    "                t[i : i + batch_size],\n",
    "            )"
   ]
  },
  {
   "cell_type": "code",
   "execution_count": 10,
   "id": "a7aaab75",
   "metadata": {},
   "outputs": [],
   "source": [
    "def event_frame(coords, polarities, img_shape):\n",
    "    matrix = np.ones(img_shape, dtype=np.uint8) * 127\n",
    "    coords = np.array(coords)\n",
    "    if len(coords) > 0:\n",
    "        y = coords[:, 0]\n",
    "        x = coords[:, 1]\n",
    "        matrix[y, x] = np.where(np.array(polarities) > 0, 255, 0)\n",
    "    return matrix"
   ]
  },
  {
   "cell_type": "code",
   "execution_count": 35,
   "id": "45b7b4a2",
   "metadata": {},
   "outputs": [],
   "source": [
    "def odom(picture, K, th):\n",
    "    global prev_img, cur_R, cur_t, trajectory_3d\n",
    "\n",
    "    if len(picture.shape) == 3:\n",
    "        gray = picture.copy()\n",
    "    else:\n",
    "        gray = picture.copy()\n",
    "\n",
    "    fast = cv2.FastFeatureDetector_create(threshold=th, nonmaxSuppression=True)\n",
    "    brief = cv2.xfeatures2d.BriefDescriptorExtractor_create()\n",
    "\n",
    "    if prev_img is None:\n",
    "        prev_img = gray\n",
    "        return cur_t.copy()\n",
    "\n",
    "    kp1 = fast.detect(prev_img, None)\n",
    "    kp2 = fast.detect(gray, None)\n",
    "    if len(kp1) < 10 or len(kp2) < 10:\n",
    "        prev_img = gray\n",
    "        return cur_t.copy()\n",
    "\n",
    "    kp1, des1 = brief.compute(prev_img, kp1)\n",
    "    kp2, des2 = brief.compute(gray, kp2)\n",
    "    if des1 is None or des2 is None or len(kp1) < 10 or len(kp2) < 10:\n",
    "        prev_img = gray\n",
    "        return cur_t.copy()\n",
    "\n",
    "    bf = cv2.BFMatcher(cv2.NORM_HAMMING, crossCheck=True)\n",
    "    matches = bf.match(des1, des2)\n",
    "    matches = sorted(matches, key=lambda x: x.distance)\n",
    "    if len(matches) < 8:\n",
    "        prev_img = gray\n",
    "        return cur_t.copy()\n",
    "\n",
    "    pts1 = np.float32([kp1[m.queryIdx].pt for m in matches]).reshape(-1, 1, 2)\n",
    "    pts2 = np.float32([kp2[m.trainIdx].pt for m in matches]).reshape(-1, 1, 2)\n",
    "\n",
    "    E, mask = cv2.findEssentialMat(\n",
    "        pts1, pts2, K, method=cv2.RANSAC, prob=0.999, threshold=1.0\n",
    "    )\n",
    "    if E is None:\n",
    "        prev_img = gray\n",
    "        return cur_t.copy()\n",
    "\n",
    "    _, R, t, mask_pose = cv2.recoverPose(E, pts1, pts2, K)\n",
    "\n",
    "    cur_t += cur_R @ t\n",
    "    cur_R = R @ cur_R\n",
    "\n",
    "    trajectory_3d.append(cur_t.flatten().copy())\n",
    "\n",
    "    prev_img = gray\n",
    "    return cur_t.copy()"
   ]
  },
  {
   "cell_type": "code",
   "execution_count": null,
   "id": "31782b95",
   "metadata": {},
   "outputs": [],
   "source": [
    "cnt = 1\n",
    "batch_idx = 0\n",
    "temp_x, temp_y, temp_p, temp_t = [], [], [], []\n",
    "prev_img = None\n",
    "cur_R = np.eye(3)\n",
    "cur_t = np.zeros((3, 1))\n",
    "trajectory_3d = []\n",
    "exit = False\n",
    "\n",
    "for x_batch, y_batch, p_batch, t_batch in event_generator(\n",
    "    FILE_PATH, \"left\", batch_size=10000\n",
    "):\n",
    "    batch_idx += 1\n",
    "    if batch_idx % 4 != 0:\n",
    "        continue\n",
    "\n",
    "    temp_x.extend(x_batch)\n",
    "    temp_y.extend(y_batch)\n",
    "    temp_p.extend(np.where(p_batch > 0, 1, -1))\n",
    "    temp_t.extend(t_batch)\n",
    "\n",
    "    while len(temp_t) > 0 and temp_t[-1] > cnt * 1e4:\n",
    "        cnt += 1\n",
    "        coords = list(zip(temp_y, temp_x))\n",
    "        img = event_frame(coords, temp_p, (h, w))\n",
    "        odom(img, K_left)\n",
    "        cv2.imshow(\"Event Frame\", img)\n",
    "        if cv2.waitKey(1) & 0xFF == ord(\"q\"):\n",
    "            exit = True\n",
    "            break\n",
    "        temp_x.clear()\n",
    "        temp_y.clear()\n",
    "        temp_p.clear()\n",
    "        temp_t.clear()\n",
    "    if exit:\n",
    "        break\n",
    "\n",
    "cv2.destroyAllWindows()"
   ]
  },
  {
   "cell_type": "code",
   "execution_count": 147,
   "id": "bfa227eb",
   "metadata": {},
   "outputs": [
    {
     "data": {
      "application/vnd.plotly.v1+json": {
       "config": {
        "plotlyServerURL": "https://plot.ly"
       },
       "data": [
        {
         "line": {
          "color": "green",
          "width": 4
         },
         "mode": "lines",
         "opacity": 0.8,
         "showlegend": false,
         "type": "scatter3d",
         "x": {
          "bdata": "GPUZwE3a2D9URvcyp3nAPw==",
          "dtype": "f8"
         },
         "y": {
          "bdata": "CvDev2aL0T8QpGft3JOSvw==",
          "dtype": "f8"
         },
         "z": {
          "bdata": "P8K23Von7D+A40L64cukvw==",
          "dtype": "f8"
         }
        },
        {
         "line": {
          "color": "green",
          "width": 4
         },
         "mode": "lines",
         "opacity": 0.7529411764705882,
         "showlegend": false,
         "type": "scatter3d",
         "x": {
          "bdata": "VEb3Mqd5wD+oFZ6Fc0u4Pw==",
          "dtype": "f8"
         },
         "y": {
          "bdata": "EKRn7dyTkr8fape/HAHVvw==",
          "dtype": "f8"
         },
         "z": {
          "bdata": "gONC+uHLpL+rYxQ/HbTvvw==",
          "dtype": "f8"
         }
        },
        {
         "line": {
          "color": "green",
          "width": 4
         },
         "mode": "lines",
         "opacity": 0.7058823529411765,
         "showlegend": false,
         "type": "scatter3d",
         "x": {
          "bdata": "qBWehXNLuD+lx8yHj/G2Pw==",
          "dtype": "f8"
         },
         "y": {
          "bdata": "H2qXvxwB1b+2aeOdOm7kvw==",
          "dtype": "f8"
         },
         "z": {
          "bdata": "q2MUPx2077/8Ykvn3A//vw==",
          "dtype": "f8"
         }
        },
        {
         "line": {
          "color": "green",
          "width": 4
         },
         "mode": "lines",
         "opacity": 0.6588235294117647,
         "showlegend": false,
         "type": "scatter3d",
         "x": {
          "bdata": "pcfMh4/xtj/SrbT+rxvuPw==",
          "dtype": "f8"
         },
         "y": {
          "bdata": "tmnjnTpu5L+60ymgr9zqvw==",
          "dtype": "f8"
         },
         "z": {
          "bdata": "/GJL59wP/79AbKtGq2gDwA==",
          "dtype": "f8"
         }
        },
        {
         "line": {
          "color": "green",
          "width": 4
         },
         "mode": "lines",
         "opacity": 0.611764705882353,
         "showlegend": false,
         "type": "scatter3d",
         "x": {
          "bdata": "0q20/q8b7j8SYuPa5dfqPw==",
          "dtype": "f8"
         },
         "y": {
          "bdata": "utMpoK/c6r/wvf5DuzLgvw==",
          "dtype": "f8"
         },
         "z": {
          "bdata": "QGyrRqtoA8AzRYCsJNL3vw==",
          "dtype": "f8"
         }
        },
        {
         "line": {
          "color": "green",
          "width": 4
         },
         "mode": "lines",
         "opacity": 0.5647058823529412,
         "showlegend": false,
         "type": "scatter3d",
         "x": {
          "bdata": "EmLj2uXX6j9SNmG0kUbsPw==",
          "dtype": "f8"
         },
         "y": {
          "bdata": "8L3+Q7sy4L9PKHrVvEXqvw==",
          "dtype": "f8"
         },
         "z": {
          "bdata": "M0WArCTS97+ZaqlgxX4DwA==",
          "dtype": "f8"
         }
        },
        {
         "line": {
          "color": "green",
          "width": 4
         },
         "mode": "lines",
         "opacity": 0.5176470588235293,
         "showlegend": false,
         "type": "scatter3d",
         "x": {
          "bdata": "UjZhtJFG7D+IZi49ywjuPw==",
          "dtype": "f8"
         },
         "y": {
          "bdata": "Tyh61bxF6r9aliUTVHHyvw==",
          "dtype": "f8"
         },
         "z": {
          "bdata": "mWqpYMV+A8CWBI4CkwcLwA==",
          "dtype": "f8"
         }
        },
        {
         "line": {
          "color": "green",
          "width": 4
         },
         "mode": "lines",
         "opacity": 0.4705882352941177,
         "showlegend": false,
         "type": "scatter3d",
         "x": {
          "bdata": "iGYuPcsI7j92SsuCIZXsPw==",
          "dtype": "f8"
         },
         "y": {
          "bdata": "WpYlE1Rx8r+6XiCDhKPqvw==",
          "dtype": "f8"
         },
         "z": {
          "bdata": "lgSOApMHC8CY4n4BonUDwA==",
          "dtype": "f8"
         }
        },
        {
         "line": {
          "color": "green",
          "width": 4
         },
         "mode": "lines",
         "opacity": 0.42352941176470593,
         "showlegend": false,
         "type": "scatter3d",
         "x": {
          "bdata": "dkrLgiGV7D9xF3j3bkjuPw==",
          "dtype": "f8"
         },
         "y": {
          "bdata": "ul4gg4Sj6r/PFf5ltAPyvw==",
          "dtype": "f8"
         },
         "z": {
          "bdata": "mOJ+AaJ1A8BKJpcLchgLwA==",
          "dtype": "f8"
         }
        },
        {
         "line": {
          "color": "green",
          "width": 4
         },
         "mode": "lines",
         "opacity": 0.3764705882352941,
         "showlegend": false,
         "type": "scatter3d",
         "x": {
          "bdata": "cRd4925I7j+F4NMGk+rrPw==",
          "dtype": "f8"
         },
         "y": {
          "bdata": "zxX+ZbQD8r92CrSO57Hqvw==",
          "dtype": "f8"
         },
         "z": {
          "bdata": "SiaXC3IYC8BCOLa0XncDwA==",
          "dtype": "f8"
         }
        },
        {
         "line": {
          "color": "green",
          "width": 4
         },
         "mode": "lines",
         "opacity": 0.32941176470588235,
         "showlegend": false,
         "type": "scatter3d",
         "x": {
          "bdata": "heDTBpPq6z8w5OrkWOzDPw==",
          "dtype": "f8"
         },
         "y": {
          "bdata": "dgq0juex6r8idSiKGpfxvw==",
          "dtype": "f8"
         },
         "z": {
          "bdata": "Qji2tF53A8DXKA4UQKAIwA==",
          "dtype": "f8"
         }
        },
        {
         "line": {
          "color": "green",
          "width": 4
         },
         "mode": "lines",
         "opacity": 0.2823529411764706,
         "showlegend": false,
         "type": "scatter3d",
         "x": {
          "bdata": "MOTq5Fjswz/dEkZ08+Plvw==",
          "dtype": "f8"
         },
         "y": {
          "bdata": "InUoihqX8b/aRJ90DJf1vw==",
          "dtype": "f8"
         },
         "z": {
          "bdata": "1ygOFECgCMAocD79eXsMwA==",
          "dtype": "f8"
         }
        },
        {
         "line": {
          "color": "green",
          "width": 4
         },
         "mode": "lines",
         "opacity": 0.2352941176470588,
         "showlegend": false,
         "type": "scatter3d",
         "x": {
          "bdata": "3RJGdPPj5b8caJZI8An3vw==",
          "dtype": "f8"
         },
         "y": {
          "bdata": "2kSfdAyX9b+GfbCHAjr9vw==",
          "dtype": "f8"
         },
         "z": {
          "bdata": "KHA+/Xl7DMClArKQswgQwA==",
          "dtype": "f8"
         }
        },
        {
         "line": {
          "color": "green",
          "width": 4
         },
         "mode": "lines",
         "opacity": 0.1882352941176471,
         "showlegend": false,
         "type": "scatter3d",
         "x": {
          "bdata": "HGiWSPAJ97/WaJ2rQtP2vw==",
          "dtype": "f8"
         },
         "y": {
          "bdata": "hn2whwI6/b9unFt/2uH+vw==",
          "dtype": "f8"
         },
         "z": {
          "bdata": "pQKykLMIEMAM0PTWHAMUwA==",
          "dtype": "f8"
         }
        },
        {
         "line": {
          "color": "green",
          "width": 4
         },
         "mode": "lines",
         "opacity": 0.14117647058823532,
         "showlegend": false,
         "type": "scatter3d",
         "x": {
          "bdata": "1midq0LT9r/sURhaZzD3vw==",
          "dtype": "f8"
         },
         "y": {
          "bdata": "bpxbf9rh/r+XJ6m9QVMAwA==",
          "dtype": "f8"
         },
         "z": {
          "bdata": "DND01hwDFMA87SHtkvwXwA==",
          "dtype": "f8"
         }
        },
        {
         "line": {
          "color": "green",
          "width": 4
         },
         "mode": "lines",
         "opacity": 0.09411764705882356,
         "showlegend": false,
         "type": "scatter3d",
         "x": {
          "bdata": "7FEYWmcw97/1UCodAtj2vw==",
          "dtype": "f8"
         },
         "y": {
          "bdata": "lyepvUFTAMDpIKNxCAUBwA==",
          "dtype": "f8"
         },
         "z": {
          "bdata": "PO0h7ZL8F8DN7IEjePgbwA==",
          "dtype": "f8"
         }
        },
        {
         "line": {
          "color": "green",
          "width": 4
         },
         "mode": "lines",
         "opacity": 0.04705882352941178,
         "showlegend": false,
         "type": "scatter3d",
         "x": {
          "bdata": "9VAqHQLY9r/17PMGz6rrvw==",
          "dtype": "f8"
         },
         "y": {
          "bdata": "6SCjcQgFAcDYTiegqBb+vw==",
          "dtype": "f8"
         },
         "z": {
          "bdata": "zeyBI3j4G8Dr7zOMASAfwA==",
          "dtype": "f8"
         }
        }
       ],
       "layout": {
        "scene": {
         "xaxis": {
          "title": {
           "text": "X"
          }
         },
         "yaxis": {
          "title": {
           "text": "Y"
          }
         },
         "zaxis": {
          "title": {
           "text": "Z"
          }
         }
        },
        "template": {
         "data": {
          "bar": [
           {
            "error_x": {
             "color": "#2a3f5f"
            },
            "error_y": {
             "color": "#2a3f5f"
            },
            "marker": {
             "line": {
              "color": "#E5ECF6",
              "width": 0.5
             },
             "pattern": {
              "fillmode": "overlay",
              "size": 10,
              "solidity": 0.2
             }
            },
            "type": "bar"
           }
          ],
          "barpolar": [
           {
            "marker": {
             "line": {
              "color": "#E5ECF6",
              "width": 0.5
             },
             "pattern": {
              "fillmode": "overlay",
              "size": 10,
              "solidity": 0.2
             }
            },
            "type": "barpolar"
           }
          ],
          "carpet": [
           {
            "aaxis": {
             "endlinecolor": "#2a3f5f",
             "gridcolor": "white",
             "linecolor": "white",
             "minorgridcolor": "white",
             "startlinecolor": "#2a3f5f"
            },
            "baxis": {
             "endlinecolor": "#2a3f5f",
             "gridcolor": "white",
             "linecolor": "white",
             "minorgridcolor": "white",
             "startlinecolor": "#2a3f5f"
            },
            "type": "carpet"
           }
          ],
          "choropleth": [
           {
            "colorbar": {
             "outlinewidth": 0,
             "ticks": ""
            },
            "type": "choropleth"
           }
          ],
          "contour": [
           {
            "colorbar": {
             "outlinewidth": 0,
             "ticks": ""
            },
            "colorscale": [
             [
              0,
              "#0d0887"
             ],
             [
              0.1111111111111111,
              "#46039f"
             ],
             [
              0.2222222222222222,
              "#7201a8"
             ],
             [
              0.3333333333333333,
              "#9c179e"
             ],
             [
              0.4444444444444444,
              "#bd3786"
             ],
             [
              0.5555555555555556,
              "#d8576b"
             ],
             [
              0.6666666666666666,
              "#ed7953"
             ],
             [
              0.7777777777777778,
              "#fb9f3a"
             ],
             [
              0.8888888888888888,
              "#fdca26"
             ],
             [
              1,
              "#f0f921"
             ]
            ],
            "type": "contour"
           }
          ],
          "contourcarpet": [
           {
            "colorbar": {
             "outlinewidth": 0,
             "ticks": ""
            },
            "type": "contourcarpet"
           }
          ],
          "heatmap": [
           {
            "colorbar": {
             "outlinewidth": 0,
             "ticks": ""
            },
            "colorscale": [
             [
              0,
              "#0d0887"
             ],
             [
              0.1111111111111111,
              "#46039f"
             ],
             [
              0.2222222222222222,
              "#7201a8"
             ],
             [
              0.3333333333333333,
              "#9c179e"
             ],
             [
              0.4444444444444444,
              "#bd3786"
             ],
             [
              0.5555555555555556,
              "#d8576b"
             ],
             [
              0.6666666666666666,
              "#ed7953"
             ],
             [
              0.7777777777777778,
              "#fb9f3a"
             ],
             [
              0.8888888888888888,
              "#fdca26"
             ],
             [
              1,
              "#f0f921"
             ]
            ],
            "type": "heatmap"
           }
          ],
          "histogram": [
           {
            "marker": {
             "pattern": {
              "fillmode": "overlay",
              "size": 10,
              "solidity": 0.2
             }
            },
            "type": "histogram"
           }
          ],
          "histogram2d": [
           {
            "colorbar": {
             "outlinewidth": 0,
             "ticks": ""
            },
            "colorscale": [
             [
              0,
              "#0d0887"
             ],
             [
              0.1111111111111111,
              "#46039f"
             ],
             [
              0.2222222222222222,
              "#7201a8"
             ],
             [
              0.3333333333333333,
              "#9c179e"
             ],
             [
              0.4444444444444444,
              "#bd3786"
             ],
             [
              0.5555555555555556,
              "#d8576b"
             ],
             [
              0.6666666666666666,
              "#ed7953"
             ],
             [
              0.7777777777777778,
              "#fb9f3a"
             ],
             [
              0.8888888888888888,
              "#fdca26"
             ],
             [
              1,
              "#f0f921"
             ]
            ],
            "type": "histogram2d"
           }
          ],
          "histogram2dcontour": [
           {
            "colorbar": {
             "outlinewidth": 0,
             "ticks": ""
            },
            "colorscale": [
             [
              0,
              "#0d0887"
             ],
             [
              0.1111111111111111,
              "#46039f"
             ],
             [
              0.2222222222222222,
              "#7201a8"
             ],
             [
              0.3333333333333333,
              "#9c179e"
             ],
             [
              0.4444444444444444,
              "#bd3786"
             ],
             [
              0.5555555555555556,
              "#d8576b"
             ],
             [
              0.6666666666666666,
              "#ed7953"
             ],
             [
              0.7777777777777778,
              "#fb9f3a"
             ],
             [
              0.8888888888888888,
              "#fdca26"
             ],
             [
              1,
              "#f0f921"
             ]
            ],
            "type": "histogram2dcontour"
           }
          ],
          "mesh3d": [
           {
            "colorbar": {
             "outlinewidth": 0,
             "ticks": ""
            },
            "type": "mesh3d"
           }
          ],
          "parcoords": [
           {
            "line": {
             "colorbar": {
              "outlinewidth": 0,
              "ticks": ""
             }
            },
            "type": "parcoords"
           }
          ],
          "pie": [
           {
            "automargin": true,
            "type": "pie"
           }
          ],
          "scatter": [
           {
            "fillpattern": {
             "fillmode": "overlay",
             "size": 10,
             "solidity": 0.2
            },
            "type": "scatter"
           }
          ],
          "scatter3d": [
           {
            "line": {
             "colorbar": {
              "outlinewidth": 0,
              "ticks": ""
             }
            },
            "marker": {
             "colorbar": {
              "outlinewidth": 0,
              "ticks": ""
             }
            },
            "type": "scatter3d"
           }
          ],
          "scattercarpet": [
           {
            "marker": {
             "colorbar": {
              "outlinewidth": 0,
              "ticks": ""
             }
            },
            "type": "scattercarpet"
           }
          ],
          "scattergeo": [
           {
            "marker": {
             "colorbar": {
              "outlinewidth": 0,
              "ticks": ""
             }
            },
            "type": "scattergeo"
           }
          ],
          "scattergl": [
           {
            "marker": {
             "colorbar": {
              "outlinewidth": 0,
              "ticks": ""
             }
            },
            "type": "scattergl"
           }
          ],
          "scattermap": [
           {
            "marker": {
             "colorbar": {
              "outlinewidth": 0,
              "ticks": ""
             }
            },
            "type": "scattermap"
           }
          ],
          "scattermapbox": [
           {
            "marker": {
             "colorbar": {
              "outlinewidth": 0,
              "ticks": ""
             }
            },
            "type": "scattermapbox"
           }
          ],
          "scatterpolar": [
           {
            "marker": {
             "colorbar": {
              "outlinewidth": 0,
              "ticks": ""
             }
            },
            "type": "scatterpolar"
           }
          ],
          "scatterpolargl": [
           {
            "marker": {
             "colorbar": {
              "outlinewidth": 0,
              "ticks": ""
             }
            },
            "type": "scatterpolargl"
           }
          ],
          "scatterternary": [
           {
            "marker": {
             "colorbar": {
              "outlinewidth": 0,
              "ticks": ""
             }
            },
            "type": "scatterternary"
           }
          ],
          "surface": [
           {
            "colorbar": {
             "outlinewidth": 0,
             "ticks": ""
            },
            "colorscale": [
             [
              0,
              "#0d0887"
             ],
             [
              0.1111111111111111,
              "#46039f"
             ],
             [
              0.2222222222222222,
              "#7201a8"
             ],
             [
              0.3333333333333333,
              "#9c179e"
             ],
             [
              0.4444444444444444,
              "#bd3786"
             ],
             [
              0.5555555555555556,
              "#d8576b"
             ],
             [
              0.6666666666666666,
              "#ed7953"
             ],
             [
              0.7777777777777778,
              "#fb9f3a"
             ],
             [
              0.8888888888888888,
              "#fdca26"
             ],
             [
              1,
              "#f0f921"
             ]
            ],
            "type": "surface"
           }
          ],
          "table": [
           {
            "cells": {
             "fill": {
              "color": "#EBF0F8"
             },
             "line": {
              "color": "white"
             }
            },
            "header": {
             "fill": {
              "color": "#C8D4E3"
             },
             "line": {
              "color": "white"
             }
            },
            "type": "table"
           }
          ]
         },
         "layout": {
          "annotationdefaults": {
           "arrowcolor": "#2a3f5f",
           "arrowhead": 0,
           "arrowwidth": 1
          },
          "autotypenumbers": "strict",
          "coloraxis": {
           "colorbar": {
            "outlinewidth": 0,
            "ticks": ""
           }
          },
          "colorscale": {
           "diverging": [
            [
             0,
             "#8e0152"
            ],
            [
             0.1,
             "#c51b7d"
            ],
            [
             0.2,
             "#de77ae"
            ],
            [
             0.3,
             "#f1b6da"
            ],
            [
             0.4,
             "#fde0ef"
            ],
            [
             0.5,
             "#f7f7f7"
            ],
            [
             0.6,
             "#e6f5d0"
            ],
            [
             0.7,
             "#b8e186"
            ],
            [
             0.8,
             "#7fbc41"
            ],
            [
             0.9,
             "#4d9221"
            ],
            [
             1,
             "#276419"
            ]
           ],
           "sequential": [
            [
             0,
             "#0d0887"
            ],
            [
             0.1111111111111111,
             "#46039f"
            ],
            [
             0.2222222222222222,
             "#7201a8"
            ],
            [
             0.3333333333333333,
             "#9c179e"
            ],
            [
             0.4444444444444444,
             "#bd3786"
            ],
            [
             0.5555555555555556,
             "#d8576b"
            ],
            [
             0.6666666666666666,
             "#ed7953"
            ],
            [
             0.7777777777777778,
             "#fb9f3a"
            ],
            [
             0.8888888888888888,
             "#fdca26"
            ],
            [
             1,
             "#f0f921"
            ]
           ],
           "sequentialminus": [
            [
             0,
             "#0d0887"
            ],
            [
             0.1111111111111111,
             "#46039f"
            ],
            [
             0.2222222222222222,
             "#7201a8"
            ],
            [
             0.3333333333333333,
             "#9c179e"
            ],
            [
             0.4444444444444444,
             "#bd3786"
            ],
            [
             0.5555555555555556,
             "#d8576b"
            ],
            [
             0.6666666666666666,
             "#ed7953"
            ],
            [
             0.7777777777777778,
             "#fb9f3a"
            ],
            [
             0.8888888888888888,
             "#fdca26"
            ],
            [
             1,
             "#f0f921"
            ]
           ]
          },
          "colorway": [
           "#636efa",
           "#EF553B",
           "#00cc96",
           "#ab63fa",
           "#FFA15A",
           "#19d3f3",
           "#FF6692",
           "#B6E880",
           "#FF97FF",
           "#FECB52"
          ],
          "font": {
           "color": "#2a3f5f"
          },
          "geo": {
           "bgcolor": "white",
           "lakecolor": "white",
           "landcolor": "#E5ECF6",
           "showlakes": true,
           "showland": true,
           "subunitcolor": "white"
          },
          "hoverlabel": {
           "align": "left"
          },
          "hovermode": "closest",
          "mapbox": {
           "style": "light"
          },
          "paper_bgcolor": "white",
          "plot_bgcolor": "#E5ECF6",
          "polar": {
           "angularaxis": {
            "gridcolor": "white",
            "linecolor": "white",
            "ticks": ""
           },
           "bgcolor": "#E5ECF6",
           "radialaxis": {
            "gridcolor": "white",
            "linecolor": "white",
            "ticks": ""
           }
          },
          "scene": {
           "xaxis": {
            "backgroundcolor": "#E5ECF6",
            "gridcolor": "white",
            "gridwidth": 2,
            "linecolor": "white",
            "showbackground": true,
            "ticks": "",
            "zerolinecolor": "white"
           },
           "yaxis": {
            "backgroundcolor": "#E5ECF6",
            "gridcolor": "white",
            "gridwidth": 2,
            "linecolor": "white",
            "showbackground": true,
            "ticks": "",
            "zerolinecolor": "white"
           },
           "zaxis": {
            "backgroundcolor": "#E5ECF6",
            "gridcolor": "white",
            "gridwidth": 2,
            "linecolor": "white",
            "showbackground": true,
            "ticks": "",
            "zerolinecolor": "white"
           }
          },
          "shapedefaults": {
           "line": {
            "color": "#2a3f5f"
           }
          },
          "ternary": {
           "aaxis": {
            "gridcolor": "white",
            "linecolor": "white",
            "ticks": ""
           },
           "baxis": {
            "gridcolor": "white",
            "linecolor": "white",
            "ticks": ""
           },
           "bgcolor": "#E5ECF6",
           "caxis": {
            "gridcolor": "white",
            "linecolor": "white",
            "ticks": ""
           }
          },
          "title": {
           "x": 0.05
          },
          "xaxis": {
           "automargin": true,
           "gridcolor": "white",
           "linecolor": "white",
           "ticks": "",
           "title": {
            "standoff": 15
           },
           "zerolinecolor": "white",
           "zerolinewidth": 2
          },
          "yaxis": {
           "automargin": true,
           "gridcolor": "white",
           "linecolor": "white",
           "ticks": "",
           "title": {
            "standoff": 15
           },
           "zerolinecolor": "white",
           "zerolinewidth": 2
          }
         }
        },
        "title": {
         "text": "3D Odometry Trajectory (left, gradient alpha)"
        }
       }
      }
     },
     "metadata": {},
     "output_type": "display_data"
    }
   ],
   "source": [
    "import plotly.graph_objs as go\n",
    "import numpy as np\n",
    "\n",
    "trajectory_3d_np = np.array(trajectory_3d)\n",
    "fig = go.Figure()\n",
    "\n",
    "n = len(trajectory_3d_np)\n",
    "for i in range(n - 1):\n",
    "    alpha = 0.8 * (1 - i / (n - 1))\n",
    "    fig.add_trace(\n",
    "        go.Scatter3d(\n",
    "            x=trajectory_3d_np[i : i + 2, 0],\n",
    "            y=trajectory_3d_np[i : i + 2, 1],\n",
    "            z=-trajectory_3d_np[i : i + 2, 2],\n",
    "            mode=\"lines\",\n",
    "            line=dict(color=\"green\", width=4),\n",
    "            opacity=alpha,\n",
    "            showlegend=False,\n",
    "        )\n",
    "    )\n",
    "\n",
    "fig.update_layout(\n",
    "    scene=dict(xaxis_title=\"X\", yaxis_title=\"Y\", zaxis_title=\"Z\"),\n",
    "    title=\"3D Odometry Trajectory (left, gradient alpha)\",\n",
    ")\n",
    "fig.show()"
   ]
  },
  {
   "cell_type": "code",
   "execution_count": 60,
   "id": "b4b38cac",
   "metadata": {},
   "outputs": [],
   "source": [
    "prev_img = None\n",
    "cur_R = T_rgb[:3, :3]\n",
    "cur_t = T_rgb[:3, 3].reshape(3, 1)\n",
    "trajectory_3d = []\n",
    "with h5py.File(FILE_PATH, \"r\") as file:\n",
    "    rgb_dataset = file[\"ovc\"][\"rgb\"][\"data\"]\n",
    "    num_images = rgb_dataset.shape[0]\n",
    "    # 150\n",
    "    for i in range(150,num_images-60):\n",
    "        rgb = rgb_dataset[i]\n",
    "        rgb = np.array(rgb, dtype=np.uint8)\n",
    "        gray = cv2.cvtColor(rgb, cv2.COLOR_RGB2GRAY)\n",
    "        odom(gray, K_rgb, 75)\n",
    "        cv2.imshow(\"Grayscale OVC Image\", gray)\n",
    "        if cv2.waitKey(1) & 0xFF == ord(\"q\"):\n",
    "            break\n",
    "\n",
    "cv2.destroyAllWindows()"
   ]
  },
  {
   "cell_type": "code",
   "execution_count": 62,
   "id": "12a167c3",
   "metadata": {},
   "outputs": [
    {
     "data": {
      "application/vnd.plotly.v1+json": {
       "config": {
        "plotlyServerURL": "https://plot.ly"
       },
       "data": [
        {
         "line": {
          "color": "green",
          "width": 4
         },
         "mode": "lines",
         "opacity": 0.8,
         "showlegend": false,
         "type": "scatter3d",
         "x": {
          "bdata": "pRW1DdAgSMD4DkIvXQRIwA==",
          "dtype": "f8"
         },
         "y": {
          "bdata": "dAhp9591RED0YLjIK5lDQA==",
          "dtype": "f8"
         },
         "z": {
          "bdata": "2QLEzswna0CqwlY/jp1rQA==",
          "dtype": "f8"
         }
        },
        {
         "line": {
          "color": "green",
          "width": 4
         },
         "mode": "lines",
         "opacity": 0.791919191919192,
         "showlegend": false,
         "type": "scatter3d",
         "x": {
          "bdata": "+A5CL10ESMBUxlKMiNlHwA==",
          "dtype": "f8"
         },
         "y": {
          "bdata": "9GC4yCuZQ0AVobhIEwJDQA==",
          "dtype": "f8"
         },
         "z": {
          "bdata": "qsJWP46da0Bb8g5RlLdrQA==",
          "dtype": "f8"
         }
        },
        {
         "line": {
          "color": "green",
          "width": 4
         },
         "mode": "lines",
         "opacity": 0.7838383838383839,
         "showlegend": false,
         "type": "scatter3d",
         "x": {
          "bdata": "VMZSjIjZR8AdlWYGdG5IwA==",
          "dtype": "f8"
         },
         "y": {
          "bdata": "FaG4SBMCQ0DVGQBmpnxDQA==",
          "dtype": "f8"
         },
         "z": {
          "bdata": "W/IOUZS3a0BKKvpQta1rQA==",
          "dtype": "f8"
         }
        },
        {
         "line": {
          "color": "green",
          "width": 4
         },
         "mode": "lines",
         "opacity": 0.7757575757575759,
         "showlegend": false,
         "type": "scatter3d",
         "x": {
          "bdata": "HZVmBnRuSMD9/Ajba4NIwA==",
          "dtype": "f8"
         },
         "y": {
          "bdata": "1RkAZqZ8Q0BFzwnWcYNDQA==",
          "dtype": "f8"
         },
         "z": {
          "bdata": "Sir6ULWta0DTdBGc9qFrQA==",
          "dtype": "f8"
         }
        },
        {
         "line": {
          "color": "green",
          "width": 4
         },
         "mode": "lines",
         "opacity": 0.7676767676767677,
         "showlegend": false,
         "type": "scatter3d",
         "x": {
          "bdata": "/fwI22uDSMAQ0Cj2ihFJwA==",
          "dtype": "f8"
         },
         "y": {
          "bdata": "Rc8J1nGDQ0CIvbr624lEQA==",
          "dtype": "f8"
         },
         "z": {
          "bdata": "03QRnPaha0AZHgQKPfdrQA==",
          "dtype": "f8"
         }
        },
        {
         "line": {
          "color": "green",
          "width": 4
         },
         "mode": "lines",
         "opacity": 0.7595959595959596,
         "showlegend": false,
         "type": "scatter3d",
         "x": {
          "bdata": "ENAo9ooRScBBFGNd91BJwA==",
          "dtype": "f8"
         },
         "y": {
          "bdata": "iL26+tuJRECw3CNIuGdEQA==",
          "dtype": "f8"
         },
         "z": {
          "bdata": "GR4ECj33a0By5TIPwNhrQA==",
          "dtype": "f8"
         }
        },
        {
         "line": {
          "color": "green",
          "width": 4
         },
         "mode": "lines",
         "opacity": 0.7515151515151516,
         "showlegend": false,
         "type": "scatter3d",
         "x": {
          "bdata": "QRRjXfdQScCZDPu/Y4NJwA==",
          "dtype": "f8"
         },
         "y": {
          "bdata": "sNwjSLhnREBkmBbei8dEQA==",
          "dtype": "f8"
         },
         "z": {
          "bdata": "cuUyD8DYa0CXNMM2EPJrQA==",
          "dtype": "f8"
         }
        },
        {
         "line": {
          "color": "green",
          "width": 4
         },
         "mode": "lines",
         "opacity": 0.7434343434343434,
         "showlegend": false,
         "type": "scatter3d",
         "x": {
          "bdata": "mQz7v2ODScDcIswXxYNKwA==",
          "dtype": "f8"
         },
         "y": {
          "bdata": "ZJgW3ovHRECnMPzihGFEQA==",
          "dtype": "f8"
         },
         "z": {
          "bdata": "lzTDNhDya0BoNHYGkf5rQA==",
          "dtype": "f8"
         }
        },
        {
         "line": {
          "color": "green",
          "width": 4
         },
         "mode": "lines",
         "opacity": 0.7353535353535354,
         "showlegend": false,
         "type": "scatter3d",
         "x": {
          "bdata": "3CLMF8WDSsDNDhWD46BKwA==",
          "dtype": "f8"
         },
         "y": {
          "bdata": "pzD84oRhREAhCSXKv4dFQA==",
          "dtype": "f8"
         },
         "z": {
          "bdata": "aDR2BpH+a0C0BJBCUOdrQA==",
          "dtype": "f8"
         }
        },
        {
         "line": {
          "color": "green",
          "width": 4
         },
         "mode": "lines",
         "opacity": 0.7272727272727273,
         "showlegend": false,
         "type": "scatter3d",
         "x": {
          "bdata": "zQ4Vg+OgSsBnOFGPIVFLwA==",
          "dtype": "f8"
         },
         "y": {
          "bdata": "IQklyr+HRUCfWkqQAddEQA==",
          "dtype": "f8"
         },
         "z": {
          "bdata": "tASQQlDna0A/fJooxs1rQA==",
          "dtype": "f8"
         }
        },
        {
         "line": {
          "color": "green",
          "width": 4
         },
         "mode": "lines",
         "opacity": 0.7191919191919193,
         "showlegend": false,
         "type": "scatter3d",
         "x": {
          "bdata": "ZzhRjyFRS8DQnQSg47hKwA==",
          "dtype": "f8"
         },
         "y": {
          "bdata": "n1pKkAHXRECdDS1/NlNFQA==",
          "dtype": "f8"
         },
         "z": {
          "bdata": "P3yaKMbNa0A96Fxbg71rQA==",
          "dtype": "f8"
         }
        },
        {
         "line": {
          "color": "green",
          "width": 4
         },
         "mode": "lines",
         "opacity": 0.7111111111111111,
         "showlegend": false,
         "type": "scatter3d",
         "x": {
          "bdata": "0J0EoOO4SsCPsx5/KyVLwA==",
          "dtype": "f8"
         },
         "y": {
          "bdata": "nQ0tfzZTRUCDzo+gCnZFQA==",
          "dtype": "f8"
         },
         "z": {
          "bdata": "PehcW4O9a0AXg7lj5cBrQA==",
          "dtype": "f8"
         }
        },
        {
         "line": {
          "color": "green",
          "width": 4
         },
         "mode": "lines",
         "opacity": 0.7030303030303031,
         "showlegend": false,
         "type": "scatter3d",
         "x": {
          "bdata": "j7MefyslS8C3NviFDw5LwA==",
          "dtype": "f8"
         },
         "y": {
          "bdata": "g86PoAp2RUDcfb6jJixFQA==",
          "dtype": "f8"
         },
         "z": {
          "bdata": "F4O5Y+XAa0AA9bUvTaNrQA==",
          "dtype": "f8"
         }
        },
        {
         "line": {
          "color": "green",
          "width": 4
         },
         "mode": "lines",
         "opacity": 0.694949494949495,
         "showlegend": false,
         "type": "scatter3d",
         "x": {
          "bdata": "tzb4hQ8OS8AVw5A2s9hKwA==",
          "dtype": "f8"
         },
         "y": {
          "bdata": "3H2+oyYsRUAhfh9eZ85EQA==",
          "dtype": "f8"
         },
         "z": {
          "bdata": "APW1L02ja0A+AYtEZI5rQA==",
          "dtype": "f8"
         }
        },
        {
         "line": {
          "color": "green",
          "width": 4
         },
         "mode": "lines",
         "opacity": 0.6868686868686869,
         "showlegend": false,
         "type": "scatter3d",
         "x": {
          "bdata": "FcOQNrPYSsAzBMiVauVKwA==",
          "dtype": "f8"
         },
         "y": {
          "bdata": "IX4fXmfOREB6MiM0lmtFQA==",
          "dtype": "f8"
         },
         "z": {
          "bdata": "PgGLRGSOa0D7gcovBZFrQA==",
          "dtype": "f8"
         }
        },
        {
         "line": {
          "color": "green",
          "width": 4
         },
         "mode": "lines",
         "opacity": 0.6787878787878788,
         "showlegend": false,
         "type": "scatter3d",
         "x": {
          "bdata": "MwTIlWrlSsA7Mt4bCZVKwA==",
          "dtype": "f8"
         },
         "y": {
          "bdata": "ejIjNJZrRUC33QVwOmBFQA==",
          "dtype": "f8"
         },
         "z": {
          "bdata": "+4HKLwWRa0BvVWq1v59rQA==",
          "dtype": "f8"
         }
        },
        {
         "line": {
          "color": "green",
          "width": 4
         },
         "mode": "lines",
         "opacity": 0.6707070707070707,
         "showlegend": false,
         "type": "scatter3d",
         "x": {
          "bdata": "OzLeGwmVSsD7sdVQ/I1KwA==",
          "dtype": "f8"
         },
         "y": {
          "bdata": "t90FcDpgRUCRwGWBWFlGQA==",
          "dtype": "f8"
         },
         "z": {
          "bdata": "b1Vqtb+fa0DPFDy3ZnhrQA==",
          "dtype": "f8"
         }
        },
        {
         "line": {
          "color": "green",
          "width": 4
         },
         "mode": "lines",
         "opacity": 0.6626262626262627,
         "showlegend": false,
         "type": "scatter3d",
         "x": {
          "bdata": "+7HVUPyNSsBHq6WSFw9LwA==",
          "dtype": "f8"
         },
         "y": {
          "bdata": "kcBlgVhZRkCXD01oTWdGQA==",
          "dtype": "f8"
         },
         "z": {
          "bdata": "zxQ8t2Z4a0Aau2Nv375rQA==",
          "dtype": "f8"
         }
        },
        {
         "line": {
          "color": "green",
          "width": 4
         },
         "mode": "lines",
         "opacity": 0.6545454545454545,
         "showlegend": false,
         "type": "scatter3d",
         "x": {
          "bdata": "R6ulkhcPS8BPP1LpOrVKwA==",
          "dtype": "f8"
         },
         "y": {
          "bdata": "lw9NaE1nRkDxUUijT5pFQA==",
          "dtype": "f8"
         },
         "z": {
          "bdata": "Grtjb9++a0Ac7P7hJoBrQA==",
          "dtype": "f8"
         }
        },
        {
         "line": {
          "color": "green",
          "width": 4
         },
         "mode": "lines",
         "opacity": 0.6464646464646465,
         "showlegend": false,
         "type": "scatter3d",
         "x": {
          "bdata": "Tz9S6Tq1SsDTqXJmUXdKwA==",
          "dtype": "f8"
         },
         "y": {
          "bdata": "8VFIo0+aRUB4vJYJqtBFQA==",
          "dtype": "f8"
         },
         "z": {
          "bdata": "HOz+4SaAa0CSx8lvUGhrQA==",
          "dtype": "f8"
         }
        },
        {
         "line": {
          "color": "green",
          "width": 4
         },
         "mode": "lines",
         "opacity": 0.6383838383838385,
         "showlegend": false,
         "type": "scatter3d",
         "x": {
          "bdata": "06lyZlF3SsDB+by6I15KwA==",
          "dtype": "f8"
         },
         "y": {
          "bdata": "eLyWCarQRUBXqnDGsJNFQA==",
          "dtype": "f8"
         },
         "z": {
          "bdata": "ksfJb1Boa0DWA6Jo6ztrQA==",
          "dtype": "f8"
         }
        },
        {
         "line": {
          "color": "green",
          "width": 4
         },
         "mode": "lines",
         "opacity": 0.6303030303030304,
         "showlegend": false,
         "type": "scatter3d",
         "x": {
          "bdata": "wfm8uiNeSsDjJeI7pgBLwA==",
          "dtype": "f8"
         },
         "y": {
          "bdata": "V6pwxrCTRUDoufAUA2dFQA==",
          "dtype": "f8"
         },
         "z": {
          "bdata": "1gOiaOs7a0B4U21Td2drQA==",
          "dtype": "f8"
         }
        },
        {
         "line": {
          "color": "green",
          "width": 4
         },
         "mode": "lines",
         "opacity": 0.6222222222222222,
         "showlegend": false,
         "type": "scatter3d",
         "x": {
          "bdata": "4yXiO6YAS8Cs7k06CIZLwA==",
          "dtype": "f8"
         },
         "y": {
          "bdata": "6LnwFANnRUA0tQqzCJ9FQA==",
          "dtype": "f8"
         },
         "z": {
          "bdata": "eFNtU3dna0BRaCwLvYVrQA==",
          "dtype": "f8"
         }
        },
        {
         "line": {
          "color": "green",
          "width": 4
         },
         "mode": "lines",
         "opacity": 0.6141414141414142,
         "showlegend": false,
         "type": "scatter3d",
         "x": {
          "bdata": "rO5NOgiGS8BK3rvbEJ1LwA==",
          "dtype": "f8"
         },
         "y": {
          "bdata": "NLUKswifRUA3GZ6Vje9FQA==",
          "dtype": "f8"
         },
         "z": {
          "bdata": "UWgsC72Fa0BoS+Q08qdrQA==",
          "dtype": "f8"
         }
        },
        {
         "line": {
          "color": "green",
          "width": 4
         },
         "mode": "lines",
         "opacity": 0.6060606060606061,
         "showlegend": false,
         "type": "scatter3d",
         "x": {
          "bdata": "St672xCdS8BP87ayoeRKwA==",
          "dtype": "f8"
         },
         "y": {
          "bdata": "NxmelY3vRUC4SFzuwlxGQA==",
          "dtype": "f8"
         },
         "z": {
          "bdata": "aEvkNPKna0DUo3278ZprQA==",
          "dtype": "f8"
         }
        },
        {
         "line": {
          "color": "green",
          "width": 4
         },
         "mode": "lines",
         "opacity": 0.597979797979798,
         "showlegend": false,
         "type": "scatter3d",
         "x": {
          "bdata": "T/O2sqHkSsC7RJPASrtJwA==",
          "dtype": "f8"
         },
         "y": {
          "bdata": "uEhc7sJcRkBAODn+MilGQA==",
          "dtype": "f8"
         },
         "z": {
          "bdata": "1KN9u/Gaa0B3E5jDAG1rQA==",
          "dtype": "f8"
         }
        },
        {
         "line": {
          "color": "green",
          "width": 4
         },
         "mode": "lines",
         "opacity": 0.5898989898989899,
         "showlegend": false,
         "type": "scatter3d",
         "x": {
          "bdata": "u0STwEq7ScB/5VJAV9VJwA==",
          "dtype": "f8"
         },
         "y": {
          "bdata": "QDg5/jIpRkBTHFtNS0BFQA==",
          "dtype": "f8"
         },
         "z": {
          "bdata": "dxOYwwBta0CjGl7bwclrQA==",
          "dtype": "f8"
         }
        },
        {
         "line": {
          "color": "green",
          "width": 4
         },
         "mode": "lines",
         "opacity": 0.5818181818181819,
         "showlegend": false,
         "type": "scatter3d",
         "x": {
          "bdata": "f+VSQFfVScCo3X9M8RdJwA==",
          "dtype": "f8"
         },
         "y": {
          "bdata": "UxxbTUtARUB+qEDkfuBFQA==",
          "dtype": "f8"
         },
         "z": {
          "bdata": "oxpe28HJa0A07WUlitprQA==",
          "dtype": "f8"
         }
        },
        {
         "line": {
          "color": "green",
          "width": 4
         },
         "mode": "lines",
         "opacity": 0.5737373737373738,
         "showlegend": false,
         "type": "scatter3d",
         "x": {
          "bdata": "qN1/TPEXScC4h3kNP3xJwA==",
          "dtype": "f8"
         },
         "y": {
          "bdata": "fqhA5H7gRUARcApI+UVGQA==",
          "dtype": "f8"
         },
         "z": {
          "bdata": "NO1lJYraa0ANUsI83MprQA==",
          "dtype": "f8"
         }
        },
        {
         "line": {
          "color": "green",
          "width": 4
         },
         "mode": "lines",
         "opacity": 0.5656565656565656,
         "showlegend": false,
         "type": "scatter3d",
         "x": {
          "bdata": "uId5DT98ScDNjHyFlJdJwA==",
          "dtype": "f8"
         },
         "y": {
          "bdata": "EXAKSPlFRkB3Ofv/XhhGQA==",
          "dtype": "f8"
         },
         "z": {
          "bdata": "DVLCPNzKa0AH/pLgg+1rQA==",
          "dtype": "f8"
         }
        },
        {
         "line": {
          "color": "green",
          "width": 4
         },
         "mode": "lines",
         "opacity": 0.5575757575757576,
         "showlegend": false,
         "type": "scatter3d",
         "x": {
          "bdata": "zYx8hZSXScAz39oH1pNKwA==",
          "dtype": "f8"
         },
         "y": {
          "bdata": "dzn7/14YRkBvJch1bH1GQA==",
          "dtype": "f8"
         },
         "z": {
          "bdata": "B/6S4IPta0DVA/3U9hFsQA==",
          "dtype": "f8"
         }
        },
        {
         "line": {
          "color": "green",
          "width": 4
         },
         "mode": "lines",
         "opacity": 0.5494949494949495,
         "showlegend": false,
         "type": "scatter3d",
         "x": {
          "bdata": "M9/aB9aTSsA5KSXZxsJKwA==",
          "dtype": "f8"
         },
         "y": {
          "bdata": "byXIdWx9RkCuYObugJZGQA==",
          "dtype": "f8"
         },
         "z": {
          "bdata": "1QP91PYRbEAjcA8zLdxrQA==",
          "dtype": "f8"
         }
        },
        {
         "line": {
          "color": "green",
          "width": 4
         },
         "mode": "lines",
         "opacity": 0.5414141414141413,
         "showlegend": false,
         "type": "scatter3d",
         "x": {
          "bdata": "OSkl2cbCSsAmYC+cinZKwA==",
          "dtype": "f8"
         },
         "y": {
          "bdata": "rmDm7oCWRkBpuvk4LdFGQA==",
          "dtype": "f8"
         },
         "z": {
          "bdata": "I3APMy3ca0DwZ6Dt1BtsQA==",
          "dtype": "f8"
         }
        },
        {
         "line": {
          "color": "green",
          "width": 4
         },
         "mode": "lines",
         "opacity": 0.5333333333333334,
         "showlegend": false,
         "type": "scatter3d",
         "x": {
          "bdata": "JmAvnIp2SsBBOosgHXxJwA==",
          "dtype": "f8"
         },
         "y": {
          "bdata": "abr5OC3RRkC5CeGRR5JIQA==",
          "dtype": "f8"
         },
         "z": {
          "bdata": "8Geg7dQbbECZ7mMqgg1sQA==",
          "dtype": "f8"
         }
        },
        {
         "line": {
          "color": "green",
          "width": 4
         },
         "mode": "lines",
         "opacity": 0.5252525252525253,
         "showlegend": false,
         "type": "scatter3d",
         "x": {
          "bdata": "QTqLIB18ScAGLxunVZpJwA==",
          "dtype": "f8"
         },
         "y": {
          "bdata": "uQnhkUeSSEDJlKnTpZdIQA==",
          "dtype": "f8"
         },
         "z": {
          "bdata": "me5jKoINbECgyd2sRytsQA==",
          "dtype": "f8"
         }
        },
        {
         "line": {
          "color": "green",
          "width": 4
         },
         "mode": "lines",
         "opacity": 0.5171717171717172,
         "showlegend": false,
         "type": "scatter3d",
         "x": {
          "bdata": "Bi8bp1WaScBT8tTVUC9KwA==",
          "dtype": "f8"
         },
         "y": {
          "bdata": "yZSp06WXSECtpZNM20lIQA==",
          "dtype": "f8"
         },
         "z": {
          "bdata": "oMndrEcrbEAMGOel3SdsQA==",
          "dtype": "f8"
         }
        },
        {
         "line": {
          "color": "green",
          "width": 4
         },
         "mode": "lines",
         "opacity": 0.5090909090909091,
         "showlegend": false,
         "type": "scatter3d",
         "x": {
          "bdata": "U/LU1VAvSsDzqLaiHwFKwA==",
          "dtype": "f8"
         },
         "y": {
          "bdata": "raWTTNtJSECl8FouRc9HQA==",
          "dtype": "f8"
         },
         "z": {
          "bdata": "DBjnpd0nbEDJbUeLC95rQA==",
          "dtype": "f8"
         }
        },
        {
         "line": {
          "color": "green",
          "width": 4
         },
         "mode": "lines",
         "opacity": 0.501010101010101,
         "showlegend": false,
         "type": "scatter3d",
         "x": {
          "bdata": "86i2oh8BSsAOPrx9QjJKwA==",
          "dtype": "f8"
         },
         "y": {
          "bdata": "pfBaLkXPR0CMll2vzxBIQA==",
          "dtype": "f8"
         },
         "z": {
          "bdata": "yW1Hiwvea0DEzpksih1sQA==",
          "dtype": "f8"
         }
        },
        {
         "line": {
          "color": "green",
          "width": 4
         },
         "mode": "lines",
         "opacity": 0.49292929292929294,
         "showlegend": false,
         "type": "scatter3d",
         "x": {
          "bdata": "Dj68fUIySsDiHjdKN2NKwA==",
          "dtype": "f8"
         },
         "y": {
          "bdata": "jJZdr88QSEA5C6eAznJIQA==",
          "dtype": "f8"
         },
         "z": {
          "bdata": "xM6ZLIodbEDjp1OJt0ZsQA==",
          "dtype": "f8"
         }
        },
        {
         "line": {
          "color": "green",
          "width": 4
         },
         "mode": "lines",
         "opacity": 0.48484848484848486,
         "showlegend": false,
         "type": "scatter3d",
         "x": {
          "bdata": "4h43SjdjSsCQ5Z3Q1JxKwA==",
          "dtype": "f8"
         },
         "y": {
          "bdata": "OQungM5ySEDLDvow679HQA==",
          "dtype": "f8"
         },
         "z": {
          "bdata": "46dTibdGbEAgXl2jSTRsQA==",
          "dtype": "f8"
         }
        },
        {
         "line": {
          "color": "green",
          "width": 4
         },
         "mode": "lines",
         "opacity": 0.47676767676767684,
         "showlegend": false,
         "type": "scatter3d",
         "x": {
          "bdata": "kOWd0NScSsBkZW08wCBLwA==",
          "dtype": "f8"
         },
         "y": {
          "bdata": "yw76MOu/R0DNSxnQzM1GQA==",
          "dtype": "f8"
         },
         "z": {
          "bdata": "IF5do0k0bEDZ/obMihFsQA==",
          "dtype": "f8"
         }
        },
        {
         "line": {
          "color": "green",
          "width": 4
         },
         "mode": "lines",
         "opacity": 0.4686868686868687,
         "showlegend": false,
         "type": "scatter3d",
         "x": {
          "bdata": "ZGVtPMAgS8B9/ROvpCZLwA==",
          "dtype": "f8"
         },
         "y": {
          "bdata": "zUsZ0MzNRkCv7z2UIQxGQA==",
          "dtype": "f8"
         },
         "z": {
          "bdata": "2f6GzIoRbEBAaVoFmk1sQA==",
          "dtype": "f8"
         }
        },
        {
         "line": {
          "color": "green",
          "width": 4
         },
         "mode": "lines",
         "opacity": 0.4606060606060606,
         "showlegend": false,
         "type": "scatter3d",
         "x": {
          "bdata": "ff0Tr6QmS8AdC+AzLkJKwA==",
          "dtype": "f8"
         },
         "y": {
          "bdata": "r+89lCEMRkAlegAWb3dFQA==",
          "dtype": "f8"
         },
         "z": {
          "bdata": "QGlaBZpNbEC1hD/inlVsQA==",
          "dtype": "f8"
         }
        },
        {
         "line": {
          "color": "green",
          "width": 4
         },
         "mode": "lines",
         "opacity": 0.45252525252525255,
         "showlegend": false,
         "type": "scatter3d",
         "x": {
          "bdata": "HQvgMy5CSsAzTKEaob9KwA==",
          "dtype": "f8"
         },
         "y": {
          "bdata": "JXoAFm93RUCfWrJ9WWhFQA==",
          "dtype": "f8"
         },
         "z": {
          "bdata": "tYQ/4p5VbEBeSPMvdG1sQA==",
          "dtype": "f8"
         }
        },
        {
         "line": {
          "color": "green",
          "width": 4
         },
         "mode": "lines",
         "opacity": 0.4444444444444445,
         "showlegend": false,
         "type": "scatter3d",
         "x": {
          "bdata": "M0yhGqG/SsBMcTexDupKwA==",
          "dtype": "f8"
         },
         "y": {
          "bdata": "n1qyfVloRUDrJZ09htFFQA==",
          "dtype": "f8"
         },
         "z": {
          "bdata": "XkjzL3RtbEDSjvEj6XFsQA==",
          "dtype": "f8"
         }
        },
        {
         "line": {
          "color": "green",
          "width": 4
         },
         "mode": "lines",
         "opacity": 0.43636363636363634,
         "showlegend": false,
         "type": "scatter3d",
         "x": {
          "bdata": "THE3sQ7qSsDRWJVAymZMwA==",
          "dtype": "f8"
         },
         "y": {
          "bdata": "6yWdPYbRRUDtMZv1GiFGQA==",
          "dtype": "f8"
         },
         "z": {
          "bdata": "0o7xI+lxbEBzpRvXIqdsQA==",
          "dtype": "f8"
         }
        },
        {
         "line": {
          "color": "green",
          "width": 4
         },
         "mode": "lines",
         "opacity": 0.4282828282828283,
         "showlegend": false,
         "type": "scatter3d",
         "x": {
          "bdata": "0ViVQMpmTMCmVOovq2tNwA==",
          "dtype": "f8"
         },
         "y": {
          "bdata": "7TGb9RohRkCA/WXUsLdFQA==",
          "dtype": "f8"
         },
         "z": {
          "bdata": "c6Ub1yKnbECEmy6o01FsQA==",
          "dtype": "f8"
         }
        },
        {
         "line": {
          "color": "green",
          "width": 4
         },
         "mode": "lines",
         "opacity": 0.42020202020202024,
         "showlegend": false,
         "type": "scatter3d",
         "x": {
          "bdata": "plTqL6trTcBhATTOxQlNwA==",
          "dtype": "f8"
         },
         "y": {
          "bdata": "gP1l1LC3RUDpx2g/jDtFQA==",
          "dtype": "f8"
         },
         "z": {
          "bdata": "hJsuqNNRbECZvDpJSFNsQA==",
          "dtype": "f8"
         }
        },
        {
         "line": {
          "color": "green",
          "width": 4
         },
         "mode": "lines",
         "opacity": 0.4121212121212121,
         "showlegend": false,
         "type": "scatter3d",
         "x": {
          "bdata": "YQE0zsUJTcBql2ZJ51tNwA==",
          "dtype": "f8"
         },
         "y": {
          "bdata": "6cdoP4w7RUCwHaCc4jFFQA==",
          "dtype": "f8"
         },
         "z": {
          "bdata": "mbw6SUhTbEBnLbEkxC1sQA==",
          "dtype": "f8"
         }
        },
        {
         "line": {
          "color": "green",
          "width": 4
         },
         "mode": "lines",
         "opacity": 0.404040404040404,
         "showlegend": false,
         "type": "scatter3d",
         "x": {
          "bdata": "apdmSedbTcA/esG5FaxMwA==",
          "dtype": "f8"
         },
         "y": {
          "bdata": "sB2gnOIxRUC8sg9PJ8hFQA==",
          "dtype": "f8"
         },
         "z": {
          "bdata": "Zy2xJMQtbEBG25Am2y1sQA==",
          "dtype": "f8"
         }
        },
        {
         "line": {
          "color": "green",
          "width": 4
         },
         "mode": "lines",
         "opacity": 0.39595959595959596,
         "showlegend": false,
         "type": "scatter3d",
         "x": {
          "bdata": "P3rBuRWsTMDGtExb2DtMwA==",
          "dtype": "f8"
         },
         "y": {
          "bdata": "vLIPTyfIRUAOtMpuCo5FQA==",
          "dtype": "f8"
         },
         "z": {
          "bdata": "RtuQJtstbEB3pOfpIz1sQA==",
          "dtype": "f8"
         }
        },
        {
         "line": {
          "color": "green",
          "width": 4
         },
         "mode": "lines",
         "opacity": 0.38787878787878793,
         "showlegend": false,
         "type": "scatter3d",
         "x": {
          "bdata": "xrRMW9g7TMAVqbaubMxKwA==",
          "dtype": "f8"
         },
         "y": {
          "bdata": "DrTKbgqORUCpjjkWm7dGQA==",
          "dtype": "f8"
         },
         "z": {
          "bdata": "d6Tn6SM9bECwfvnm0XNsQA==",
          "dtype": "f8"
         }
        },
        {
         "line": {
          "color": "green",
          "width": 4
         },
         "mode": "lines",
         "opacity": 0.3797979797979798,
         "showlegend": false,
         "type": "scatter3d",
         "x": {
          "bdata": "Fam2rmzMSsBAUbtqw8BKwA==",
          "dtype": "f8"
         },
         "y": {
          "bdata": "qY45Fpu3RkB/xntsTGxGQA==",
          "dtype": "f8"
         },
         "z": {
          "bdata": "sH755tFzbEA7gF0JOTJsQA==",
          "dtype": "f8"
         }
        },
        {
         "line": {
          "color": "green",
          "width": 4
         },
         "mode": "lines",
         "opacity": 0.3717171717171717,
         "showlegend": false,
         "type": "scatter3d",
         "x": {
          "bdata": "QFG7asPASsBPu5ijGbBLwA==",
          "dtype": "f8"
         },
         "y": {
          "bdata": "f8Z7bExsRkAeZUHI1vpFQA==",
          "dtype": "f8"
         },
         "z": {
          "bdata": "O4BdCTkybECFC7uU6yZsQA==",
          "dtype": "f8"
         }
        },
        {
         "line": {
          "color": "green",
          "width": 4
         },
         "mode": "lines",
         "opacity": 0.3636363636363637,
         "showlegend": false,
         "type": "scatter3d",
         "x": {
          "bdata": "T7uYoxmwS8BJvcYSqypLwA==",
          "dtype": "f8"
         },
         "y": {
          "bdata": "HmVByNb6RUD775fYRS9FQA==",
          "dtype": "f8"
         },
         "z": {
          "bdata": "hQu7lOsmbEBq+3HQWApsQA==",
          "dtype": "f8"
         }
        },
        {
         "line": {
          "color": "green",
          "width": 4
         },
         "mode": "lines",
         "opacity": 0.35555555555555557,
         "showlegend": false,
         "type": "scatter3d",
         "x": {
          "bdata": "Sb3GEqsqS8D5w2RsOdFKwA==",
          "dtype": "f8"
         },
         "y": {
          "bdata": "+++X2EUvRUBuZKyYkdFEQA==",
          "dtype": "f8"
         },
         "z": {
          "bdata": "avtx0FgKbEDJYIBmn9JrQA==",
          "dtype": "f8"
         }
        },
        {
         "line": {
          "color": "green",
          "width": 4
         },
         "mode": "lines",
         "opacity": 0.3474747474747475,
         "showlegend": false,
         "type": "scatter3d",
         "x": {
          "bdata": "+cNkbDnRSsD9glfi1tdJwA==",
          "dtype": "f8"
         },
         "y": {
          "bdata": "bmSsmJHRRED1Z8mGBspEQA==",
          "dtype": "f8"
         },
         "z": {
          "bdata": "yWCAZp/Sa0BkUNwpA9trQA==",
          "dtype": "f8"
         }
        },
        {
         "line": {
          "color": "green",
          "width": 4
         },
         "mode": "lines",
         "opacity": 0.33939393939393936,
         "showlegend": false,
         "type": "scatter3d",
         "x": {
          "bdata": "/YJX4tbXScBWn6vu11NJwA==",
          "dtype": "f8"
         },
         "y": {
          "bdata": "9WfJhgbKRECMfQDv4pxFQA==",
          "dtype": "f8"
         },
         "z": {
          "bdata": "ZFDcKQPba0DCg+Dr+PxrQA==",
          "dtype": "f8"
         }
        },
        {
         "line": {
          "color": "green",
          "width": 4
         },
         "mode": "lines",
         "opacity": 0.33131313131313134,
         "showlegend": false,
         "type": "scatter3d",
         "x": {
          "bdata": "Vp+r7tdTScDzk2Ct/kZJwA==",
          "dtype": "f8"
         },
         "y": {
          "bdata": "jH0A7+KcRUDQV35vo8xFQA==",
          "dtype": "f8"
         },
         "z": {
          "bdata": "woPg6/j8a0DvFyh2IeVrQA==",
          "dtype": "f8"
         }
        },
        {
         "line": {
          "color": "green",
          "width": 4
         },
         "mode": "lines",
         "opacity": 0.3232323232323233,
         "showlegend": false,
         "type": "scatter3d",
         "x": {
          "bdata": "85Ngrf5GScCHOpWwhdFJwA==",
          "dtype": "f8"
         },
         "y": {
          "bdata": "0Fd+b6PMRUDhkgqEa2VGQA==",
          "dtype": "f8"
         },
         "z": {
          "bdata": "7xcodiHla0BY/L+kqApsQA==",
          "dtype": "f8"
         }
        },
        {
         "line": {
          "color": "green",
          "width": 4
         },
         "mode": "lines",
         "opacity": 0.3151515151515152,
         "showlegend": false,
         "type": "scatter3d",
         "x": {
          "bdata": "hzqVsIXRScBU4wOJfr1KwA==",
          "dtype": "f8"
         },
         "y": {
          "bdata": "4ZIKhGtlRkAq3BKYQpRGQA==",
          "dtype": "f8"
         },
         "z": {
          "bdata": "WPy/pKgKbED/Vkf9R0ZsQA==",
          "dtype": "f8"
         }
        },
        {
         "line": {
          "color": "green",
          "width": 4
         },
         "mode": "lines",
         "opacity": 0.3070707070707071,
         "showlegend": false,
         "type": "scatter3d",
         "x": {
          "bdata": "VOMDiX69SsBw9RkUX0lIwA==",
          "dtype": "f8"
         },
         "y": {
          "bdata": "KtwSmEKURkDCxfEEa4xGQA==",
          "dtype": "f8"
         },
         "z": {
          "bdata": "/1ZH/UdGbEACxuc4ZDlsQA==",
          "dtype": "f8"
         }
        },
        {
         "line": {
          "color": "green",
          "width": 4
         },
         "mode": "lines",
         "opacity": 0.298989898989899,
         "showlegend": false,
         "type": "scatter3d",
         "x": {
          "bdata": "cPUZFF9JSMAT2ZDcFMpHwA==",
          "dtype": "f8"
         },
         "y": {
          "bdata": "wsXxBGuMRkBc2w+W+JNGQA==",
          "dtype": "f8"
         },
         "z": {
          "bdata": "AsbnOGQ5bECqX2R/STdsQA==",
          "dtype": "f8"
         }
        },
        {
         "line": {
          "color": "green",
          "width": 4
         },
         "mode": "lines",
         "opacity": 0.29090909090909095,
         "showlegend": false,
         "type": "scatter3d",
         "x": {
          "bdata": "E9mQ3BTKR8CQ7QY5b9VGwA==",
          "dtype": "f8"
         },
         "y": {
          "bdata": "XNsPlviTRkDKIpJQ3cZGQA==",
          "dtype": "f8"
         },
         "z": {
          "bdata": "ql9kf0k3bECKbnkvxjJsQA==",
          "dtype": "f8"
         }
        },
        {
         "line": {
          "color": "green",
          "width": 4
         },
         "mode": "lines",
         "opacity": 0.2828282828282828,
         "showlegend": false,
         "type": "scatter3d",
         "x": {
          "bdata": "kO0GOW/VRsCLvBYKzWhFwA==",
          "dtype": "f8"
         },
         "y": {
          "bdata": "yiKSUN3GRkCtGkuSgt5GQA==",
          "dtype": "f8"
         },
         "z": {
          "bdata": "im55L8YybEAJf1PJ6ytsQA==",
          "dtype": "f8"
         }
        },
        {
         "line": {
          "color": "green",
          "width": 4
         },
         "mode": "lines",
         "opacity": 0.27474747474747474,
         "showlegend": false,
         "type": "scatter3d",
         "x": {
          "bdata": "i7wWCs1oRcBlQ5AsRTNGwA==",
          "dtype": "f8"
         },
         "y": {
          "bdata": "rRpLkoLeRkAN1krs2qFHQA==",
          "dtype": "f8"
         },
         "z": {
          "bdata": "CX9TyesrbEDw5jLLhkVsQA==",
          "dtype": "f8"
         }
        },
        {
         "line": {
          "color": "green",
          "width": 4
         },
         "mode": "lines",
         "opacity": 0.2666666666666667,
         "showlegend": false,
         "type": "scatter3d",
         "x": {
          "bdata": "ZUOQLEUzRsB64WtruwdGwA==",
          "dtype": "f8"
         },
         "y": {
          "bdata": "DdZK7NqhR0APKCSfG9xHQA==",
          "dtype": "f8"
         },
         "z": {
          "bdata": "8OYyy4ZFbEDATVIS/0VsQA==",
          "dtype": "f8"
         }
        },
        {
         "line": {
          "color": "green",
          "width": 4
         },
         "mode": "lines",
         "opacity": 0.2585858585858586,
         "showlegend": false,
         "type": "scatter3d",
         "x": {
          "bdata": "euFra7sHRsDGKRChd1dGwA==",
          "dtype": "f8"
         },
         "y": {
          "bdata": "DygknxvcR0BzMY07SP5HQA==",
          "dtype": "f8"
         },
         "z": {
          "bdata": "wE1SEv9FbEDCKkE+mjBsQA==",
          "dtype": "f8"
         }
        },
        {
         "line": {
          "color": "green",
          "width": 4
         },
         "mode": "lines",
         "opacity": 0.2505050505050505,
         "showlegend": false,
         "type": "scatter3d",
         "x": {
          "bdata": "xikQoXdXRsDT2u8KRypGwA==",
          "dtype": "f8"
         },
         "y": {
          "bdata": "czGNO0j+R0AnxEFA3gtJQA==",
          "dtype": "f8"
         },
         "z": {
          "bdata": "wipBPpowbECkB121MllsQA==",
          "dtype": "f8"
         }
        },
        {
         "line": {
          "color": "green",
          "width": 4
         },
         "mode": "lines",
         "opacity": 0.2424242424242424,
         "showlegend": false,
         "type": "scatter3d",
         "x": {
          "bdata": "09rvCkcqRsBkHugNhDdFwA==",
          "dtype": "f8"
         },
         "y": {
          "bdata": "J8RBQN4LSUCscuhOLixJQA==",
          "dtype": "f8"
         },
         "z": {
          "bdata": "pAddtTJZbECqwFobEmpsQA==",
          "dtype": "f8"
         }
        },
        {
         "line": {
          "color": "green",
          "width": 4
         },
         "mode": "lines",
         "opacity": 0.23434343434343435,
         "showlegend": false,
         "type": "scatter3d",
         "x": {
          "bdata": "ZB7oDYQ3RcBgAzsOEoFFwA==",
          "dtype": "f8"
         },
         "y": {
          "bdata": "rHLoTi4sSUAAPBAE0AtJQA==",
          "dtype": "f8"
         },
         "z": {
          "bdata": "qsBaGxJqbEA2wM9xFIZsQA==",
          "dtype": "f8"
         }
        },
        {
         "line": {
          "color": "green",
          "width": 4
         },
         "mode": "lines",
         "opacity": 0.2262626262626263,
         "showlegend": false,
         "type": "scatter3d",
         "x": {
          "bdata": "YAM7DhKBRcA0PHo58NRFwA==",
          "dtype": "f8"
         },
         "y": {
          "bdata": "ADwQBNALSUCbB2A1LEdJQA==",
          "dtype": "f8"
         },
         "z": {
          "bdata": "NsDPcRSGbEDoERQIMWtsQA==",
          "dtype": "f8"
         }
        },
        {
         "line": {
          "color": "green",
          "width": 4
         },
         "mode": "lines",
         "opacity": 0.21818181818181817,
         "showlegend": false,
         "type": "scatter3d",
         "x": {
          "bdata": "NDx6OfDURcBZjPiROCVFwA==",
          "dtype": "f8"
         },
         "y": {
          "bdata": "mwdgNSxHSUDwAUaszTRKQA==",
          "dtype": "f8"
         },
         "z": {
          "bdata": "6BEUCDFrbEAmFoW0Y1hsQA==",
          "dtype": "f8"
         }
        },
        {
         "line": {
          "color": "green",
          "width": 4
         },
         "mode": "lines",
         "opacity": 0.21010101010101012,
         "showlegend": false,
         "type": "scatter3d",
         "x": {
          "bdata": "WYz4kTglRcCpwe8DPyVGwA==",
          "dtype": "f8"
         },
         "y": {
          "bdata": "8AFGrM00SkCyMQEmydJKQA==",
          "dtype": "f8"
         },
         "z": {
          "bdata": "JhaFtGNYbEBZjaSsE3BsQA==",
          "dtype": "f8"
         }
        },
        {
         "line": {
          "color": "green",
          "width": 4
         },
         "mode": "lines",
         "opacity": 0.202020202020202,
         "showlegend": false,
         "type": "scatter3d",
         "x": {
          "bdata": "qcHvAz8lRsD8QngGfrZGwA==",
          "dtype": "f8"
         },
         "y": {
          "bdata": "sjEBJsnSSkAHlqVXUwpLQA==",
          "dtype": "f8"
         },
         "z": {
          "bdata": "WY2krBNwbEAGf/DkQlBsQA==",
          "dtype": "f8"
         }
        },
        {
         "line": {
          "color": "green",
          "width": 4
         },
         "mode": "lines",
         "opacity": 0.19393939393939397,
         "showlegend": false,
         "type": "scatter3d",
         "x": {
          "bdata": "/EJ4Bn62RsD7Pgew66dGwA==",
          "dtype": "f8"
         },
         "y": {
          "bdata": "B5alV1MKS0AfGKfBk6VKQA==",
          "dtype": "f8"
         },
         "z": {
          "bdata": "Bn/w5EJQbEDYMCu0oGdsQA==",
          "dtype": "f8"
         }
        },
        {
         "line": {
          "color": "green",
          "width": 4
         },
         "mode": "lines",
         "opacity": 0.18585858585858592,
         "showlegend": false,
         "type": "scatter3d",
         "x": {
          "bdata": "+z4HsOunRsAjiDAIfXhGwA==",
          "dtype": "f8"
         },
         "y": {
          "bdata": "HxinwZOlSkBompR6eUxLQA==",
          "dtype": "f8"
         },
         "z": {
          "bdata": "2DArtKBnbEAml4CIOClsQA==",
          "dtype": "f8"
         }
        },
        {
         "line": {
          "color": "green",
          "width": 4
         },
         "mode": "lines",
         "opacity": 0.17777777777777778,
         "showlegend": false,
         "type": "scatter3d",
         "x": {
          "bdata": "I4gwCH14RsAs1whIAfZHwA==",
          "dtype": "f8"
         },
         "y": {
          "bdata": "aJqUenlMS0AqK4eHjSZKQA==",
          "dtype": "f8"
         },
         "z": {
          "bdata": "JpeAiDgpbEBBUL+EoVNsQA==",
          "dtype": "f8"
         }
        },
        {
         "line": {
          "color": "green",
          "width": 4
         },
         "mode": "lines",
         "opacity": 0.16969696969696973,
         "showlegend": false,
         "type": "scatter3d",
         "x": {
          "bdata": "LNcISAH2R8ARwO0N3P1HwA==",
          "dtype": "f8"
         },
         "y": {
          "bdata": "KiuHh40mSkCrvk825GJKQA==",
          "dtype": "f8"
         },
         "z": {
          "bdata": "QVC/hKFTbEA/8B+zYVFsQA==",
          "dtype": "f8"
         }
        },
        {
         "line": {
          "color": "green",
          "width": 4
         },
         "mode": "lines",
         "opacity": 0.1616161616161616,
         "showlegend": false,
         "type": "scatter3d",
         "x": {
          "bdata": "EcDtDdz9R8BKazlhvxNIwA==",
          "dtype": "f8"
         },
         "y": {
          "bdata": "q75PNuRiSkAioHrsuQVJQA==",
          "dtype": "f8"
         },
         "z": {
          "bdata": "P/Afs2FRbEC0QwT2ak5sQA==",
          "dtype": "f8"
         }
        },
        {
         "line": {
          "color": "green",
          "width": 4
         },
         "mode": "lines",
         "opacity": 0.15353535353535355,
         "showlegend": false,
         "type": "scatter3d",
         "x": {
          "bdata": "Sms5Yb8TSMD95ZWH8xNIwA==",
          "dtype": "f8"
         },
         "y": {
          "bdata": "IqB67LkFSUBoXNZ+oKlIQA==",
          "dtype": "f8"
         },
         "z": {
          "bdata": "tEME9mpObEAnDB7x9G1sQA==",
          "dtype": "f8"
         }
        },
        {
         "line": {
          "color": "green",
          "width": 4
         },
         "mode": "lines",
         "opacity": 0.14545454545454542,
         "showlegend": false,
         "type": "scatter3d",
         "x": {
          "bdata": "/eWVh/MTSMAzXjFR07lHwA==",
          "dtype": "f8"
         },
         "y": {
          "bdata": "aFzWfqCpSEBMtf+TpohIQA==",
          "dtype": "f8"
         },
         "z": {
          "bdata": "Jwwe8fRtbEAPoW5UVktsQA==",
          "dtype": "f8"
         }
        },
        {
         "line": {
          "color": "green",
          "width": 4
         },
         "mode": "lines",
         "opacity": 0.13737373737373737,
         "showlegend": false,
         "type": "scatter3d",
         "x": {
          "bdata": "M14xUdO5R8DKrmc8GlpIwA==",
          "dtype": "f8"
         },
         "y": {
          "bdata": "TLX/k6aISECrrtkHjtZIQA==",
          "dtype": "f8"
         },
         "z": {
          "bdata": "D6FuVFZLbEATRoh3wWtsQA==",
          "dtype": "f8"
         }
        },
        {
         "line": {
          "color": "green",
          "width": 4
         },
         "mode": "lines",
         "opacity": 0.12929292929292932,
         "showlegend": false,
         "type": "scatter3d",
         "x": {
          "bdata": "yq5nPBpaSMD+binjxBxIwA==",
          "dtype": "f8"
         },
         "y": {
          "bdata": "q67ZB47WSECBvalcsNVIQA==",
          "dtype": "f8"
         },
         "z": {
          "bdata": "E0aId8FrbEAdoZQQh2RsQA==",
          "dtype": "f8"
         }
        },
        {
         "line": {
          "color": "green",
          "width": 4
         },
         "mode": "lines",
         "opacity": 0.1212121212121212,
         "showlegend": false,
         "type": "scatter3d",
         "x": {
          "bdata": "/m4p48QcSMAxlOVcjLVIwA==",
          "dtype": "f8"
         },
         "y": {
          "bdata": "gb2pXLDVSEDNT06mdyFJQA==",
          "dtype": "f8"
         },
         "z": {
          "bdata": "HaGUEIdkbECeIA5lIC9sQA==",
          "dtype": "f8"
         }
        },
        {
         "line": {
          "color": "green",
          "width": 4
         },
         "mode": "lines",
         "opacity": 0.11313131313131315,
         "showlegend": false,
         "type": "scatter3d",
         "x": {
          "bdata": "MZTlXIy1SMDc+Z6OIdNIwA==",
          "dtype": "f8"
         },
         "y": {
          "bdata": "zU9OpnchSUA1sVIArItIQA==",
          "dtype": "f8"
         },
         "z": {
          "bdata": "niAOZSAvbEDa9SVWfuprQA==",
          "dtype": "f8"
         }
        },
        {
         "line": {
          "color": "green",
          "width": 4
         },
         "mode": "lines",
         "opacity": 0.10505050505050502,
         "showlegend": false,
         "type": "scatter3d",
         "x": {
          "bdata": "3PmejiHTSMANCXa75f1HwA==",
          "dtype": "f8"
         },
         "y": {
          "bdata": "NbFSAKyLSEA1tiyUqgNIQA==",
          "dtype": "f8"
         },
         "z": {
          "bdata": "2vUlVn7qa0DwdwKecLBrQA==",
          "dtype": "f8"
         }
        },
        {
         "line": {
          "color": "green",
          "width": 4
         },
         "mode": "lines",
         "opacity": 0.09696969696969698,
         "showlegend": false,
         "type": "scatter3d",
         "x": {
          "bdata": "DQl2u+X9R8DLrViy4lhIwA==",
          "dtype": "f8"
         },
         "y": {
          "bdata": "NbYslKoDSEDAX0oSEt9HQA==",
          "dtype": "f8"
         },
         "z": {
          "bdata": "8HcCnnCwa0Atug6KEJFrQA==",
          "dtype": "f8"
         }
        },
        {
         "line": {
          "color": "green",
          "width": 4
         },
         "mode": "lines",
         "opacity": 0.08888888888888893,
         "showlegend": false,
         "type": "scatter3d",
         "x": {
          "bdata": "y61YsuJYSMCJ56EdzTFJwA==",
          "dtype": "f8"
         },
         "y": {
          "bdata": "wF9KEhLfR0B/khHViIFHQA==",
          "dtype": "f8"
         },
         "z": {
          "bdata": "LboOihCRa0CFXpcdM1BrQA==",
          "dtype": "f8"
         }
        },
        {
         "line": {
          "color": "green",
          "width": 4
         },
         "mode": "lines",
         "opacity": 0.0808080808080808,
         "showlegend": false,
         "type": "scatter3d",
         "x": {
          "bdata": "ieehHc0xScDrtd/IvbdIwA==",
          "dtype": "f8"
         },
         "y": {
          "bdata": "f5IR1YiBR0C3pYBcHEBHQA==",
          "dtype": "f8"
         },
         "z": {
          "bdata": "hV6XHTNQa0AaOtaWve1qQA==",
          "dtype": "f8"
         }
        },
        {
         "line": {
          "color": "green",
          "width": 4
         },
         "mode": "lines",
         "opacity": 0.07272727272727275,
         "showlegend": false,
         "type": "scatter3d",
         "x": {
          "bdata": "67XfyL23SMB602GcU4ZIwA==",
          "dtype": "f8"
         },
         "y": {
          "bdata": "t6WAXBxAR0CjEju58ZJFQA==",
          "dtype": "f8"
         },
         "z": {
          "bdata": "GjrWlr3takA5/Jzq8vhqQA==",
          "dtype": "f8"
         }
        },
        {
         "line": {
          "color": "green",
          "width": 4
         },
         "mode": "lines",
         "opacity": 0.06464646464646462,
         "showlegend": false,
         "type": "scatter3d",
         "x": {
          "bdata": "etNhnFOGSMAWKvOTZdxIwA==",
          "dtype": "f8"
         },
         "y": {
          "bdata": "oxI7ufGSRUDU4mBUJeVDQA==",
          "dtype": "f8"
         },
         "z": {
          "bdata": "Ofyc6vL4akDlRvgkiSFrQA==",
          "dtype": "f8"
         }
        },
        {
         "line": {
          "color": "green",
          "width": 4
         },
         "mode": "lines",
         "opacity": 0.056565656565656576,
         "showlegend": false,
         "type": "scatter3d",
         "x": {
          "bdata": "Firzk2XcSMCu3mNXoWhJwA==",
          "dtype": "f8"
         },
         "y": {
          "bdata": "1OJgVCXlQ0DudrnTzhJDQA==",
          "dtype": "f8"
         },
         "z": {
          "bdata": "5Ub4JIkha0AjcTJzDVhrQA==",
          "dtype": "f8"
         }
        },
        {
         "line": {
          "color": "green",
          "width": 4
         },
         "mode": "lines",
         "opacity": 0.04848484848484844,
         "showlegend": false,
         "type": "scatter3d",
         "x": {
          "bdata": "rt5jV6FoScCn7vb6et1IwA==",
          "dtype": "f8"
         },
         "y": {
          "bdata": "7na5084SQ0CKCYR1I9VDQA==",
          "dtype": "f8"
         },
         "z": {
          "bdata": "I3Eycw1Ya0BYMeL0W2VrQA==",
          "dtype": "f8"
         }
        },
        {
         "line": {
          "color": "green",
          "width": 4
         },
         "mode": "lines",
         "opacity": 0.0404040404040404,
         "showlegend": false,
         "type": "scatter3d",
         "x": {
          "bdata": "p+72+nrdSMDacxyV6XNIwA==",
          "dtype": "f8"
         },
         "y": {
          "bdata": "igmEdSPVQ0A0UFDp+whFQA==",
          "dtype": "f8"
         },
         "z": {
          "bdata": "WDHi9Ftla0Bg978qNTdrQA==",
          "dtype": "f8"
         }
        },
        {
         "line": {
          "color": "green",
          "width": 4
         },
         "mode": "lines",
         "opacity": 0.03232323232323236,
         "showlegend": false,
         "type": "scatter3d",
         "x": {
          "bdata": "2nMclelzSMD+7JXcJnhIwA==",
          "dtype": "f8"
         },
         "y": {
          "bdata": "NFBQ6fsIRUDdVbeU3/RFQA==",
          "dtype": "f8"
         },
         "z": {
          "bdata": "YPe/KjU3a0DK61VLS0hrQA==",
          "dtype": "f8"
         }
        },
        {
         "line": {
          "color": "green",
          "width": 4
         },
         "mode": "lines",
         "opacity": 0.02424242424242422,
         "showlegend": false,
         "type": "scatter3d",
         "x": {
          "bdata": "/uyV3CZ4SMCCM8nA+45IwA==",
          "dtype": "f8"
         },
         "y": {
          "bdata": "3VW3lN/0RUCj1BAh0w1HQA==",
          "dtype": "f8"
         },
         "z": {
          "bdata": "yutVS0tIa0A3NmWtgP9qQA==",
          "dtype": "f8"
         }
        },
        {
         "line": {
          "color": "green",
          "width": 4
         },
         "mode": "lines",
         "opacity": 0.01616161616161618,
         "showlegend": false,
         "type": "scatter3d",
         "x": {
          "bdata": "gjPJwPuOSMCGNocqhzpJwA==",
          "dtype": "f8"
         },
         "y": {
          "bdata": "o9QQIdMNR0ATg/pVapZGQA==",
          "dtype": "f8"
         },
         "z": {
          "bdata": "NzZlrYD/akDmhw5g8OhqQA==",
          "dtype": "f8"
         }
        },
        {
         "line": {
          "color": "green",
          "width": 4
         },
         "mode": "lines",
         "opacity": 0.008080808080808044,
         "showlegend": false,
         "type": "scatter3d",
         "x": {
          "bdata": "hjaHKoc6ScDuCkc9odVIwA==",
          "dtype": "f8"
         },
         "y": {
          "bdata": "E4P6VWqWRkAe/41LTcJGQA==",
          "dtype": "f8"
         },
         "z": {
          "bdata": "5ocOYPDoakBCsGdjSRNrQA==",
          "dtype": "f8"
         }
        }
       ],
       "layout": {
        "scene": {
         "xaxis": {
          "title": {
           "text": "X"
          }
         },
         "yaxis": {
          "title": {
           "text": "Y"
          }
         },
         "zaxis": {
          "title": {
           "text": "Z"
          }
         }
        },
        "template": {
         "data": {
          "bar": [
           {
            "error_x": {
             "color": "#2a3f5f"
            },
            "error_y": {
             "color": "#2a3f5f"
            },
            "marker": {
             "line": {
              "color": "#E5ECF6",
              "width": 0.5
             },
             "pattern": {
              "fillmode": "overlay",
              "size": 10,
              "solidity": 0.2
             }
            },
            "type": "bar"
           }
          ],
          "barpolar": [
           {
            "marker": {
             "line": {
              "color": "#E5ECF6",
              "width": 0.5
             },
             "pattern": {
              "fillmode": "overlay",
              "size": 10,
              "solidity": 0.2
             }
            },
            "type": "barpolar"
           }
          ],
          "carpet": [
           {
            "aaxis": {
             "endlinecolor": "#2a3f5f",
             "gridcolor": "white",
             "linecolor": "white",
             "minorgridcolor": "white",
             "startlinecolor": "#2a3f5f"
            },
            "baxis": {
             "endlinecolor": "#2a3f5f",
             "gridcolor": "white",
             "linecolor": "white",
             "minorgridcolor": "white",
             "startlinecolor": "#2a3f5f"
            },
            "type": "carpet"
           }
          ],
          "choropleth": [
           {
            "colorbar": {
             "outlinewidth": 0,
             "ticks": ""
            },
            "type": "choropleth"
           }
          ],
          "contour": [
           {
            "colorbar": {
             "outlinewidth": 0,
             "ticks": ""
            },
            "colorscale": [
             [
              0,
              "#0d0887"
             ],
             [
              0.1111111111111111,
              "#46039f"
             ],
             [
              0.2222222222222222,
              "#7201a8"
             ],
             [
              0.3333333333333333,
              "#9c179e"
             ],
             [
              0.4444444444444444,
              "#bd3786"
             ],
             [
              0.5555555555555556,
              "#d8576b"
             ],
             [
              0.6666666666666666,
              "#ed7953"
             ],
             [
              0.7777777777777778,
              "#fb9f3a"
             ],
             [
              0.8888888888888888,
              "#fdca26"
             ],
             [
              1,
              "#f0f921"
             ]
            ],
            "type": "contour"
           }
          ],
          "contourcarpet": [
           {
            "colorbar": {
             "outlinewidth": 0,
             "ticks": ""
            },
            "type": "contourcarpet"
           }
          ],
          "heatmap": [
           {
            "colorbar": {
             "outlinewidth": 0,
             "ticks": ""
            },
            "colorscale": [
             [
              0,
              "#0d0887"
             ],
             [
              0.1111111111111111,
              "#46039f"
             ],
             [
              0.2222222222222222,
              "#7201a8"
             ],
             [
              0.3333333333333333,
              "#9c179e"
             ],
             [
              0.4444444444444444,
              "#bd3786"
             ],
             [
              0.5555555555555556,
              "#d8576b"
             ],
             [
              0.6666666666666666,
              "#ed7953"
             ],
             [
              0.7777777777777778,
              "#fb9f3a"
             ],
             [
              0.8888888888888888,
              "#fdca26"
             ],
             [
              1,
              "#f0f921"
             ]
            ],
            "type": "heatmap"
           }
          ],
          "histogram": [
           {
            "marker": {
             "pattern": {
              "fillmode": "overlay",
              "size": 10,
              "solidity": 0.2
             }
            },
            "type": "histogram"
           }
          ],
          "histogram2d": [
           {
            "colorbar": {
             "outlinewidth": 0,
             "ticks": ""
            },
            "colorscale": [
             [
              0,
              "#0d0887"
             ],
             [
              0.1111111111111111,
              "#46039f"
             ],
             [
              0.2222222222222222,
              "#7201a8"
             ],
             [
              0.3333333333333333,
              "#9c179e"
             ],
             [
              0.4444444444444444,
              "#bd3786"
             ],
             [
              0.5555555555555556,
              "#d8576b"
             ],
             [
              0.6666666666666666,
              "#ed7953"
             ],
             [
              0.7777777777777778,
              "#fb9f3a"
             ],
             [
              0.8888888888888888,
              "#fdca26"
             ],
             [
              1,
              "#f0f921"
             ]
            ],
            "type": "histogram2d"
           }
          ],
          "histogram2dcontour": [
           {
            "colorbar": {
             "outlinewidth": 0,
             "ticks": ""
            },
            "colorscale": [
             [
              0,
              "#0d0887"
             ],
             [
              0.1111111111111111,
              "#46039f"
             ],
             [
              0.2222222222222222,
              "#7201a8"
             ],
             [
              0.3333333333333333,
              "#9c179e"
             ],
             [
              0.4444444444444444,
              "#bd3786"
             ],
             [
              0.5555555555555556,
              "#d8576b"
             ],
             [
              0.6666666666666666,
              "#ed7953"
             ],
             [
              0.7777777777777778,
              "#fb9f3a"
             ],
             [
              0.8888888888888888,
              "#fdca26"
             ],
             [
              1,
              "#f0f921"
             ]
            ],
            "type": "histogram2dcontour"
           }
          ],
          "mesh3d": [
           {
            "colorbar": {
             "outlinewidth": 0,
             "ticks": ""
            },
            "type": "mesh3d"
           }
          ],
          "parcoords": [
           {
            "line": {
             "colorbar": {
              "outlinewidth": 0,
              "ticks": ""
             }
            },
            "type": "parcoords"
           }
          ],
          "pie": [
           {
            "automargin": true,
            "type": "pie"
           }
          ],
          "scatter": [
           {
            "fillpattern": {
             "fillmode": "overlay",
             "size": 10,
             "solidity": 0.2
            },
            "type": "scatter"
           }
          ],
          "scatter3d": [
           {
            "line": {
             "colorbar": {
              "outlinewidth": 0,
              "ticks": ""
             }
            },
            "marker": {
             "colorbar": {
              "outlinewidth": 0,
              "ticks": ""
             }
            },
            "type": "scatter3d"
           }
          ],
          "scattercarpet": [
           {
            "marker": {
             "colorbar": {
              "outlinewidth": 0,
              "ticks": ""
             }
            },
            "type": "scattercarpet"
           }
          ],
          "scattergeo": [
           {
            "marker": {
             "colorbar": {
              "outlinewidth": 0,
              "ticks": ""
             }
            },
            "type": "scattergeo"
           }
          ],
          "scattergl": [
           {
            "marker": {
             "colorbar": {
              "outlinewidth": 0,
              "ticks": ""
             }
            },
            "type": "scattergl"
           }
          ],
          "scattermap": [
           {
            "marker": {
             "colorbar": {
              "outlinewidth": 0,
              "ticks": ""
             }
            },
            "type": "scattermap"
           }
          ],
          "scattermapbox": [
           {
            "marker": {
             "colorbar": {
              "outlinewidth": 0,
              "ticks": ""
             }
            },
            "type": "scattermapbox"
           }
          ],
          "scatterpolar": [
           {
            "marker": {
             "colorbar": {
              "outlinewidth": 0,
              "ticks": ""
             }
            },
            "type": "scatterpolar"
           }
          ],
          "scatterpolargl": [
           {
            "marker": {
             "colorbar": {
              "outlinewidth": 0,
              "ticks": ""
             }
            },
            "type": "scatterpolargl"
           }
          ],
          "scatterternary": [
           {
            "marker": {
             "colorbar": {
              "outlinewidth": 0,
              "ticks": ""
             }
            },
            "type": "scatterternary"
           }
          ],
          "surface": [
           {
            "colorbar": {
             "outlinewidth": 0,
             "ticks": ""
            },
            "colorscale": [
             [
              0,
              "#0d0887"
             ],
             [
              0.1111111111111111,
              "#46039f"
             ],
             [
              0.2222222222222222,
              "#7201a8"
             ],
             [
              0.3333333333333333,
              "#9c179e"
             ],
             [
              0.4444444444444444,
              "#bd3786"
             ],
             [
              0.5555555555555556,
              "#d8576b"
             ],
             [
              0.6666666666666666,
              "#ed7953"
             ],
             [
              0.7777777777777778,
              "#fb9f3a"
             ],
             [
              0.8888888888888888,
              "#fdca26"
             ],
             [
              1,
              "#f0f921"
             ]
            ],
            "type": "surface"
           }
          ],
          "table": [
           {
            "cells": {
             "fill": {
              "color": "#EBF0F8"
             },
             "line": {
              "color": "white"
             }
            },
            "header": {
             "fill": {
              "color": "#C8D4E3"
             },
             "line": {
              "color": "white"
             }
            },
            "type": "table"
           }
          ]
         },
         "layout": {
          "annotationdefaults": {
           "arrowcolor": "#2a3f5f",
           "arrowhead": 0,
           "arrowwidth": 1
          },
          "autotypenumbers": "strict",
          "coloraxis": {
           "colorbar": {
            "outlinewidth": 0,
            "ticks": ""
           }
          },
          "colorscale": {
           "diverging": [
            [
             0,
             "#8e0152"
            ],
            [
             0.1,
             "#c51b7d"
            ],
            [
             0.2,
             "#de77ae"
            ],
            [
             0.3,
             "#f1b6da"
            ],
            [
             0.4,
             "#fde0ef"
            ],
            [
             0.5,
             "#f7f7f7"
            ],
            [
             0.6,
             "#e6f5d0"
            ],
            [
             0.7,
             "#b8e186"
            ],
            [
             0.8,
             "#7fbc41"
            ],
            [
             0.9,
             "#4d9221"
            ],
            [
             1,
             "#276419"
            ]
           ],
           "sequential": [
            [
             0,
             "#0d0887"
            ],
            [
             0.1111111111111111,
             "#46039f"
            ],
            [
             0.2222222222222222,
             "#7201a8"
            ],
            [
             0.3333333333333333,
             "#9c179e"
            ],
            [
             0.4444444444444444,
             "#bd3786"
            ],
            [
             0.5555555555555556,
             "#d8576b"
            ],
            [
             0.6666666666666666,
             "#ed7953"
            ],
            [
             0.7777777777777778,
             "#fb9f3a"
            ],
            [
             0.8888888888888888,
             "#fdca26"
            ],
            [
             1,
             "#f0f921"
            ]
           ],
           "sequentialminus": [
            [
             0,
             "#0d0887"
            ],
            [
             0.1111111111111111,
             "#46039f"
            ],
            [
             0.2222222222222222,
             "#7201a8"
            ],
            [
             0.3333333333333333,
             "#9c179e"
            ],
            [
             0.4444444444444444,
             "#bd3786"
            ],
            [
             0.5555555555555556,
             "#d8576b"
            ],
            [
             0.6666666666666666,
             "#ed7953"
            ],
            [
             0.7777777777777778,
             "#fb9f3a"
            ],
            [
             0.8888888888888888,
             "#fdca26"
            ],
            [
             1,
             "#f0f921"
            ]
           ]
          },
          "colorway": [
           "#636efa",
           "#EF553B",
           "#00cc96",
           "#ab63fa",
           "#FFA15A",
           "#19d3f3",
           "#FF6692",
           "#B6E880",
           "#FF97FF",
           "#FECB52"
          ],
          "font": {
           "color": "#2a3f5f"
          },
          "geo": {
           "bgcolor": "white",
           "lakecolor": "white",
           "landcolor": "#E5ECF6",
           "showlakes": true,
           "showland": true,
           "subunitcolor": "white"
          },
          "hoverlabel": {
           "align": "left"
          },
          "hovermode": "closest",
          "mapbox": {
           "style": "light"
          },
          "paper_bgcolor": "white",
          "plot_bgcolor": "#E5ECF6",
          "polar": {
           "angularaxis": {
            "gridcolor": "white",
            "linecolor": "white",
            "ticks": ""
           },
           "bgcolor": "#E5ECF6",
           "radialaxis": {
            "gridcolor": "white",
            "linecolor": "white",
            "ticks": ""
           }
          },
          "scene": {
           "xaxis": {
            "backgroundcolor": "#E5ECF6",
            "gridcolor": "white",
            "gridwidth": 2,
            "linecolor": "white",
            "showbackground": true,
            "ticks": "",
            "zerolinecolor": "white"
           },
           "yaxis": {
            "backgroundcolor": "#E5ECF6",
            "gridcolor": "white",
            "gridwidth": 2,
            "linecolor": "white",
            "showbackground": true,
            "ticks": "",
            "zerolinecolor": "white"
           },
           "zaxis": {
            "backgroundcolor": "#E5ECF6",
            "gridcolor": "white",
            "gridwidth": 2,
            "linecolor": "white",
            "showbackground": true,
            "ticks": "",
            "zerolinecolor": "white"
           }
          },
          "shapedefaults": {
           "line": {
            "color": "#2a3f5f"
           }
          },
          "ternary": {
           "aaxis": {
            "gridcolor": "white",
            "linecolor": "white",
            "ticks": ""
           },
           "baxis": {
            "gridcolor": "white",
            "linecolor": "white",
            "ticks": ""
           },
           "bgcolor": "#E5ECF6",
           "caxis": {
            "gridcolor": "white",
            "linecolor": "white",
            "ticks": ""
           }
          },
          "title": {
           "x": 0.05
          },
          "xaxis": {
           "automargin": true,
           "gridcolor": "white",
           "linecolor": "white",
           "ticks": "",
           "title": {
            "standoff": 15
           },
           "zerolinecolor": "white",
           "zerolinewidth": 2
          },
          "yaxis": {
           "automargin": true,
           "gridcolor": "white",
           "linecolor": "white",
           "ticks": "",
           "title": {
            "standoff": 15
           },
           "zerolinecolor": "white",
           "zerolinewidth": 2
          }
         }
        },
        "title": {
         "text": "3D Odometry Trajectory"
        }
       }
      }
     },
     "metadata": {},
     "output_type": "display_data"
    }
   ],
   "source": [
    "import plotly.graph_objs as go\n",
    "import numpy as np\n",
    "\n",
    "trajectory_3d_np = np.array(trajectory_3d)\n",
    "trajectory_3d_np = trajectory_3d_np[::5]\n",
    "fig = go.Figure()\n",
    "\n",
    "n = len(trajectory_3d_np)\n",
    "for i in range(n - 1):\n",
    "    alpha = 0.8 * (1 - i / (n - 1)) \n",
    "    fig.add_trace(\n",
    "        go.Scatter3d(\n",
    "            x=-trajectory_3d_np[i : i + 2, 0],\n",
    "            y=trajectory_3d_np[i : i + 2, 1],\n",
    "            z=-trajectory_3d_np[i : i + 2, 2],\n",
    "            mode=\"lines\",\n",
    "            line=dict(color=\"green\", width=4),\n",
    "            opacity=alpha,\n",
    "            showlegend=False,\n",
    "        )\n",
    "    )\n",
    "\n",
    "fig.update_layout(\n",
    "    scene=dict(xaxis_title=\"X\", yaxis_title=\"Y\", zaxis_title=\"Z\"),\n",
    "    title=\"3D Odometry Trajectory\",\n",
    ")\n",
    "fig.show()"
   ]
  },
  {
   "cell_type": "code",
   "execution_count": 76,
   "id": "cb77d056",
   "metadata": {},
   "outputs": [
    {
     "data": {
      "application/vnd.plotly.v1+json": {
       "config": {
        "plotlyServerURL": "https://plot.ly"
       },
       "data": [
        {
         "line": {
          "color": "green",
          "width": 2
         },
         "mode": "lines",
         "name": "Original",
         "opacity": 0.3,
         "type": "scatter3d",
         "x": {
          "bdata": "BuNtwFs+6r/1wFxdah/qv2GePmrU8Om/FsMWVM6S6r9dbDHHnKnqv3IURLwxROu/VL8Jpi2J678gQ1rDBcDrv4t/IXHh1uy/LItla4327L9BCE0lP7btv1L3GTaoEO2/9LneZG6G7b9lRHG+S23tv4xdtcdBM+2/8As9kBZB7b8r1Gj6qOnsv9i6ofP94ey/QNGW8Wpu7b9tAE1frQztvy6jfkVWyey/dGOxe/Ot7L+1YcRxtV7tv/UsMSfJ7+2/sQDDw9YI7r+oTlsQPEDtv1XCwnfT/Ou/UvXgnigZ7L/PlVO2J0vrv5pqlbxAuOu/3v+Js/vV67/UTyv6Wujsv93iW1tpG+2/Ov16DX7I7L+83TXWG7jrv0Yngaf62Ou/qNaApgV77L+rakKwx0jsv6UO3WE5fuy/br8z+3iz7L8jBdunI/Lsv305j/Ofge2/kYSfpgiI7b+1WXVtio/sv3jsSfj8F+2/jzsw1iJG7b/u1sLDP+TuvwAAAAAAAPC/JEQxY4WV77+zEpJB2u7vv/6KMIeeL++/XO+V/Ym17r9DVDa75yXtv+EsVLw4Ge2/WM7twood7r8lU+9gaYztv/vBaTMgK+2/GwwpVeAb7L9/5DzLTozrv9zGIyhVfuu/yS85WgEV7L/BuTB7qhXtv5GNARl5auq/vZvv6gXg6b/ENS9K7dXov3LrbRNTSee/sRskiosl6L9G17SXMPbnv6v57WvqTOi/80k+ksMb6L+Nht3otxPnv23c1s+4Y+e/k3ETW/G+57/KnEzO0f/mv8TyEJ5KFui/XWsFnEW06L9PR+E3bKTov2qrw/fUcOi/GOsxLswP6r+GKPU+Vxjqv5M/S9YlMOq/x2Uij14w6r+emqCDV87pv6n/ysarfOq/GPAO1PU56r80dLtcIuDqv3hpSodPAOu/R4K0xWEY6r8XHmHsWHvqv6GQLupHZ+u/kKGPAYXi6r8ePci9xazqv6n5hoNjCuu/YXCEwOqi67+81LU8kQvrv08rVGq+mOq/Fk5k2Fqd6r9ncXguMLbqv7h/TdXFcOu/Cp5RSwcD678=",
          "dtype": "f8"
         },
         "y": {
          "bdata": "W/7fXaD75z8UHu77NPnmP8DdnxcXSOY/t85NL8bX5j8xvVYuvd/mPwEVpXVYE+g/yivzpVPr5z/cGLH1p1voP9aT7uAO5Oc/Vz6kkvU86T9hAcY7x23oP8qviBlg/+g/sqd1ujMo6T9d0wscltHoPxPK38ixY+g/idLrYfIb6T+4fnDaoQ7pP080J9KmMuo/VTRtCAND6j9KDKHDt1LpP1TGWHFukuk/rzv6BPVK6T9c5DKTlRbpP9nokQtBWOk/SbVCy6O26T/m/x/WpzbqPyGcNqk2+uk/3jun1DLp6D+2PyVD/aTpPwySUYrxG+o/Bsl2w3zm6T8yJT5a8VzqP88sRYhXeuo/RLBgjR6/6j/+IwqbkM3sP4dmA4jb0+w/HoN1aKt47D9My2nL+OjrP7CeRtLMNew/lb/9+6uo7D9swKb/+dbrP2x4EUcpu+o/HKHctyPY6T9ZNy6T1SnpPy6R1PMmGOk/++uFkXCT6T/yQFzKufDpP9XxTDkodek/3FpQhqLj6D9mWcPjTtjoPxyesoB0iOk/M6sXmFVE6T+UjpkRJaHqP0VC51DeSOo/5Vqkjt7D6T/SuLLzPtXoP5siK4xnZ+g/zgDA6o9e6D8ObuCZvFXpP7+H3Fq2jek/3JDlJs5A6j+LBGtItnfqP9mV3viEbuo/jryah1936j+UNrwCCLPqP7jOz7u/zuo/r2/GT7yz6z/nM0c2BfjrP9NywngUIOw/OUe8yhdc7T9cP4Vt+IHtP6NU9BoHXO0/Tv5iUpyh7T/3jYxEKrjuP5GqTb9ace8/KI7OiXWy7z9ZNhg8XDzvPwAAAAAAAPA/nqo923Wn7j+G4I+zMO7uP5FOZa/kVO0/VNEf2u7o7D8xRn0aR8LsP7PaBiKZHe0/yU8USpUc7T+c4q5waXXtP4zM5rjRxew/QfTaMGQm7D/m4GFHfvvrP1dHxErZjes/I21reChB6z9I0dQQFUrpP7asRwxEUuc/Af4xVLRb5j8CNKJ1gD/nP2SLN/hcqOg/CboEWeC86T89K8RDNgbrP9AeGAs9euo/vtv21q6t6j8=",
          "dtype": "f8"
         },
         "z": {
          "bdata": "9ICNTuJT7j8FvSY6ZdfuPzAu+Yh19O4/px/6Vm/p7j9kMIpmUdzuPwVYOvuNO+8/OuqUQIEZ7z8rgxdlxjXvP8E9BB29Q+8/5Qa+98Qp7z+GyO8bPw3vP72zKAYW++4/kqs3Od3+7j+Qe+/+z93uPyxkzMR1xu4/Z/KtS2XJ7j/0MrhG2NnuP6yozZfmre4/NAd2w5r87j/vfQ6LjrbuP7jARDvvm+4/KpgVlVpq7j+gPjbC/JruPz2LLcXLvO4/UL7A6f/i7j9zcl6eetTuP9mx2cYroe4/Mq5Zr8II7z8G5dvZgBvvPzNPUw3+Ce8/TsdtC7Iw7z/Cqu8BZ1nvP6OlTttUHe8/AAl0MWxk7z/gCrkXbVTvP8NnW+usde8//L2eytxx7z+7b2oUax/vP4qKQ4RUZu8/1uZNSFGU7z9IEKZBvH/vP4qAv1ruWO8/KpZopwGc7z+D0CRT9qTvPxnOQVyUv+8/xoFwmI7E7z8AAAAAAADwP6ELjaS5oO8/FiYRzVmi7z+RxcC8c3jvP5MOqW6NeO8/3vshRZ+J7z+qO+NzsMbvP7Nf0+dtfe8/elJvcs5w7z/lkSIy5VDvPx/tJ1mpEu8/46ZYAQgc7z/kThdW9UHvPymQeeRUJ+8/Pwe8WT5R7z9yTHG01JPvP56tknhvhe8/60OB0BWD7z/7av2KC37vP4M8jzNkdu8/yo7Z8PyS7z8CIOFEg5PvP2u6Uqiee+8/rzT8IfWo7z86DYkbzbvvP7zU2w4V2+8/Yjm9jA297z9i5LXyDajvP0pJw0mCwu8/GWWBEPqe7z/+k62lErnvP8Py0DJgc+8/yNwUdb2i7z/Fb5pfOqDvP+lMbADrnO8/QePTJyTA7z8W/NQ+epnvP7Tyh9uuve8/cAhTTJy17z/HGpKr+HnvP4zHRiRSLe8/sVKYVHzs7j8kCHL5ccnuP7n0+cMAge4/aoM/0goT7j+s/jhVjx/uP6HAOU/jTO4/b+Sb8MWJ7j8q39VhopjuP8Rwjm4XZe4/WDBehyx47j+rjWwV4SbuP7+N1gOuDe4/L36Ob/k87j8=",
          "dtype": "f8"
         }
        },
        {
         "line": {
          "color": "blue",
          "width": 6
         },
         "mode": "lines",
         "name": "Moving Average",
         "opacity": 1,
         "type": "scatter3d",
         "x": {
          "bdata": "ycCtgjMa6r94C+azWTbqv/KZ14FqZOq/TMEunYnV6r+2aipjqSfrv/ZcjQx3hOu/qoAsnrEK7L/yGUs1fITsv/6wRqvkK+2/6tju7CY/7b8tk2yVHG/tv+NRI3PLVu2/TMkB+VNi7b/0OSGyNkvtv+JpHsZVH+2/Ud4XKj8E7b8WIItKWxPtvyyELGwHH+2/9CZ2h88W7b9aAn+1p9bsv3LNprv/8ey/tVDiBiZU7b/JL+gex8ftv8R+Gqmeve2/kLD1w0wX7b9vV6q3EnLsv9EZ/e4Ly+u/6FFDWzC0678YANEMzJ3rv8PoGM6HJ+y/L2awreqd7L9OZavLwO7sv5qUWWpWiey/vgBmLtwd7L/j82dhCQTsv4jNFqpCNOy/pxrgkldr7L+UvRuvKH7sv7ybTqyctuy/Bao0MhQN7b+6663A7lPtv+sHjAIRM+2/lEPKrtoP7b/p1U9p4/nsv/xUFIbKwO2/flumiMu47r9bXlFi7H3vv/IcQYzK1u+/RktRuVSR77+u2XKXq0bvvzSaqWoFWe6/fyVgfOOm7b/Tb30TOXTtvx8au0pklu2/KKEXHVyc7b8TC9ZNI/Hsv9yQmsZvRuy/Jj2DbYG367+2890ZN7Xrv3bl2alVOOy/CH3OpGHc67+vSwvVDSDrv7AfYG95tem/UJTZwmyq6L/4vpWi7hbov3ifF2dazOe/4U5CL+Ii6L/2CEuHnx/ovw7urfch1Oe/pDmmw2aG57+E8ZcGdmfnv+74vP3TYOe/C6sl7Vmc57+jU3atIO7nvyU3/SVUeui/snTjQ4KY6L/wSfLJWQzpv60/TsxSiOm/uhsmwW0d6r/1mcs2SSjqv/2/BKOeD+q/BADanSAp6r/K2CgKUyzqv6Z23KeWh+q/Qe8G6Hez6r+myuiNRqjqv0gDIBOuhuq/qmXB3gCp6r/CGrXyYezqv3B6143b/Oq/x/L0wOTd6r8OjUarBh7rv5a/ldWfPeu/JNCEIr4X678KGnoqjsDqv0ROEHsYpOq/ERUO9Brs6r+3L10a/w3rvw==",
          "dtype": "f8"
         },
         "y": {
          "bdata": "D/550E4U5z+EQ0kWBrPmP414wdGIquY/ozXDm55D5z+pVPpteJ/nP+IdwwUcHug/1PIw1FgO6D+toxYj5H7oP4VGyI/uhOg/K6X7917j6D+eHeyvc9zoP/O4WKW4/eg/DBfL39PJ6D9SJZ0XvsXoPxwJFFcX2ug/2oHWBGl06T90ogHnw9bpP/omZ9917ek/plcivw246T9ur6ZoXmXpPx6iLANTUek/S1jqi+496T+AK61402HpP6w0/I7Zwek/xcXdGNb36T/3R/8bW7PpP+YHAevMguk/igQKNguO6T+YM08weeLpPxaAV43KH+o/Agn+4UE/6j9sq/bPd4fqP1oAkOWsV+s/7WjPOi4g7D+MBIEuXbPsP1A89pMqZ+w/XqQMAnsy7D/aDToze0LsPzoK+Zl7POw/JKg8FkW+6z/7nTGqF87qP/UatDC26ek/4M2fvwpe6T/V5oJdJEfpP7OU529wiek/QApl3HCo6T+LhKjY1m3pP1w3IOFdEOk/yXCXo8wW6T88Ni9UCDfpP6Dyy7hPz+k/BNQy/nIP6j/qYwz79TnqP6kcakapoOk/cGcrWiwA6T8S9IkjEonoPyfbQ7Dms+g/iacp9QAW6T84gotewLbpP7cJD+5oF+o/FbkPeFhi6j9QcqHtiHTqP6gtZ9ZOiOo/85W3bGKo6j+p0XCv1hHrP2979BUrfus/zlxFqpzu6z+mpOx9EHzsP3ioVpBh/+w/vfMRcbJo7T8ahkme3n/tP/hKoZBE5+0/RxK/HAuZ7j+Ql42EU0nvP7DPZixkde8/KuxMl/Ck7z+n9XGy8EvvPwzZmS/iMe8/PPMQai5O7j8kAAe/VrntPwgiVuEIAO0/vVDhXJrt7D+OJYjX0f7sP7JZQ/SHOu0/+lTje0Ud7T/NiyUeNcvsP+Y1YRA8Tew/KrRVlj7l6z/KMdtY1ZjrP+qBAZwHs+o/taOC3NVJ6T9VKRp7BKjnPz1KCfLS+eY/d5SuQNtr5z96KEpCP4zoP+J6Vdx7zuk/XAFLjcZp6j+YDPFhC7rqPw==",
          "dtype": "f8"
         },
         "z": {
          "bdata": "Y3nkBT+17j+eA16zGOfuP77UKcK86O4/BTjqkm8A7z82JnOLdRDvP85BojVHLu8/tuM6lgEx7z+aQvN9bTbvP7hZOxDrKO8/tyvyXbMQ7z9HDXAeZgLvP0qeGmqW8u4/xIOmqQvh7j8LRiMFOc/uP9ctZnLmze4/V++7uLbF7j9G9lOLyNbuP0QPxkwFy+4/88HtLQjF7j+aR3geSJTuP4AyMIYXi+4/AnYotAuW7j+6gmHQQr7uP1bpbsRs0e4/ikuobzfI7j/U8IWxzdTuPwQXBXB67O4/zqAtMmsP7z8sqYn7uhzvP8CV5QhdMe8/kLKOTc837z8gcztaDUnvP4Do07ZkR+8/NinYZtdk7z81EJFEUmnvPyiHIe6mV+8/FOhudolS7z+z9VOgBV7vP+LVZ68gfu8/jdI7TKl57z9UYu9rOXzvP7z3bhyiiO8/mBFFctmq7z/LCp3CXbjvP0rFkFG21u8/zNmpaW3M7z88uzR7BsHvP8KnH7rXk+8/E/4oqHOG7z9WRdl6NX7vPwnC5LdJmO8/aTJI4OmZ7z9HT7dEpJHvP1vBIYRgau8/KpvoqclG7z/3YTaEhyrvP0z2h+WMJe8/pSyjvnAs7z/ETMSGLT7vP572jPt3We8/GqvqLNZ47z9Tv4FUc4nvPyx0sEYwgu8/zaMEhSx97z/CvMyPeYLvPxr5bXihie8/vc1Zn1+L7z9eWmVaspLvPxtUnUwgoO8/iwfLbvK/7z9yXgs9pcbvPyqmby8QwO8/WiISQ9+37z9ChlPE2K3vP3Vr+/+Es+8/8qOqTSSZ7z8tITFvZZrvP3Bq1Vcdku8/KDMJR/af7z/630gtw6nvPxRkXCKDp+8/BEYQFm+y7z8S/Y937K7vP6NcJPFrpO8/7PhjCU107z+sEXthQjHvPyC2xdBq9u4/L8VWW/q87j9s1eMvf3TuP/B8e07eO+4/58CQJ38q7j+UNlrcElLuPxMsOYtueu4/dBEA63+C7j9s1UAdonzuP+xkyAO3Vu4/6sM14JM57j8zM5st2CXuPw==",
          "dtype": "f8"
         }
        }
       ],
       "layout": {
        "scene": {
         "xaxis": {
          "title": {
           "text": "X"
          }
         },
         "yaxis": {
          "title": {
           "text": "Y"
          }
         },
         "zaxis": {
          "title": {
           "text": "Z"
          }
         }
        },
        "template": {
         "data": {
          "bar": [
           {
            "error_x": {
             "color": "#2a3f5f"
            },
            "error_y": {
             "color": "#2a3f5f"
            },
            "marker": {
             "line": {
              "color": "#E5ECF6",
              "width": 0.5
             },
             "pattern": {
              "fillmode": "overlay",
              "size": 10,
              "solidity": 0.2
             }
            },
            "type": "bar"
           }
          ],
          "barpolar": [
           {
            "marker": {
             "line": {
              "color": "#E5ECF6",
              "width": 0.5
             },
             "pattern": {
              "fillmode": "overlay",
              "size": 10,
              "solidity": 0.2
             }
            },
            "type": "barpolar"
           }
          ],
          "carpet": [
           {
            "aaxis": {
             "endlinecolor": "#2a3f5f",
             "gridcolor": "white",
             "linecolor": "white",
             "minorgridcolor": "white",
             "startlinecolor": "#2a3f5f"
            },
            "baxis": {
             "endlinecolor": "#2a3f5f",
             "gridcolor": "white",
             "linecolor": "white",
             "minorgridcolor": "white",
             "startlinecolor": "#2a3f5f"
            },
            "type": "carpet"
           }
          ],
          "choropleth": [
           {
            "colorbar": {
             "outlinewidth": 0,
             "ticks": ""
            },
            "type": "choropleth"
           }
          ],
          "contour": [
           {
            "colorbar": {
             "outlinewidth": 0,
             "ticks": ""
            },
            "colorscale": [
             [
              0,
              "#0d0887"
             ],
             [
              0.1111111111111111,
              "#46039f"
             ],
             [
              0.2222222222222222,
              "#7201a8"
             ],
             [
              0.3333333333333333,
              "#9c179e"
             ],
             [
              0.4444444444444444,
              "#bd3786"
             ],
             [
              0.5555555555555556,
              "#d8576b"
             ],
             [
              0.6666666666666666,
              "#ed7953"
             ],
             [
              0.7777777777777778,
              "#fb9f3a"
             ],
             [
              0.8888888888888888,
              "#fdca26"
             ],
             [
              1,
              "#f0f921"
             ]
            ],
            "type": "contour"
           }
          ],
          "contourcarpet": [
           {
            "colorbar": {
             "outlinewidth": 0,
             "ticks": ""
            },
            "type": "contourcarpet"
           }
          ],
          "heatmap": [
           {
            "colorbar": {
             "outlinewidth": 0,
             "ticks": ""
            },
            "colorscale": [
             [
              0,
              "#0d0887"
             ],
             [
              0.1111111111111111,
              "#46039f"
             ],
             [
              0.2222222222222222,
              "#7201a8"
             ],
             [
              0.3333333333333333,
              "#9c179e"
             ],
             [
              0.4444444444444444,
              "#bd3786"
             ],
             [
              0.5555555555555556,
              "#d8576b"
             ],
             [
              0.6666666666666666,
              "#ed7953"
             ],
             [
              0.7777777777777778,
              "#fb9f3a"
             ],
             [
              0.8888888888888888,
              "#fdca26"
             ],
             [
              1,
              "#f0f921"
             ]
            ],
            "type": "heatmap"
           }
          ],
          "histogram": [
           {
            "marker": {
             "pattern": {
              "fillmode": "overlay",
              "size": 10,
              "solidity": 0.2
             }
            },
            "type": "histogram"
           }
          ],
          "histogram2d": [
           {
            "colorbar": {
             "outlinewidth": 0,
             "ticks": ""
            },
            "colorscale": [
             [
              0,
              "#0d0887"
             ],
             [
              0.1111111111111111,
              "#46039f"
             ],
             [
              0.2222222222222222,
              "#7201a8"
             ],
             [
              0.3333333333333333,
              "#9c179e"
             ],
             [
              0.4444444444444444,
              "#bd3786"
             ],
             [
              0.5555555555555556,
              "#d8576b"
             ],
             [
              0.6666666666666666,
              "#ed7953"
             ],
             [
              0.7777777777777778,
              "#fb9f3a"
             ],
             [
              0.8888888888888888,
              "#fdca26"
             ],
             [
              1,
              "#f0f921"
             ]
            ],
            "type": "histogram2d"
           }
          ],
          "histogram2dcontour": [
           {
            "colorbar": {
             "outlinewidth": 0,
             "ticks": ""
            },
            "colorscale": [
             [
              0,
              "#0d0887"
             ],
             [
              0.1111111111111111,
              "#46039f"
             ],
             [
              0.2222222222222222,
              "#7201a8"
             ],
             [
              0.3333333333333333,
              "#9c179e"
             ],
             [
              0.4444444444444444,
              "#bd3786"
             ],
             [
              0.5555555555555556,
              "#d8576b"
             ],
             [
              0.6666666666666666,
              "#ed7953"
             ],
             [
              0.7777777777777778,
              "#fb9f3a"
             ],
             [
              0.8888888888888888,
              "#fdca26"
             ],
             [
              1,
              "#f0f921"
             ]
            ],
            "type": "histogram2dcontour"
           }
          ],
          "mesh3d": [
           {
            "colorbar": {
             "outlinewidth": 0,
             "ticks": ""
            },
            "type": "mesh3d"
           }
          ],
          "parcoords": [
           {
            "line": {
             "colorbar": {
              "outlinewidth": 0,
              "ticks": ""
             }
            },
            "type": "parcoords"
           }
          ],
          "pie": [
           {
            "automargin": true,
            "type": "pie"
           }
          ],
          "scatter": [
           {
            "fillpattern": {
             "fillmode": "overlay",
             "size": 10,
             "solidity": 0.2
            },
            "type": "scatter"
           }
          ],
          "scatter3d": [
           {
            "line": {
             "colorbar": {
              "outlinewidth": 0,
              "ticks": ""
             }
            },
            "marker": {
             "colorbar": {
              "outlinewidth": 0,
              "ticks": ""
             }
            },
            "type": "scatter3d"
           }
          ],
          "scattercarpet": [
           {
            "marker": {
             "colorbar": {
              "outlinewidth": 0,
              "ticks": ""
             }
            },
            "type": "scattercarpet"
           }
          ],
          "scattergeo": [
           {
            "marker": {
             "colorbar": {
              "outlinewidth": 0,
              "ticks": ""
             }
            },
            "type": "scattergeo"
           }
          ],
          "scattergl": [
           {
            "marker": {
             "colorbar": {
              "outlinewidth": 0,
              "ticks": ""
             }
            },
            "type": "scattergl"
           }
          ],
          "scattermap": [
           {
            "marker": {
             "colorbar": {
              "outlinewidth": 0,
              "ticks": ""
             }
            },
            "type": "scattermap"
           }
          ],
          "scattermapbox": [
           {
            "marker": {
             "colorbar": {
              "outlinewidth": 0,
              "ticks": ""
             }
            },
            "type": "scattermapbox"
           }
          ],
          "scatterpolar": [
           {
            "marker": {
             "colorbar": {
              "outlinewidth": 0,
              "ticks": ""
             }
            },
            "type": "scatterpolar"
           }
          ],
          "scatterpolargl": [
           {
            "marker": {
             "colorbar": {
              "outlinewidth": 0,
              "ticks": ""
             }
            },
            "type": "scatterpolargl"
           }
          ],
          "scatterternary": [
           {
            "marker": {
             "colorbar": {
              "outlinewidth": 0,
              "ticks": ""
             }
            },
            "type": "scatterternary"
           }
          ],
          "surface": [
           {
            "colorbar": {
             "outlinewidth": 0,
             "ticks": ""
            },
            "colorscale": [
             [
              0,
              "#0d0887"
             ],
             [
              0.1111111111111111,
              "#46039f"
             ],
             [
              0.2222222222222222,
              "#7201a8"
             ],
             [
              0.3333333333333333,
              "#9c179e"
             ],
             [
              0.4444444444444444,
              "#bd3786"
             ],
             [
              0.5555555555555556,
              "#d8576b"
             ],
             [
              0.6666666666666666,
              "#ed7953"
             ],
             [
              0.7777777777777778,
              "#fb9f3a"
             ],
             [
              0.8888888888888888,
              "#fdca26"
             ],
             [
              1,
              "#f0f921"
             ]
            ],
            "type": "surface"
           }
          ],
          "table": [
           {
            "cells": {
             "fill": {
              "color": "#EBF0F8"
             },
             "line": {
              "color": "white"
             }
            },
            "header": {
             "fill": {
              "color": "#C8D4E3"
             },
             "line": {
              "color": "white"
             }
            },
            "type": "table"
           }
          ]
         },
         "layout": {
          "annotationdefaults": {
           "arrowcolor": "#2a3f5f",
           "arrowhead": 0,
           "arrowwidth": 1
          },
          "autotypenumbers": "strict",
          "coloraxis": {
           "colorbar": {
            "outlinewidth": 0,
            "ticks": ""
           }
          },
          "colorscale": {
           "diverging": [
            [
             0,
             "#8e0152"
            ],
            [
             0.1,
             "#c51b7d"
            ],
            [
             0.2,
             "#de77ae"
            ],
            [
             0.3,
             "#f1b6da"
            ],
            [
             0.4,
             "#fde0ef"
            ],
            [
             0.5,
             "#f7f7f7"
            ],
            [
             0.6,
             "#e6f5d0"
            ],
            [
             0.7,
             "#b8e186"
            ],
            [
             0.8,
             "#7fbc41"
            ],
            [
             0.9,
             "#4d9221"
            ],
            [
             1,
             "#276419"
            ]
           ],
           "sequential": [
            [
             0,
             "#0d0887"
            ],
            [
             0.1111111111111111,
             "#46039f"
            ],
            [
             0.2222222222222222,
             "#7201a8"
            ],
            [
             0.3333333333333333,
             "#9c179e"
            ],
            [
             0.4444444444444444,
             "#bd3786"
            ],
            [
             0.5555555555555556,
             "#d8576b"
            ],
            [
             0.6666666666666666,
             "#ed7953"
            ],
            [
             0.7777777777777778,
             "#fb9f3a"
            ],
            [
             0.8888888888888888,
             "#fdca26"
            ],
            [
             1,
             "#f0f921"
            ]
           ],
           "sequentialminus": [
            [
             0,
             "#0d0887"
            ],
            [
             0.1111111111111111,
             "#46039f"
            ],
            [
             0.2222222222222222,
             "#7201a8"
            ],
            [
             0.3333333333333333,
             "#9c179e"
            ],
            [
             0.4444444444444444,
             "#bd3786"
            ],
            [
             0.5555555555555556,
             "#d8576b"
            ],
            [
             0.6666666666666666,
             "#ed7953"
            ],
            [
             0.7777777777777778,
             "#fb9f3a"
            ],
            [
             0.8888888888888888,
             "#fdca26"
            ],
            [
             1,
             "#f0f921"
            ]
           ]
          },
          "colorway": [
           "#636efa",
           "#EF553B",
           "#00cc96",
           "#ab63fa",
           "#FFA15A",
           "#19d3f3",
           "#FF6692",
           "#B6E880",
           "#FF97FF",
           "#FECB52"
          ],
          "font": {
           "color": "#2a3f5f"
          },
          "geo": {
           "bgcolor": "white",
           "lakecolor": "white",
           "landcolor": "#E5ECF6",
           "showlakes": true,
           "showland": true,
           "subunitcolor": "white"
          },
          "hoverlabel": {
           "align": "left"
          },
          "hovermode": "closest",
          "mapbox": {
           "style": "light"
          },
          "paper_bgcolor": "white",
          "plot_bgcolor": "#E5ECF6",
          "polar": {
           "angularaxis": {
            "gridcolor": "white",
            "linecolor": "white",
            "ticks": ""
           },
           "bgcolor": "#E5ECF6",
           "radialaxis": {
            "gridcolor": "white",
            "linecolor": "white",
            "ticks": ""
           }
          },
          "scene": {
           "xaxis": {
            "backgroundcolor": "#E5ECF6",
            "gridcolor": "white",
            "gridwidth": 2,
            "linecolor": "white",
            "showbackground": true,
            "ticks": "",
            "zerolinecolor": "white"
           },
           "yaxis": {
            "backgroundcolor": "#E5ECF6",
            "gridcolor": "white",
            "gridwidth": 2,
            "linecolor": "white",
            "showbackground": true,
            "ticks": "",
            "zerolinecolor": "white"
           },
           "zaxis": {
            "backgroundcolor": "#E5ECF6",
            "gridcolor": "white",
            "gridwidth": 2,
            "linecolor": "white",
            "showbackground": true,
            "ticks": "",
            "zerolinecolor": "white"
           }
          },
          "shapedefaults": {
           "line": {
            "color": "#2a3f5f"
           }
          },
          "ternary": {
           "aaxis": {
            "gridcolor": "white",
            "linecolor": "white",
            "ticks": ""
           },
           "baxis": {
            "gridcolor": "white",
            "linecolor": "white",
            "ticks": ""
           },
           "bgcolor": "#E5ECF6",
           "caxis": {
            "gridcolor": "white",
            "linecolor": "white",
            "ticks": ""
           }
          },
          "title": {
           "x": 0.05
          },
          "xaxis": {
           "automargin": true,
           "gridcolor": "white",
           "linecolor": "white",
           "ticks": "",
           "title": {
            "standoff": 15
           },
           "zerolinecolor": "white",
           "zerolinewidth": 2
          },
          "yaxis": {
           "automargin": true,
           "gridcolor": "white",
           "linecolor": "white",
           "ticks": "",
           "title": {
            "standoff": 15
           },
           "zerolinecolor": "white",
           "zerolinewidth": 2
          }
         }
        },
        "title": {
         "text": "3D Odometry Trajectory"
        }
       }
      }
     },
     "metadata": {},
     "output_type": "display_data"
    }
   ],
   "source": [
    "import plotly.graph_objs as go\n",
    "import numpy as np\n",
    "\n",
    "trajectory_3d_np = np.array(trajectory_3d)\n",
    "trajectory_3d_np = trajectory_3d_np[::5]\n",
    "\n",
    "# Dziel każdą kolumnę przez jej maksimum\n",
    "max_vals = np.max(np.abs(trajectory_3d_np), axis=0)\n",
    "trajectory_3d_np = trajectory_3d_np / max_vals\n",
    "# Dodaj moving average (np. okno 10)\n",
    "window = 3\n",
    "\n",
    "\n",
    "if len(trajectory_3d_np) >= window:\n",
    "    kernel = np.ones((window, 1)) / window\n",
    "    traj_ma = np.vstack(\n",
    "        [\n",
    "            np.convolve(trajectory_3d_np[:, 0], kernel.ravel(), mode=\"valid\"),\n",
    "            np.convolve(trajectory_3d_np[:, 1], kernel.ravel(), mode=\"valid\"),\n",
    "            np.convolve(trajectory_3d_np[:, 2], kernel.ravel(), mode=\"valid\"),\n",
    "        ]\n",
    "    ).T\n",
    "else:\n",
    "    traj_ma = trajectory_3d_np\n",
    "\n",
    "fig = go.Figure()\n",
    "\n",
    "# Rysuj oryginalną trajektorię (opcjonalnie)\n",
    "fig.add_trace(\n",
    "    go.Scatter3d(\n",
    "        x=-trajectory_3d_np[:, 0],\n",
    "        y=trajectory_3d_np[:, 1],\n",
    "        z=-trajectory_3d_np[:, 2],\n",
    "        mode=\"lines\",\n",
    "        line=dict(color=\"green\", width=2),\n",
    "        opacity=0.3,\n",
    "        name=\"Original\",\n",
    "    )\n",
    ")\n",
    "\n",
    "# Rysuj wygładzoną trajektorię\n",
    "fig.add_trace(\n",
    "    go.Scatter3d(\n",
    "        x=-traj_ma[:, 0],\n",
    "        y=traj_ma[:, 1],\n",
    "        z=-traj_ma[:, 2],\n",
    "        mode=\"lines\",\n",
    "        line=dict(color=\"blue\", width=6),\n",
    "        opacity=1.0,\n",
    "        name=\"Moving Average\",\n",
    "    )\n",
    ")\n",
    "\n",
    "fig.update_layout(\n",
    "    scene=dict(xaxis_title=\"X\", yaxis_title=\"Y\", zaxis_title=\"Z\"),\n",
    "    title=\"3D Odometry Trajectory\",\n",
    ")\n",
    "fig.show()"
   ]
  },
  {
   "cell_type": "code",
   "execution_count": 77,
   "id": "baa1a0fc",
   "metadata": {},
   "outputs": [
    {
     "data": {
      "application/vnd.plotly.v1+json": {
       "config": {
        "plotlyServerURL": "https://plot.ly"
       },
       "data": [
        {
         "line": {
          "color": "red",
          "width": 4
         },
         "mode": "lines",
         "type": "scatter3d",
         "x": {
          "bdata": "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",
          "dtype": "f8"
         },
         "y": {
          "bdata": "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",
          "dtype": "f8"
         },
         "z": {
          "bdata": "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",
          "dtype": "f8"
         }
        }
       ],
       "layout": {
        "scene": {
         "xaxis": {
          "title": {
           "text": "X"
          }
         },
         "yaxis": {
          "title": {
           "text": "Y"
          }
         },
         "zaxis": {
          "title": {
           "text": "Z"
          }
         }
        },
        "template": {
         "data": {
          "bar": [
           {
            "error_x": {
             "color": "#2a3f5f"
            },
            "error_y": {
             "color": "#2a3f5f"
            },
            "marker": {
             "line": {
              "color": "#E5ECF6",
              "width": 0.5
             },
             "pattern": {
              "fillmode": "overlay",
              "size": 10,
              "solidity": 0.2
             }
            },
            "type": "bar"
           }
          ],
          "barpolar": [
           {
            "marker": {
             "line": {
              "color": "#E5ECF6",
              "width": 0.5
             },
             "pattern": {
              "fillmode": "overlay",
              "size": 10,
              "solidity": 0.2
             }
            },
            "type": "barpolar"
           }
          ],
          "carpet": [
           {
            "aaxis": {
             "endlinecolor": "#2a3f5f",
             "gridcolor": "white",
             "linecolor": "white",
             "minorgridcolor": "white",
             "startlinecolor": "#2a3f5f"
            },
            "baxis": {
             "endlinecolor": "#2a3f5f",
             "gridcolor": "white",
             "linecolor": "white",
             "minorgridcolor": "white",
             "startlinecolor": "#2a3f5f"
            },
            "type": "carpet"
           }
          ],
          "choropleth": [
           {
            "colorbar": {
             "outlinewidth": 0,
             "ticks": ""
            },
            "type": "choropleth"
           }
          ],
          "contour": [
           {
            "colorbar": {
             "outlinewidth": 0,
             "ticks": ""
            },
            "colorscale": [
             [
              0,
              "#0d0887"
             ],
             [
              0.1111111111111111,
              "#46039f"
             ],
             [
              0.2222222222222222,
              "#7201a8"
             ],
             [
              0.3333333333333333,
              "#9c179e"
             ],
             [
              0.4444444444444444,
              "#bd3786"
             ],
             [
              0.5555555555555556,
              "#d8576b"
             ],
             [
              0.6666666666666666,
              "#ed7953"
             ],
             [
              0.7777777777777778,
              "#fb9f3a"
             ],
             [
              0.8888888888888888,
              "#fdca26"
             ],
             [
              1,
              "#f0f921"
             ]
            ],
            "type": "contour"
           }
          ],
          "contourcarpet": [
           {
            "colorbar": {
             "outlinewidth": 0,
             "ticks": ""
            },
            "type": "contourcarpet"
           }
          ],
          "heatmap": [
           {
            "colorbar": {
             "outlinewidth": 0,
             "ticks": ""
            },
            "colorscale": [
             [
              0,
              "#0d0887"
             ],
             [
              0.1111111111111111,
              "#46039f"
             ],
             [
              0.2222222222222222,
              "#7201a8"
             ],
             [
              0.3333333333333333,
              "#9c179e"
             ],
             [
              0.4444444444444444,
              "#bd3786"
             ],
             [
              0.5555555555555556,
              "#d8576b"
             ],
             [
              0.6666666666666666,
              "#ed7953"
             ],
             [
              0.7777777777777778,
              "#fb9f3a"
             ],
             [
              0.8888888888888888,
              "#fdca26"
             ],
             [
              1,
              "#f0f921"
             ]
            ],
            "type": "heatmap"
           }
          ],
          "histogram": [
           {
            "marker": {
             "pattern": {
              "fillmode": "overlay",
              "size": 10,
              "solidity": 0.2
             }
            },
            "type": "histogram"
           }
          ],
          "histogram2d": [
           {
            "colorbar": {
             "outlinewidth": 0,
             "ticks": ""
            },
            "colorscale": [
             [
              0,
              "#0d0887"
             ],
             [
              0.1111111111111111,
              "#46039f"
             ],
             [
              0.2222222222222222,
              "#7201a8"
             ],
             [
              0.3333333333333333,
              "#9c179e"
             ],
             [
              0.4444444444444444,
              "#bd3786"
             ],
             [
              0.5555555555555556,
              "#d8576b"
             ],
             [
              0.6666666666666666,
              "#ed7953"
             ],
             [
              0.7777777777777778,
              "#fb9f3a"
             ],
             [
              0.8888888888888888,
              "#fdca26"
             ],
             [
              1,
              "#f0f921"
             ]
            ],
            "type": "histogram2d"
           }
          ],
          "histogram2dcontour": [
           {
            "colorbar": {
             "outlinewidth": 0,
             "ticks": ""
            },
            "colorscale": [
             [
              0,
              "#0d0887"
             ],
             [
              0.1111111111111111,
              "#46039f"
             ],
             [
              0.2222222222222222,
              "#7201a8"
             ],
             [
              0.3333333333333333,
              "#9c179e"
             ],
             [
              0.4444444444444444,
              "#bd3786"
             ],
             [
              0.5555555555555556,
              "#d8576b"
             ],
             [
              0.6666666666666666,
              "#ed7953"
             ],
             [
              0.7777777777777778,
              "#fb9f3a"
             ],
             [
              0.8888888888888888,
              "#fdca26"
             ],
             [
              1,
              "#f0f921"
             ]
            ],
            "type": "histogram2dcontour"
           }
          ],
          "mesh3d": [
           {
            "colorbar": {
             "outlinewidth": 0,
             "ticks": ""
            },
            "type": "mesh3d"
           }
          ],
          "parcoords": [
           {
            "line": {
             "colorbar": {
              "outlinewidth": 0,
              "ticks": ""
             }
            },
            "type": "parcoords"
           }
          ],
          "pie": [
           {
            "automargin": true,
            "type": "pie"
           }
          ],
          "scatter": [
           {
            "fillpattern": {
             "fillmode": "overlay",
             "size": 10,
             "solidity": 0.2
            },
            "type": "scatter"
           }
          ],
          "scatter3d": [
           {
            "line": {
             "colorbar": {
              "outlinewidth": 0,
              "ticks": ""
             }
            },
            "marker": {
             "colorbar": {
              "outlinewidth": 0,
              "ticks": ""
             }
            },
            "type": "scatter3d"
           }
          ],
          "scattercarpet": [
           {
            "marker": {
             "colorbar": {
              "outlinewidth": 0,
              "ticks": ""
             }
            },
            "type": "scattercarpet"
           }
          ],
          "scattergeo": [
           {
            "marker": {
             "colorbar": {
              "outlinewidth": 0,
              "ticks": ""
             }
            },
            "type": "scattergeo"
           }
          ],
          "scattergl": [
           {
            "marker": {
             "colorbar": {
              "outlinewidth": 0,
              "ticks": ""
             }
            },
            "type": "scattergl"
           }
          ],
          "scattermap": [
           {
            "marker": {
             "colorbar": {
              "outlinewidth": 0,
              "ticks": ""
             }
            },
            "type": "scattermap"
           }
          ],
          "scattermapbox": [
           {
            "marker": {
             "colorbar": {
              "outlinewidth": 0,
              "ticks": ""
             }
            },
            "type": "scattermapbox"
           }
          ],
          "scatterpolar": [
           {
            "marker": {
             "colorbar": {
              "outlinewidth": 0,
              "ticks": ""
             }
            },
            "type": "scatterpolar"
           }
          ],
          "scatterpolargl": [
           {
            "marker": {
             "colorbar": {
              "outlinewidth": 0,
              "ticks": ""
             }
            },
            "type": "scatterpolargl"
           }
          ],
          "scatterternary": [
           {
            "marker": {
             "colorbar": {
              "outlinewidth": 0,
              "ticks": ""
             }
            },
            "type": "scatterternary"
           }
          ],
          "surface": [
           {
            "colorbar": {
             "outlinewidth": 0,
             "ticks": ""
            },
            "colorscale": [
             [
              0,
              "#0d0887"
             ],
             [
              0.1111111111111111,
              "#46039f"
             ],
             [
              0.2222222222222222,
              "#7201a8"
             ],
             [
              0.3333333333333333,
              "#9c179e"
             ],
             [
              0.4444444444444444,
              "#bd3786"
             ],
             [
              0.5555555555555556,
              "#d8576b"
             ],
             [
              0.6666666666666666,
              "#ed7953"
             ],
             [
              0.7777777777777778,
              "#fb9f3a"
             ],
             [
              0.8888888888888888,
              "#fdca26"
             ],
             [
              1,
              "#f0f921"
             ]
            ],
            "type": "surface"
           }
          ],
          "table": [
           {
            "cells": {
             "fill": {
              "color": "#EBF0F8"
             },
             "line": {
              "color": "white"
             }
            },
            "header": {
             "fill": {
              "color": "#C8D4E3"
             },
             "line": {
              "color": "white"
             }
            },
            "type": "table"
           }
          ]
         },
         "layout": {
          "annotationdefaults": {
           "arrowcolor": "#2a3f5f",
           "arrowhead": 0,
           "arrowwidth": 1
          },
          "autotypenumbers": "strict",
          "coloraxis": {
           "colorbar": {
            "outlinewidth": 0,
            "ticks": ""
           }
          },
          "colorscale": {
           "diverging": [
            [
             0,
             "#8e0152"
            ],
            [
             0.1,
             "#c51b7d"
            ],
            [
             0.2,
             "#de77ae"
            ],
            [
             0.3,
             "#f1b6da"
            ],
            [
             0.4,
             "#fde0ef"
            ],
            [
             0.5,
             "#f7f7f7"
            ],
            [
             0.6,
             "#e6f5d0"
            ],
            [
             0.7,
             "#b8e186"
            ],
            [
             0.8,
             "#7fbc41"
            ],
            [
             0.9,
             "#4d9221"
            ],
            [
             1,
             "#276419"
            ]
           ],
           "sequential": [
            [
             0,
             "#0d0887"
            ],
            [
             0.1111111111111111,
             "#46039f"
            ],
            [
             0.2222222222222222,
             "#7201a8"
            ],
            [
             0.3333333333333333,
             "#9c179e"
            ],
            [
             0.4444444444444444,
             "#bd3786"
            ],
            [
             0.5555555555555556,
             "#d8576b"
            ],
            [
             0.6666666666666666,
             "#ed7953"
            ],
            [
             0.7777777777777778,
             "#fb9f3a"
            ],
            [
             0.8888888888888888,
             "#fdca26"
            ],
            [
             1,
             "#f0f921"
            ]
           ],
           "sequentialminus": [
            [
             0,
             "#0d0887"
            ],
            [
             0.1111111111111111,
             "#46039f"
            ],
            [
             0.2222222222222222,
             "#7201a8"
            ],
            [
             0.3333333333333333,
             "#9c179e"
            ],
            [
             0.4444444444444444,
             "#bd3786"
            ],
            [
             0.5555555555555556,
             "#d8576b"
            ],
            [
             0.6666666666666666,
             "#ed7953"
            ],
            [
             0.7777777777777778,
             "#fb9f3a"
            ],
            [
             0.8888888888888888,
             "#fdca26"
            ],
            [
             1,
             "#f0f921"
            ]
           ]
          },
          "colorway": [
           "#636efa",
           "#EF553B",
           "#00cc96",
           "#ab63fa",
           "#FFA15A",
           "#19d3f3",
           "#FF6692",
           "#B6E880",
           "#FF97FF",
           "#FECB52"
          ],
          "font": {
           "color": "#2a3f5f"
          },
          "geo": {
           "bgcolor": "white",
           "lakecolor": "white",
           "landcolor": "#E5ECF6",
           "showlakes": true,
           "showland": true,
           "subunitcolor": "white"
          },
          "hoverlabel": {
           "align": "left"
          },
          "hovermode": "closest",
          "mapbox": {
           "style": "light"
          },
          "paper_bgcolor": "white",
          "plot_bgcolor": "#E5ECF6",
          "polar": {
           "angularaxis": {
            "gridcolor": "white",
            "linecolor": "white",
            "ticks": ""
           },
           "bgcolor": "#E5ECF6",
           "radialaxis": {
            "gridcolor": "white",
            "linecolor": "white",
            "ticks": ""
           }
          },
          "scene": {
           "xaxis": {
            "backgroundcolor": "#E5ECF6",
            "gridcolor": "white",
            "gridwidth": 2,
            "linecolor": "white",
            "showbackground": true,
            "ticks": "",
            "zerolinecolor": "white"
           },
           "yaxis": {
            "backgroundcolor": "#E5ECF6",
            "gridcolor": "white",
            "gridwidth": 2,
            "linecolor": "white",
            "showbackground": true,
            "ticks": "",
            "zerolinecolor": "white"
           },
           "zaxis": {
            "backgroundcolor": "#E5ECF6",
            "gridcolor": "white",
            "gridwidth": 2,
            "linecolor": "white",
            "showbackground": true,
            "ticks": "",
            "zerolinecolor": "white"
           }
          },
          "shapedefaults": {
           "line": {
            "color": "#2a3f5f"
           }
          },
          "ternary": {
           "aaxis": {
            "gridcolor": "white",
            "linecolor": "white",
            "ticks": ""
           },
           "baxis": {
            "gridcolor": "white",
            "linecolor": "white",
            "ticks": ""
           },
           "bgcolor": "#E5ECF6",
           "caxis": {
            "gridcolor": "white",
            "linecolor": "white",
            "ticks": ""
           }
          },
          "title": {
           "x": 0.05
          },
          "xaxis": {
           "automargin": true,
           "gridcolor": "white",
           "linecolor": "white",
           "ticks": "",
           "title": {
            "standoff": 15
           },
           "zerolinecolor": "white",
           "zerolinewidth": 2
          },
          "yaxis": {
           "automargin": true,
           "gridcolor": "white",
           "linecolor": "white",
           "ticks": "",
           "title": {
            "standoff": 15
           },
           "zerolinecolor": "white",
           "zerolinewidth": 2
          }
         }
        },
        "title": {
         "text": "3D Ground Truth Trajectory (normalized)"
        }
       }
      }
     },
     "metadata": {},
     "output_type": "display_data"
    }
   ],
   "source": [
    "import plotly.graph_objs as go\n",
    "import numpy as np\n",
    "\n",
    "gt_file = r\"C:\\VisualOdometry\\falcon_indoor_flight_1_pose_evo_gt.txt\"\n",
    "gt_positions = []\n",
    "with open(gt_file, \"r\") as f:\n",
    "    for line in f:\n",
    "        if line.strip() == \"\" or line.startswith(\"#\"):\n",
    "            continue\n",
    "        parts = line.strip().split()\n",
    "        tx, ty, tz = map(float, parts[1:4])\n",
    "        gt_positions.append([tx, ty, tz])\n",
    "gt_positions = np.array(gt_positions)\n",
    "\n",
    "# Normalizacja każdej osi osobno\n",
    "max_vals = np.max(np.abs(gt_positions), axis=0)\n",
    "gt_norm = gt_positions / max_vals\n",
    "\n",
    "fig = go.Figure(\n",
    "    data=[\n",
    "        go.Scatter3d(\n",
    "            x=gt_norm[:, 0],\n",
    "            y=gt_norm[:, 2],\n",
    "            z=-gt_norm[:, 1],\n",
    "            mode=\"lines\",\n",
    "            line=dict(color=\"red\", width=4),\n",
    "        )\n",
    "    ]\n",
    ")\n",
    "fig.update_layout(\n",
    "    scene=dict(xaxis_title=\"X\", yaxis_title=\"Y\", zaxis_title=\"Z\"),\n",
    "    title=\"3D Ground Truth Trajectory (normalized)\",\n",
    ")\n",
    "fig.show()"
   ]
  },
  {
   "cell_type": "code",
   "execution_count": null,
   "id": "c80ddcd0",
   "metadata": {},
   "outputs": [
    {
     "data": {
      "application/vnd.plotly.v1+json": {
       "config": {
        "plotlyServerURL": "https://plot.ly"
       },
       "data": [
        {
         "line": {
          "color": "green",
          "width": 2
         },
         "mode": "lines",
         "name": "Odometry Original",
         "opacity": 0.3,
         "type": "scatter3d",
         "x": {
          "bdata": "pRW1DdAgSMD4DkIvXQRIwFTGUoyI2UfAHZVmBnRuSMD9/Ajba4NIwBDQKPaKEUnAQRRjXfdQScCZDPu/Y4NJwNwizBfFg0rAzQ4Vg+OgSsBnOFGPIVFLwNCdBKDjuErAj7MefyslS8C3NviFDw5LwBXDkDaz2ErAMwTIlWrlSsA7Mt4bCZVKwPux1VD8jUrAR6ulkhcPS8BPP1LpOrVKwNOpcmZRd0rAwfm8uiNeSsDjJeI7pgBLwKzuTToIhkvASt672xCdS8BP87ayoeRKwLtEk8BKu0nAf+VSQFfVScCo3X9M8RdJwLiHeQ0/fEnAzYx8hZSXScAz39oH1pNKwDkpJdnGwkrAJmAvnIp2SsBBOosgHXxJwAYvG6dVmknAU/LU1VAvSsDzqLaiHwFKwA4+vH1CMkrA4h43SjdjSsCQ5Z3Q1JxKwGRlbTzAIEvAff0Tr6QmS8AdC+AzLkJKwDNMoRqhv0rATHE3sQ7qSsDRWJVAymZMwKZU6i+ra03AYQE0zsUJTcBql2ZJ51tNwD96wbkVrEzAxrRMW9g7TMAVqbaubMxKwEBRu2rDwErAT7uYoxmwS8BJvcYSqypLwPnDZGw50UrA/YJX4tbXScBWn6vu11NJwPOTYK3+RknAhzqVsIXRScBU4wOJfr1KwHD1GRRfSUjAE9mQ3BTKR8CQ7QY5b9VGwIu8FgrNaEXAZUOQLEUzRsB64WtruwdGwMYpEKF3V0bA09rvCkcqRsBkHugNhDdFwGADOw4SgUXANDx6OfDURcBZjPiROCVFwKnB7wM/JUbA/EJ4Bn62RsD7Pgew66dGwCOIMAh9eEbALNcISAH2R8ARwO0N3P1HwEprOWG/E0jA/eWVh/MTSMAzXjFR07lHwMquZzwaWkjA/m4p48QcSMAxlOVcjLVIwNz5no4h00jADQl2u+X9R8DLrViy4lhIwInnoR3NMUnA67XfyL23SMB602GcU4ZIwBYq85Nl3EjArt5jV6FoScCn7vb6et1IwNpzHJXpc0jA/uyV3CZ4SMCCM8nA+45IwIY2hyqHOknA7gpHPaHVSMA=",
          "dtype": "f8"
         },
         "y": {
          "bdata": "dAhp9591RED0YLjIK5lDQBWhuEgTAkNA1RkAZqZ8Q0BFzwnWcYNDQIi9uvrbiURAsNwjSLhnREBkmBbei8dEQKcw/OKEYURAIQklyr+HRUCfWkqQAddEQJ0NLX82U0VAg86PoAp2RUDcfb6jJixFQCF+H15nzkRAejIjNJZrRUC33QVwOmBFQJHAZYFYWUZAlw9NaE1nRkDxUUijT5pFQHi8lgmq0EVAV6pwxrCTRUDoufAUA2dFQDS1CrMIn0VANxmelY3vRUC4SFzuwlxGQEA4Of4yKUZAUxxbTUtARUB+qEDkfuBFQBFwCkj5RUZAdzn7/14YRkBvJch1bH1GQK5g5u6AlkZAabr5OC3RRkC5CeGRR5JIQMmUqdOll0hAraWTTNtJSECl8FouRc9HQIyWXa/PEEhAOQungM5ySEDLDvow679HQM1LGdDMzUZAr+89lCEMRkAlegAWb3dFQJ9asn1ZaEVA6yWdPYbRRUDtMZv1GiFGQID9ZdSwt0VA6cdoP4w7RUCwHaCc4jFFQLyyD08nyEVADrTKbgqORUCpjjkWm7dGQH/Ge2xMbEZAHmVByNb6RUD775fYRS9FQG5krJiR0URA9WfJhgbKRECMfQDv4pxFQNBXfm+jzEVA4ZIKhGtlRkAq3BKYQpRGQMLF8QRrjEZAXNsPlviTRkDKIpJQ3cZGQK0aS5KC3kZADdZK7NqhR0APKCSfG9xHQHMxjTtI/kdAJ8RBQN4LSUCscuhOLixJQAA8EATQC0lAmwdgNSxHSUDwAUaszTRKQLIxASbJ0kpAB5alV1MKS0AfGKfBk6VKQGialHp5TEtAKiuHh40mSkCrvk825GJKQCKgeuy5BUlAaFzWfqCpSEBMtf+TpohIQKuu2QeO1khAgb2pXLDVSEDNT06mdyFJQDWxUgCsi0hANbYslKoDSEDAX0oSEt9HQH+SEdWIgUdAt6WAXBxAR0CjEju58ZJFQNTiYFQl5UNA7na5084SQ0CKCYR1I9VDQDRQUOn7CEVA3VW3lN/0RUCj1BAh0w1HQBOD+lVqlkZAHv+NS03CRkA=",
          "dtype": "f8"
         },
         "z": {
          "bdata": "2QLEzswna0CqwlY/jp1rQFvyDlGUt2tASir6ULWta0DTdBGc9qFrQBkeBAo992tAcuUyD8DYa0CXNMM2EPJrQGg0dgaR/mtAtASQQlDna0A/fJooxs1rQD3oXFuDvWtAF4O5Y+XAa0AA9bUvTaNrQD4Bi0RkjmtA+4HKLwWRa0BvVWq1v59rQM8UPLdmeGtAGrtjb9++a0Ac7P7hJoBrQJLHyW9QaGtA1gOiaOs7a0B4U21Td2drQFFoLAu9hWtAaEvkNPKna0DUo3278ZprQHcTmMMAbWtAoxpe28HJa0A07WUlitprQA1SwjzcymtAB/6S4IPta0DVA/3U9hFsQCNwDzMt3GtA8Geg7dQbbECZ7mMqgg1sQKDJ3axHK2xADBjnpd0nbEDJbUeLC95rQMTOmSyKHWxA46dTibdGbEAgXl2jSTRsQNn+hsyKEWxAQGlaBZpNbEC1hD/inlVsQF5I8y90bWxA0o7xI+lxbEBzpRvXIqdsQISbLqjTUWxAmbw6SUhTbEBnLbEkxC1sQEbbkCbbLWxAd6Tn6SM9bECwfvnm0XNsQDuAXQk5MmxAhQu7lOsmbEBq+3HQWApsQMlggGaf0mtAZFDcKQPba0DCg+Dr+PxrQO8XKHYh5WtAWPy/pKgKbED/Vkf9R0ZsQALG5zhkOWxAql9kf0k3bECKbnkvxjJsQAl/U8nrK2xA8OYyy4ZFbEDATVIS/0VsQMIqQT6aMGxApAddtTJZbECqwFobEmpsQDbAz3EUhmxA6BEUCDFrbEAmFoW0Y1hsQFmNpKwTcGxABn/w5EJQbEDYMCu0oGdsQCaXgIg4KWxAQVC/hKFTbEA/8B+zYVFsQLRDBPZqTmxAJwwe8fRtbEAPoW5UVktsQBNGiHfBa2xAHaGUEIdkbECeIA5lIC9sQNr1JVZ+6mtA8HcCnnCwa0Atug6KEJFrQIVelx0zUGtAGjrWlr3takA5/Jzq8vhqQOVG+CSJIWtAI3Eycw1Ya0BYMeL0W2VrQGD3vyo1N2tAyutVS0tIa0A3NmWtgP9qQOaHDmDw6GpAQrBnY0kTa0A=",
          "dtype": "f8"
         }
        },
        {
         "line": {
          "color": "blue",
          "width": 6
         },
         "mode": "lines",
         "name": "Odometry Moving Average",
         "opacity": 1,
         "type": "scatter3d",
         "x": {
          "bdata": "T07D7ZH/R8B4I6lAcxlIwM9y63nNQ0jADnbdR86rSMAaS9xkT/dIwE5QggaiTEnA52tjvArIScAVakkeBDhKwATOEA7u0UrArKEj5qLjSsBCg9Hkug9LwLKCXoxf+UrAHo/iE/oDS8BV/xrGue5KwICoZ01ixkrAzaJ+q3qtSsAphcj/XrtKwIaJREQaxkrAzYYj9ou+SsD2oIADkINKwHyYsMmznErAcK/5uvD2SsDyUPnFP2FLwGyVle3oV0vAxlxXGv++SsAuXzSRFidKwKACIm+GjUnA9BjEiIJ4ScAOpnxK7GNJwJKmRd6N4knAvjHUzGVPSsDbImXUt5lKwDRB9TF6PErAzu3xy6nZScCIHinf68FJwBnujApC7knAHPMXUuYgSsD2AY4jMzJKwCoW2zIaZkrAnHhrcpm1SsDQwl/pvfZKwKoky1+G2ErAmnHcqSa4SsCI7ZKq9KNKwHAHelnTWkvA67TntdY+TMBHOpG/E/RMwND51hfIRU3AA7Eem+sFTcAkQnwfR8FMwAhI7OvI5kvACOWU0QJDS8CMPK7pbRRLwPLtCAvYM0vAhmlBtlQ5S8BqAYEg6ZtKwG73dxT4/knAwTwhKo97ScCbJIsZdHlJwJqQqPcA8knAGbE7b3adScBIOzrTUPBIwLE+O2P2okfAZNbkX3CtRsCApOTP1SVGwHigW4tE4UXA4sSuvdIwRsBc9yNd0y1GwP9gTZNr6EXAh6lbYvSgRcD9yYkcgoRFwKTuOfNofkXAEi52miK1RcD/2sreUQBGwIoWJT44gUbAs1jllPecRsDDNMCqeAdHwCC1t3RzeUfALFZlkokCSMBysOn8hAxIwCjlqmjX9UfAU6YPB0sNSMCofut6OxBIwKiQJ9QjZEjAAv85mnuMSMAI3ag3MYJIwOY6z/5NY0jAyzTQg9yCSMBqbvMyz8BIwE7QS9b0z0jA0zu8/XyzSMAU9JKCc+5IwCT9GaKAC0nAuhV9oqzoSMCAGuPOg5hIwHMxKWZZfkjArMdM7Y3ASMBRfDK4tt9IwA==",
          "dtype": "f8"
         },
         "y": {
          "bdata": "Ka5IWEqwQ0D0syV9TF1DQBAuloEOVkNAizfsvKbYQ0B/eE0IAidEQN4Qp7UKk0RAlIxnWJiFREBkmxLZmuVEQHcxeRTC6kRAdNDenVI7RUCVZwKQazVFQP4dKUHNUUVA1ZgkNoglRUDSZAASDCJFQBvawgBoM0VA65ovtw23RUBKjz1z9QpGQF0LqdlRHkZAAApkXMLwRUDqkhrROKpFQJK1UkwfmUVA0V15L5SIRUBwLTMfM6dFQGGyAb0d+UVAZTMR1isnRkDDiaVowOxFQAb/RmVUw0VA9mY30+vMRUCscBdk8hRGQKjvmZRBSUZA3D/jdhlkRkAswOKJs6FGQPC2lehRU0dATsjWNF7+R0BkwbSQ7XtIQLNj3cTsOkhA9A7EuPoNSEDOMHUfoRtIQITlVCCDFkhARneTgNeqR0Btw8Ux891GQDbnxygfG0ZAJuz6t/ijRUDkqBqbb5BFQCjm+Dr+yEVAHcc0rXDjRUAc/c2tcrFFQAihzzq1YUVAHIhdDjJnRUAoLH5zsYJFQCanBpyZBEZAZ1jVpVA7RkBsk6fDlF9GQIheHK/N3EVA2D3XveRTRUB06Vn9Se5EQE/DfK/TEkVAxmltTIRmRUBqzS32pe9FQEhCiS4bQkZA7mZaYAiCRkAYf7G7jJFGQE1BMflqokZARghPKMi9RkDWWw1FvhdHQEMIPl8odEdAhLr+7BTUR0A4X6azwExIQMIiPe7GvEhARia+254WSUDCPMiCYypJQINs56GYgklAvhONAkEaSkDi7U5jo7BKQPKfxL861kpA2sL128r+SkCQ9EBB3rJKQBQseb2jnEpAUoNw42PaSUBnPuA1altJQEc7cKpVvUhAdJU6XpytSEB8YNZSTLxIQFPpRa4870hA1pTDq0bWSEBnkkS+RJBIQA3t7YzNJEhAfI0tKRfMR0D8h0nB54pHQPIY7/jcxkZAD4kJzruSRUDMznGgTC5EQG5234mymUNAOfDZEPr6Q0A05YOm//BEQJHTst/kA0ZAMY/rA1+IRkBGcojr2MxGQA==",
          "dtype": "f8"
         },
         "z": {
          "bdata": "9ecNdfp+a0Aa9R9LnatrQCjbCGoVrWtAvOmvp03Ca0DK0sKRptBrQAxoU8VZ62tAe295Gcvta0CQJEPVpfJrQHM84CWN5mtAus3X7N3Qa0AwTZCiD8RrQHB1mU/ntWtAcCj+RzKma0ASKFnhPJZrQDhIlbgNlWtAEqQlNLmNa0DIYQP0AZ1rQKw+iq15kmtAl88O6xyNa0CBkiM+dmFrQKBfSLk7WWtANJW+lwpja0APrdTbDIdrQIRyL6k1mGtAkauo5vaPa0BQmyYePJtrQMSzHuxusGtA9x2CFLjPa0AYv5Nro9trQKPGcPsc7mtAqtDfouLza0D48478UgNsQDhCscPWAWxADGBL7DQcbEAW8GLUNyBsQNFvWZ9lEGxA3sZCH9ELbEDQ9mbAGRZsQEGcwx3ZMmxASKwSU9kubEBnl7/RJDFsQJn5CjxBPGxAGxIvXeRabEBMyba8/mZsQIspALkqgmxAQkVpNvV4bECEVCyYv25sQCvXCLJKRmxAbOx+MU06bEC2OWO86zJsQCSq0KdFSmxAyou/SLpLbEDPWFssUkRsQGOCg88pIWxAkiKP7ksBbECIOZp1/udrQFC8aSmJ42tAXPn2g7Tpa0CtMphXlvlrQGzODwgGEmxAyF36SBwubEA51NuR/DxsQLyG7Pd7NmxAacRlff4xbEAsnKqWvTZsQOg7SOIlPWxAJnWXXrU+bEBi1foBREVsQK/7UlpKUWxA1oKCa8htbEDsMGrcx3NsQGxNeA/jbWxAIudpeI1mbEDXYLNsk11sQBG/6sGnYmxAAG2JYAlLbEDAsiPrKExsQOJHdZW+RGxAZoH2uSRRbECyamsz61lsQE1QMGnnV2xAbaax6a5hbEAU2INJil5sQJkCufkiVWxA2+dCmQwqbEAi2rwdBe5rQKdiEipVuWtA4NriweaFa0DucClqAEVrQJ0xrt9LEmtAaNQj4r0Ca0BrkULWLSZrQHX4rtlQSmtAnojxMIpRa0ArXP14SUxrQMtdfrZVKmtAojhDyD4Qa0B0z/N6k/5qQA==",
          "dtype": "f8"
         }
        },
        {
         "line": {
          "color": "red",
          "width": 4
         },
         "mode": "lines",
         "name": "Ground Truth",
         "type": "scatter3d",
         "x": {
          "bdata": "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",
          "dtype": "f8"
         },
         "y": {
          "bdata": "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",
          "dtype": "f8"
         },
         "z": {
          "bdata": "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",
          "dtype": "f8"
         }
        }
       ],
       "layout": {
        "scene": {
         "xaxis": {
          "title": {
           "text": "X"
          }
         },
         "yaxis": {
          "title": {
           "text": "Y"
          }
         },
         "zaxis": {
          "title": {
           "text": "Z"
          }
         }
        },
        "template": {
         "data": {
          "bar": [
           {
            "error_x": {
             "color": "#2a3f5f"
            },
            "error_y": {
             "color": "#2a3f5f"
            },
            "marker": {
             "line": {
              "color": "#E5ECF6",
              "width": 0.5
             },
             "pattern": {
              "fillmode": "overlay",
              "size": 10,
              "solidity": 0.2
             }
            },
            "type": "bar"
           }
          ],
          "barpolar": [
           {
            "marker": {
             "line": {
              "color": "#E5ECF6",
              "width": 0.5
             },
             "pattern": {
              "fillmode": "overlay",
              "size": 10,
              "solidity": 0.2
             }
            },
            "type": "barpolar"
           }
          ],
          "carpet": [
           {
            "aaxis": {
             "endlinecolor": "#2a3f5f",
             "gridcolor": "white",
             "linecolor": "white",
             "minorgridcolor": "white",
             "startlinecolor": "#2a3f5f"
            },
            "baxis": {
             "endlinecolor": "#2a3f5f",
             "gridcolor": "white",
             "linecolor": "white",
             "minorgridcolor": "white",
             "startlinecolor": "#2a3f5f"
            },
            "type": "carpet"
           }
          ],
          "choropleth": [
           {
            "colorbar": {
             "outlinewidth": 0,
             "ticks": ""
            },
            "type": "choropleth"
           }
          ],
          "contour": [
           {
            "colorbar": {
             "outlinewidth": 0,
             "ticks": ""
            },
            "colorscale": [
             [
              0,
              "#0d0887"
             ],
             [
              0.1111111111111111,
              "#46039f"
             ],
             [
              0.2222222222222222,
              "#7201a8"
             ],
             [
              0.3333333333333333,
              "#9c179e"
             ],
             [
              0.4444444444444444,
              "#bd3786"
             ],
             [
              0.5555555555555556,
              "#d8576b"
             ],
             [
              0.6666666666666666,
              "#ed7953"
             ],
             [
              0.7777777777777778,
              "#fb9f3a"
             ],
             [
              0.8888888888888888,
              "#fdca26"
             ],
             [
              1,
              "#f0f921"
             ]
            ],
            "type": "contour"
           }
          ],
          "contourcarpet": [
           {
            "colorbar": {
             "outlinewidth": 0,
             "ticks": ""
            },
            "type": "contourcarpet"
           }
          ],
          "heatmap": [
           {
            "colorbar": {
             "outlinewidth": 0,
             "ticks": ""
            },
            "colorscale": [
             [
              0,
              "#0d0887"
             ],
             [
              0.1111111111111111,
              "#46039f"
             ],
             [
              0.2222222222222222,
              "#7201a8"
             ],
             [
              0.3333333333333333,
              "#9c179e"
             ],
             [
              0.4444444444444444,
              "#bd3786"
             ],
             [
              0.5555555555555556,
              "#d8576b"
             ],
             [
              0.6666666666666666,
              "#ed7953"
             ],
             [
              0.7777777777777778,
              "#fb9f3a"
             ],
             [
              0.8888888888888888,
              "#fdca26"
             ],
             [
              1,
              "#f0f921"
             ]
            ],
            "type": "heatmap"
           }
          ],
          "histogram": [
           {
            "marker": {
             "pattern": {
              "fillmode": "overlay",
              "size": 10,
              "solidity": 0.2
             }
            },
            "type": "histogram"
           }
          ],
          "histogram2d": [
           {
            "colorbar": {
             "outlinewidth": 0,
             "ticks": ""
            },
            "colorscale": [
             [
              0,
              "#0d0887"
             ],
             [
              0.1111111111111111,
              "#46039f"
             ],
             [
              0.2222222222222222,
              "#7201a8"
             ],
             [
              0.3333333333333333,
              "#9c179e"
             ],
             [
              0.4444444444444444,
              "#bd3786"
             ],
             [
              0.5555555555555556,
              "#d8576b"
             ],
             [
              0.6666666666666666,
              "#ed7953"
             ],
             [
              0.7777777777777778,
              "#fb9f3a"
             ],
             [
              0.8888888888888888,
              "#fdca26"
             ],
             [
              1,
              "#f0f921"
             ]
            ],
            "type": "histogram2d"
           }
          ],
          "histogram2dcontour": [
           {
            "colorbar": {
             "outlinewidth": 0,
             "ticks": ""
            },
            "colorscale": [
             [
              0,
              "#0d0887"
             ],
             [
              0.1111111111111111,
              "#46039f"
             ],
             [
              0.2222222222222222,
              "#7201a8"
             ],
             [
              0.3333333333333333,
              "#9c179e"
             ],
             [
              0.4444444444444444,
              "#bd3786"
             ],
             [
              0.5555555555555556,
              "#d8576b"
             ],
             [
              0.6666666666666666,
              "#ed7953"
             ],
             [
              0.7777777777777778,
              "#fb9f3a"
             ],
             [
              0.8888888888888888,
              "#fdca26"
             ],
             [
              1,
              "#f0f921"
             ]
            ],
            "type": "histogram2dcontour"
           }
          ],
          "mesh3d": [
           {
            "colorbar": {
             "outlinewidth": 0,
             "ticks": ""
            },
            "type": "mesh3d"
           }
          ],
          "parcoords": [
           {
            "line": {
             "colorbar": {
              "outlinewidth": 0,
              "ticks": ""
             }
            },
            "type": "parcoords"
           }
          ],
          "pie": [
           {
            "automargin": true,
            "type": "pie"
           }
          ],
          "scatter": [
           {
            "fillpattern": {
             "fillmode": "overlay",
             "size": 10,
             "solidity": 0.2
            },
            "type": "scatter"
           }
          ],
          "scatter3d": [
           {
            "line": {
             "colorbar": {
              "outlinewidth": 0,
              "ticks": ""
             }
            },
            "marker": {
             "colorbar": {
              "outlinewidth": 0,
              "ticks": ""
             }
            },
            "type": "scatter3d"
           }
          ],
          "scattercarpet": [
           {
            "marker": {
             "colorbar": {
              "outlinewidth": 0,
              "ticks": ""
             }
            },
            "type": "scattercarpet"
           }
          ],
          "scattergeo": [
           {
            "marker": {
             "colorbar": {
              "outlinewidth": 0,
              "ticks": ""
             }
            },
            "type": "scattergeo"
           }
          ],
          "scattergl": [
           {
            "marker": {
             "colorbar": {
              "outlinewidth": 0,
              "ticks": ""
             }
            },
            "type": "scattergl"
           }
          ],
          "scattermap": [
           {
            "marker": {
             "colorbar": {
              "outlinewidth": 0,
              "ticks": ""
             }
            },
            "type": "scattermap"
           }
          ],
          "scattermapbox": [
           {
            "marker": {
             "colorbar": {
              "outlinewidth": 0,
              "ticks": ""
             }
            },
            "type": "scattermapbox"
           }
          ],
          "scatterpolar": [
           {
            "marker": {
             "colorbar": {
              "outlinewidth": 0,
              "ticks": ""
             }
            },
            "type": "scatterpolar"
           }
          ],
          "scatterpolargl": [
           {
            "marker": {
             "colorbar": {
              "outlinewidth": 0,
              "ticks": ""
             }
            },
            "type": "scatterpolargl"
           }
          ],
          "scatterternary": [
           {
            "marker": {
             "colorbar": {
              "outlinewidth": 0,
              "ticks": ""
             }
            },
            "type": "scatterternary"
           }
          ],
          "surface": [
           {
            "colorbar": {
             "outlinewidth": 0,
             "ticks": ""
            },
            "colorscale": [
             [
              0,
              "#0d0887"
             ],
             [
              0.1111111111111111,
              "#46039f"
             ],
             [
              0.2222222222222222,
              "#7201a8"
             ],
             [
              0.3333333333333333,
              "#9c179e"
             ],
             [
              0.4444444444444444,
              "#bd3786"
             ],
             [
              0.5555555555555556,
              "#d8576b"
             ],
             [
              0.6666666666666666,
              "#ed7953"
             ],
             [
              0.7777777777777778,
              "#fb9f3a"
             ],
             [
              0.8888888888888888,
              "#fdca26"
             ],
             [
              1,
              "#f0f921"
             ]
            ],
            "type": "surface"
           }
          ],
          "table": [
           {
            "cells": {
             "fill": {
              "color": "#EBF0F8"
             },
             "line": {
              "color": "white"
             }
            },
            "header": {
             "fill": {
              "color": "#C8D4E3"
             },
             "line": {
              "color": "white"
             }
            },
            "type": "table"
           }
          ]
         },
         "layout": {
          "annotationdefaults": {
           "arrowcolor": "#2a3f5f",
           "arrowhead": 0,
           "arrowwidth": 1
          },
          "autotypenumbers": "strict",
          "coloraxis": {
           "colorbar": {
            "outlinewidth": 0,
            "ticks": ""
           }
          },
          "colorscale": {
           "diverging": [
            [
             0,
             "#8e0152"
            ],
            [
             0.1,
             "#c51b7d"
            ],
            [
             0.2,
             "#de77ae"
            ],
            [
             0.3,
             "#f1b6da"
            ],
            [
             0.4,
             "#fde0ef"
            ],
            [
             0.5,
             "#f7f7f7"
            ],
            [
             0.6,
             "#e6f5d0"
            ],
            [
             0.7,
             "#b8e186"
            ],
            [
             0.8,
             "#7fbc41"
            ],
            [
             0.9,
             "#4d9221"
            ],
            [
             1,
             "#276419"
            ]
           ],
           "sequential": [
            [
             0,
             "#0d0887"
            ],
            [
             0.1111111111111111,
             "#46039f"
            ],
            [
             0.2222222222222222,
             "#7201a8"
            ],
            [
             0.3333333333333333,
             "#9c179e"
            ],
            [
             0.4444444444444444,
             "#bd3786"
            ],
            [
             0.5555555555555556,
             "#d8576b"
            ],
            [
             0.6666666666666666,
             "#ed7953"
            ],
            [
             0.7777777777777778,
             "#fb9f3a"
            ],
            [
             0.8888888888888888,
             "#fdca26"
            ],
            [
             1,
             "#f0f921"
            ]
           ],
           "sequentialminus": [
            [
             0,
             "#0d0887"
            ],
            [
             0.1111111111111111,
             "#46039f"
            ],
            [
             0.2222222222222222,
             "#7201a8"
            ],
            [
             0.3333333333333333,
             "#9c179e"
            ],
            [
             0.4444444444444444,
             "#bd3786"
            ],
            [
             0.5555555555555556,
             "#d8576b"
            ],
            [
             0.6666666666666666,
             "#ed7953"
            ],
            [
             0.7777777777777778,
             "#fb9f3a"
            ],
            [
             0.8888888888888888,
             "#fdca26"
            ],
            [
             1,
             "#f0f921"
            ]
           ]
          },
          "colorway": [
           "#636efa",
           "#EF553B",
           "#00cc96",
           "#ab63fa",
           "#FFA15A",
           "#19d3f3",
           "#FF6692",
           "#B6E880",
           "#FF97FF",
           "#FECB52"
          ],
          "font": {
           "color": "#2a3f5f"
          },
          "geo": {
           "bgcolor": "white",
           "lakecolor": "white",
           "landcolor": "#E5ECF6",
           "showlakes": true,
           "showland": true,
           "subunitcolor": "white"
          },
          "hoverlabel": {
           "align": "left"
          },
          "hovermode": "closest",
          "mapbox": {
           "style": "light"
          },
          "paper_bgcolor": "white",
          "plot_bgcolor": "#E5ECF6",
          "polar": {
           "angularaxis": {
            "gridcolor": "white",
            "linecolor": "white",
            "ticks": ""
           },
           "bgcolor": "#E5ECF6",
           "radialaxis": {
            "gridcolor": "white",
            "linecolor": "white",
            "ticks": ""
           }
          },
          "scene": {
           "xaxis": {
            "backgroundcolor": "#E5ECF6",
            "gridcolor": "white",
            "gridwidth": 2,
            "linecolor": "white",
            "showbackground": true,
            "ticks": "",
            "zerolinecolor": "white"
           },
           "yaxis": {
            "backgroundcolor": "#E5ECF6",
            "gridcolor": "white",
            "gridwidth": 2,
            "linecolor": "white",
            "showbackground": true,
            "ticks": "",
            "zerolinecolor": "white"
           },
           "zaxis": {
            "backgroundcolor": "#E5ECF6",
            "gridcolor": "white",
            "gridwidth": 2,
            "linecolor": "white",
            "showbackground": true,
            "ticks": "",
            "zerolinecolor": "white"
           }
          },
          "shapedefaults": {
           "line": {
            "color": "#2a3f5f"
           }
          },
          "ternary": {
           "aaxis": {
            "gridcolor": "white",
            "linecolor": "white",
            "ticks": ""
           },
           "baxis": {
            "gridcolor": "white",
            "linecolor": "white",
            "ticks": ""
           },
           "bgcolor": "#E5ECF6",
           "caxis": {
            "gridcolor": "white",
            "linecolor": "white",
            "ticks": ""
           }
          },
          "title": {
           "x": 0.05
          },
          "xaxis": {
           "automargin": true,
           "gridcolor": "white",
           "linecolor": "white",
           "ticks": "",
           "title": {
            "standoff": 15
           },
           "zerolinecolor": "white",
           "zerolinewidth": 2
          },
          "yaxis": {
           "automargin": true,
           "gridcolor": "white",
           "linecolor": "white",
           "ticks": "",
           "title": {
            "standoff": 15
           },
           "zerolinecolor": "white",
           "zerolinewidth": 2
          }
         }
        },
        "title": {
         "text": "3D Odometry vs Ground Truth Trajectory (normalized)"
        }
       }
      }
     },
     "metadata": {},
     "output_type": "display_data"
    }
   ],
   "source": [
    "import plotly.graph_objs as go\n",
    "import numpy as np\n",
    "\n",
    "# --- Trajektoria odometrii ---\n",
    "trajectory_3d_np = np.array(trajectory_3d)\n",
    "trajectory_3d_np = trajectory_3d_np[::5]\n",
    "max_vals = np.max(np.abs(trajectory_3d_np), axis=0)\n",
    "trajectory_3d_np = trajectory_3d_np / max_vals\n",
    "\n",
    "window = 3\n",
    "if len(trajectory_3d_np) >= window:\n",
    "    kernel = np.ones((window, 1)) / window\n",
    "    traj_ma = np.vstack(\n",
    "        [\n",
    "            np.convolve(trajectory_3d_np[:, 0], kernel.ravel(), mode=\"valid\"),\n",
    "            np.convolve(trajectory_3d_np[:, 1], kernel.ravel(), mode=\"valid\"),\n",
    "            np.convolve(trajectory_3d_np[:, 2], kernel.ravel(), mode=\"valid\"),\n",
    "        ]\n",
    "    ).T\n",
    "else:\n",
    "    traj_ma = trajectory_3d_np\n",
    "\n",
    "# --- Ground Truth ---\n",
    "gt_file = r\"C:\\VisualOdometry\\falcon_indoor_flight_1_pose_evo_gt.txt\"\n",
    "gt_positions = []\n",
    "with open(gt_file, \"r\") as f:\n",
    "    for line in f:\n",
    "        if line.strip() == \"\" or line.startswith(\"#\"):\n",
    "            continue\n",
    "        parts = line.strip().split()\n",
    "        tx, ty, tz = map(float, parts[1:4])\n",
    "        gt_positions.append([tx, ty, tz])\n",
    "gt_positions = np.array(gt_positions)\n",
    "max_vals_gt = np.max(np.abs(gt_positions), axis=0)\n",
    "gt_norm = gt_positions / max_vals_gt\n",
    "\n",
    "# --- Wspólny wykres ---\n",
    "fig = go.Figure()\n",
    "\n",
    "# Oryginalna trajektoria odometrii\n",
    "fig.add_trace(\n",
    "    go.Scatter3d(\n",
    "        x=-trajectory_3d_np[:, 0],\n",
    "        y=trajectory_3d_np[:, 1],\n",
    "        z=-trajectory_3d_np[:, 2],\n",
    "        mode=\"lines\",\n",
    "        line=dict(color=\"green\", width=2),\n",
    "        opacity=0.3,\n",
    "        name=\"Odometry Original\",\n",
    "    )\n",
    ")\n",
    "\n",
    "# Wygładzona trajektoria odometrii\n",
    "fig.add_trace(\n",
    "    go.Scatter3d(\n",
    "        x=-traj_ma[:, 0],\n",
    "        y=traj_ma[:, 1],\n",
    "        z=-traj_ma[:, 2],\n",
    "        mode=\"lines\",\n",
    "        line=dict(color=\"blue\", width=6),\n",
    "        opacity=1.0,\n",
    "        name=\"Odometry Moving Average\",\n",
    "    )\n",
    ")\n",
    "\n",
    "# Ground Truth\n",
    "fig.add_trace(\n",
    "    go.Scatter3d(\n",
    "        x=gt_norm[:, 0],\n",
    "        y=gt_norm[:, 2],\n",
    "        z=-gt_norm[:, 1],\n",
    "        mode=\"lines\",\n",
    "        line=dict(color=\"red\", width=4),\n",
    "        name=\"Ground Truth\",\n",
    "    )\n",
    ")\n",
    "\n",
    "fig.update_layout(\n",
    "    scene=dict(xaxis_title=\"X\", yaxis_title=\"Y\", zaxis_title=\"Z\"),\n",
    "    title=\"3D Odometry vs Ground Truth Trajectory (normalized)\",\n",
    ")\n",
    "fig.show()"
   ]
  },
  {
   "cell_type": "code",
   "execution_count": 107,
   "id": "bcf616ec",
   "metadata": {},
   "outputs": [
    {
     "data": {
      "application/vnd.plotly.v1+json": {
       "config": {
        "plotlyServerURL": "https://plot.ly"
       },
       "data": [
        {
         "line": {
          "color": "green",
          "width": 2
         },
         "mode": "lines",
         "name": "Odometry (scaled)",
         "opacity": 0.3,
         "type": "scatter3d",
         "x": {
          "bdata": "AAAAAAAAAIA0FkI5ZICVP+br6zG776o/4X6K4iBXrb8oOmTP0KGyvwajT4Qzvsa/3HlAnCK8zL8xCwTN07/Qv6Q4tpEu3Ny/nKC3Wk883r/49DlmyUfjvynret+KXt+/lSB21/o94r+ZgKyBQLLhv5oF4dGcb+C/BvEBGYC84L89N+Lt+Kzdv6zHPO63V92/gXwpDn244b8aMz9iSzLfvyejqHGaRdy/Gcq0PyAV278Wov13KWHhv89VJcalh+S/QE/aJ+sS5b8Ai3B0wbfgv9rA8dzXY9O/eH7xrNie1L/e9DWu+1jHv2s40rtxadC/tmkXtvyz0b8X9K1+d57dv5V3j3Ec1t+/06n7gzY83L8EkbR612fQvwPe2rhL1dG/IfNMKOXe2L+RN55nTbDWv/kiPPd+Atm/sa81koNS27/E0YGZPgvev8u+AspCI+K/4aKAd+NG4r9y2dS4BcPZv0Eh3L0MsN+/NOAl3o/Y4L/TQcShn9bpvwAAAAAAAPC/U4SW4hSw7b/xyNVVraDvvxI+IZGbeeu/ANzLJvbS6L/LykfTYyXgv2q02G/Dvd+/o5m07gGG5b/7+9KcOV/ivwFYi0hpQuC/qCp8oA+91L8AA1PvuAHNv6wBFFf4ysu/3UXJOKtw1L/GIwQyO5bfv02RkjN9p56/P2aX30pjsD+ywpSYlE7PP0ib0GxdcOA/wWQAT09Q1z9oidmqzl7ZP85JG/CVmtU/PFiyhA691z+qan7AXJrhP9qhghk+u98/NXxHrgvF2z++HEr3+gjiP4awfl/m+dc/MgKBvXcd0T/+aOj1rc3RP4Y+0qREC9Q/m16jwVEtoD90dWuO5WqaP5lyTd7Ov4M/VZold/pwgz+Cu3e9nXWzP7YFgXdZpqW/GaXvJAdzaD+UaYB9hBq8v3HRoHa82MC/vcajCZVjmj/qP6dpnjClv1Bza+Zjysm/apyrIZmEvL/WBZwjWS6zv6SNgTPVuMG/injSYnb4zr+aO/tXCtPBv92bWu1DZ6+/cvtsNrKAsL8eTo2UFtG0v+3Vj71zncq/jXxhjysVwb8=",
          "dtype": "f8"
         },
         "y": {
          "bdata": "AAAAAAAAAAABrS2C5h3Av2+eldC6Kcu/XVPCeq8zwr+e1JEPhbTBv1REW0Enq4c/Nof5k9NDgL+XfS4tzfSnPwlxEn2hhIe/zD+5i14KxD9L3OT6JXqsPyB124IgM8A/6nutNva+wj+G3casILC6P0ye/lEp9qk/8A5fpkv7wT8vi/5ltybBP+Bkyv6IrtE/dXyVSiMx0j/mqyKww2XFP1VT8GsCX8k/o1gAg9vpxD/cXluJraXBP/ZuddwnvsU/oG8S/xuhyz9j2iSlf87RPykKPQ38188/pXqQjRuivT9siDaNTYfKP1fftdpB+dA/hkxB3wmdzj83z9etJADTP2pb88/V6tM/SHpqz+EP1j+pPGpZPD3jP7QGElJaVuM/icyez2Dq4T/ehcPYn1nfP6lPw2F43+A/aOGNXvqp4j8s590D+MneP0cuH+NI8NU/GVzHYfa3zT/wfgqDBdnCP0xSCuS1vsE/bC22oRtvyT9uz/nvgEDPP4cKdHCei8c/KAbN4nLwvD+2KBNMxIa7P/x1m3W6v8g/9llagx6AxD97zSzCmCDVPzHJJ//jX9I/Fh3Uu1R0zD/HtDC/+yS7P0sb1JwY46o/+xBm+mSuqD/kwmS69pXFP6Rb9jSqE8k/qCug34Uf0j9TQVxL19XTP6EPZ+10jNM/UsR2vyLT0z//Jp87Yq/VP5v+vQynjNY/G5q7UaSw3T97e8eCwdHfP6qwEWHGiOA/Qw2kFCJ25T9qZIX4UQ3mPwLR7XnfdeU/oK0DgZyL5j+hoIhydOPqP5M1YUKixu0/aGxkW3/K7j8xt1rZG/PsPwAAAAAAAPA/R8f1QMeg6j+eAt5KGLvrPzlKK11lWeU//7JBnXmq4z9zIXf4LhDjP8JT3NCvfOQ/v+oUqKJ45D9PNqxsMdvlP2J9wrdRHuM/2brAe/eh4D8ZUYHjeu3fP6KUloIxgtw/SmtOovkd2j/cDnHj49vEP85oM6z9H7W/dIdKO5Lwyb9+6q/wKHe3v+ntTdTLi7U/v7+va64EzD/ILnk+aUfYP5emJVoC6tM/kQLbNLCE1T8=",
          "dtype": "f8"
         },
         "z": {
          "bdata": "AAAAAAAAAICTv4gg8ajTP1S2xbo1Adg/XljoTlBb1j+GeVD3U2XUP7i0qW0EUeE/HWexnPOK3T+CkBSKbOLgPyz7Gcie7eE/I72PA2X53z8SCqfd0rXbPzeZRF7S/tg/gXn0F2mP2T8iA5fjhZ7UPxwzXx/TINE/ADPjDiyR0T90hyxMrgbUP6BGocfh6co/9LGsbe842T/GkMOeaoDNPzsRLaG+isU/3UpMylzfqj8jBRnBP0LFPwOCwmL2Xc8/Aa0rSQll1T+AhrpqVDnTP73II/iLG8c/3LmIqyQK2z8iqEV/btfdP2Fb+MRJOds/MdXyVTqB4D/lBYN5J4zjPwuEKhNlHd4/Zn5x3QZf5D8yqokc7yzjP6XcIe0oqeU/l+nTtzJg5T+AvyTLQW3ePwILd++Gg+Q/myzp0n7z5z/7hywBqGnmPzF1IMcig+M/GQh2nZ+G6D8vqOTf/THpP+ERXnRQL+s/VsbR8Y6O6z8AAAAAAADwPzYXqXvq4Og/bEMIrAUA6T8nTMJtSt7lP2heBho24OU/CMIJ9NYm5z/rFlfsW7frP5TJ0KOHPeY/5ywdrf1L5T+SkGULX+niP8t5wD0Ohdw/Dd+92aLr3T8ABbZ8jcvhP6Vz56YZnN8/bWoABQnw4j/GbhgIL+rnP/YbrBO61uY/1I/uYMGp5j+XcO8HUEnmP75bRAfctuU/ggP1Yg7a5z/MdfLBGOTnP17+QmPnGuY/nv91TnF+6T9kARQSBOfqP+s2ozaUPe0/4uuJu/f+6j/7gGyWKW3pP+GCulJeZ+s//HtXEna/6D+wecQHz7LqPxbzd8AnfeU/GXp2mHgH6T+JMy8vZ9foP8+PT7kQmOg/bbDR+Q866z/6udpzO1boP0hVb1sGC+s/iheIvY5w6j+9wPGoXPvlP3VxSI2nQOA/1MT70hDQ1j846ltGEZPRP+QnwVXQ+ro/bT/8tfxiw7+zpP6/xkm/v06qqpXXu5C/2nzS0q0cwD/w0yrbJY7EP9RzVipBlKQ/0qYIRUOztT/ONs/1VOm6v1Cks09v/cS/E170DAVmq78=",
          "dtype": "f8"
         }
        },
        {
         "line": {
          "color": "blue",
          "width": 6
         },
         "mode": "lines",
         "name": "Odometry Moving Average (scaled)",
         "opacity": 1,
         "type": "scatter3d",
         "x": {
          "bdata": "VE+zifMfmT+klQYgIUJ2P90Emt8Ecpq/4j8Yw0JDur/8vcCCv0PEvxYRiJNUU8y/QIDzjgb+0796odA9G0jZv4igJXStRuC/nhNx1ryx4L+2gySPWLzhv5YHoO0qNeG/7YxWDkh14b8SfdrOyfTgv7+wRsvdAOC/UKALWpDU3r/4p9BSjnzfv0JRmnlU/t+/bJoTUPWi379yNTSxrNncvyQ7yDWvCd6/UHRUH3Um4b+2F/8hPqnjvwUQ0CDGcOO/yNHXsWWo378bx5Z7ZnvYv5Vo/8pkOtG/xuX0v0I80L8KEwOGnYbOvxIy3fqhPtW/IEcc4tpi2r9/XGjRmOXdv86QaiUOftm/SAjZ5x3T1L8NdknJArTTv+cCQhgqzNW/OG9igpAw2L8UrlpQxQHZvySMpgtrddu/rf8+lcI237+EwxbaQSXhvyKapLSNbuC/J8CQzJ1V378I6f4QZmHev+IQSEpnguO/WAtO1Q/l6L+37MjW5iztv8IZJGjrGu+/HNnZ7cmY7b9W9kCvv/nrv/T2Zi6n0Oa/qlVVO2ny4r+MP/h9wtjhv/FP0Wu0luK/NU8GnOG34r/f8BJ5HADev2PJvo0/lta//446wSJh0L9m7f7zq0fQv34jHTJ2+dW/6DACah/70b+H9+SIlZrDv8UX9OuGx7c/fdBFn/KK0T/i/qPRxvLXPzwMKfHyL9s/Ur1Ro+Zt1z/QY+JfJpLXPx99Q6d02do/eJoQtaw53j/L++zCq5HfP4NyH5Jq298/Z3dzqaJF3T+7TjFZcbjZPzwJ+LCuodM/542+ciNS0j86Yp+MaJTKP+ss50d8n78/UvnyKtDhlj/ypxgm3KyOP2oTxJokPaA/2h/11oCBjT9/j/ycGBCJP9n0EABmcam/GoUzuyFYtL9CXshiXWayvxo2yD+XIKm/94bAP7uGsr+qC3K2Oju+vyVsWlj0i8C/2OkY5N62u78IA7ZifW3Dv+0VxaQcLMa/s3Nh58Xhwr/c6lr0Ip62vyrdN+t4rLG/zlGzbOUuvr/Y/WcyDgnCvw==",
          "dtype": "f8"
         },
         "y": {
          "bdata": "SjKCjGvavL+Z34FEcH7EvyJCo3P6BcW/JE3UDqzztr+6S/pwav2mvz/zWRBsNJE/Xv854T+ugj/AeiIqhV+wP4qKa0xpILE//0eJswXovD9oxdZ6FQu8P0R1+a+3GMA/f2FglmC4uT+Ew9bg7jW5P3bW6JWzv7s/oHb7rbF/xz/zGepSBaLNP9ok9sBeDM8/tlK/5a63yz+ecgY1i4/GP5wDxNKDT8U/J2LwouUZxD97FKEh+1bGP3SG8GEWVMw/2mSIxweyzz/A/sS0rWzLP6KavnVyZcg/eYEjA/UYyT+Khva181zOP5txDyj5F9E/9prOeSoT0j/4NmfEnlPUPwHFEMa60do/K4AQMS2J4D/3r7PTp9TiP2SHW6+DpOE/YEpBXzjS4D8A/JA5FhLhP+K2ausk+uA/FkgIjLwE3j/V60pdaYfWPzK9Wo6E0M4/cWRJmJAaxj84qkNY8qzEPwzF6NFwz8g/IK22AGm+yj9YdPFFyBbHP1ILTK1oQsE/ztkDrxypwT/EdqpfvqvDP/h4Gn8DK80/jJYAAYSV0D9ojL9f4ujRP0kDlIgzQso/xNQ1lt0/wD9O7pmDk6SxP6PezGo5/LY/Qjb8uWicwT/y0TM65KLLP++I0sEQ1dA/iSkhCEYr0z8XB75SerzTP1D+fk1TWtQ/pPibAmRa1T/mPwjeOaTYP2WxFUsEBdw/+Hw3MqaG3z+Ofgi97ffhPx22E3oTBOQ/5cAHLXGo5T8EoSdR7wTmP8Bf03mloec/RoGkvDtn6j80Fhqw3CbtPw9ztSe/1u0/3guVEYmU7j8oKnCzSzHtP0tD8YNKyew/CVyqTWw86T9GVW5sUurmP+S09lCvBuQ/Zg2Hdx294z/8H3jQ1QHkP0V8NPcr8OQ/JYrW7mF75D8uerqK0zPjP0KgFjcCPeE/znOIdN473z+sxcwC4tncP8jXiQdfr9U/WBD8xfLXxD9UkZmSkdukvwi7PoMMFMC/f66n29Xusb+jK//o/wmyP2yx7fDMHc0/ajzSRJZm0z/6R9OZXufVPw==",
          "dtype": "f8"
         },
         "z": {
          "bdata": "7qOJ5xkczT8Wmmdj0gHWPxLYVACeQNY/cb4uC4/L2T9cw3F6xTDcP+5Ssuz4UuA/FBUtYCyH4D9qI1Lx6e7gP9npeNDR2N8/eXV+agM63D9DtEpxrxbaP/OxmsiVudc/6o+js0Aa1T9qeEhbLHDSP4WkzyiPPdI/QR+gv0ME0T/onjjfhJHTP+IJ9Ypcz9E/UVaMBCzq0D/n5ismAEHDP7IN84acgcA/9N0kcgTIwz9ioLs8GM7PP4HRF/dyxNI/oLJS5Qtk0T8+DMewv0XTPx7CSmLIz9Y/yunsT/QI3D+i5AtQZAbeP5itUDsCjuA/CV+uHVwJ4T8aQoP1SlPiP4ojMIGNM+I/aqwJTQpn5D96JdWVw7zkP1S3goOpauM/Hhyf2cgI4z90MqbijOTjP90/hJbkSuY/QmNn3m315T8WV5bMeCbmP9JhfsHqE+c/uEDopaSi6T931QbCSaXqP7zyDyL16ew/Lp/TeSgl7D/gyOW3+krrP0Pie9xo6uc/U0/wuyzq5j+HeZt+ckzmPx69d1N4P+g/2OBlgZNe6D/MWWwUS8DnPwQtccn20OQ/H/4gnfYn4j9UlGEyPQvgP/IgTrDuV98/HjpYlM4v4D9quLhxNoPhP1aG2UpsjeM/uFHsCqbl5T/aCJEpjiPnP8tegymZmOY/uB62eqQ45j/y72J7E57mPwRHuQ4BJ+c/OX1jLVpI5z/te44me9TnPyBVREF01eg/T725h1g26z9lYcBWhbbrP5g2M9iROOs/PqXlNtWb6j9I1dRT/9vpPy4o8s6LSOo/6qKG885P6D/0TObKz2foPz3gCdhXyec/0Gn8KlDS6D9B0Rr2143pPxH+U2LJYuk/j+qz7cUz6j9DYpvZmvDpP9q5TeulJ+k/kxiWptuO5T80XD01BIzgP6Yw+LslTNg/WPsvH+Rrzz+jcL2rXoCzPxr9I+SfuKy/tUTLBZK/uL+4HRdUBVJxvwD9L9LlDLc/1fNhUO3fuz802C0w5V24P6DfGMKkFXs/EjvJivV1r799j+WzvIe7vw==",
          "dtype": "f8"
         }
        },
        {
         "line": {
          "color": "red",
          "width": 4
         },
         "mode": "lines",
         "name": "Ground Truth",
         "type": "scatter3d",
         "x": {
          "bdata": "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",
          "dtype": "f8"
         },
         "y": {
          "bdata": "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",
          "dtype": "f8"
         },
         "z": {
          "bdata": "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",
          "dtype": "f8"
         }
        }
       ],
       "layout": {
        "scene": {
         "xaxis": {
          "title": {
           "text": "X"
          }
         },
         "yaxis": {
          "title": {
           "text": "Y"
          }
         },
         "zaxis": {
          "title": {
           "text": "Z"
          }
         }
        },
        "template": {
         "data": {
          "bar": [
           {
            "error_x": {
             "color": "#2a3f5f"
            },
            "error_y": {
             "color": "#2a3f5f"
            },
            "marker": {
             "line": {
              "color": "#E5ECF6",
              "width": 0.5
             },
             "pattern": {
              "fillmode": "overlay",
              "size": 10,
              "solidity": 0.2
             }
            },
            "type": "bar"
           }
          ],
          "barpolar": [
           {
            "marker": {
             "line": {
              "color": "#E5ECF6",
              "width": 0.5
             },
             "pattern": {
              "fillmode": "overlay",
              "size": 10,
              "solidity": 0.2
             }
            },
            "type": "barpolar"
           }
          ],
          "carpet": [
           {
            "aaxis": {
             "endlinecolor": "#2a3f5f",
             "gridcolor": "white",
             "linecolor": "white",
             "minorgridcolor": "white",
             "startlinecolor": "#2a3f5f"
            },
            "baxis": {
             "endlinecolor": "#2a3f5f",
             "gridcolor": "white",
             "linecolor": "white",
             "minorgridcolor": "white",
             "startlinecolor": "#2a3f5f"
            },
            "type": "carpet"
           }
          ],
          "choropleth": [
           {
            "colorbar": {
             "outlinewidth": 0,
             "ticks": ""
            },
            "type": "choropleth"
           }
          ],
          "contour": [
           {
            "colorbar": {
             "outlinewidth": 0,
             "ticks": ""
            },
            "colorscale": [
             [
              0,
              "#0d0887"
             ],
             [
              0.1111111111111111,
              "#46039f"
             ],
             [
              0.2222222222222222,
              "#7201a8"
             ],
             [
              0.3333333333333333,
              "#9c179e"
             ],
             [
              0.4444444444444444,
              "#bd3786"
             ],
             [
              0.5555555555555556,
              "#d8576b"
             ],
             [
              0.6666666666666666,
              "#ed7953"
             ],
             [
              0.7777777777777778,
              "#fb9f3a"
             ],
             [
              0.8888888888888888,
              "#fdca26"
             ],
             [
              1,
              "#f0f921"
             ]
            ],
            "type": "contour"
           }
          ],
          "contourcarpet": [
           {
            "colorbar": {
             "outlinewidth": 0,
             "ticks": ""
            },
            "type": "contourcarpet"
           }
          ],
          "heatmap": [
           {
            "colorbar": {
             "outlinewidth": 0,
             "ticks": ""
            },
            "colorscale": [
             [
              0,
              "#0d0887"
             ],
             [
              0.1111111111111111,
              "#46039f"
             ],
             [
              0.2222222222222222,
              "#7201a8"
             ],
             [
              0.3333333333333333,
              "#9c179e"
             ],
             [
              0.4444444444444444,
              "#bd3786"
             ],
             [
              0.5555555555555556,
              "#d8576b"
             ],
             [
              0.6666666666666666,
              "#ed7953"
             ],
             [
              0.7777777777777778,
              "#fb9f3a"
             ],
             [
              0.8888888888888888,
              "#fdca26"
             ],
             [
              1,
              "#f0f921"
             ]
            ],
            "type": "heatmap"
           }
          ],
          "histogram": [
           {
            "marker": {
             "pattern": {
              "fillmode": "overlay",
              "size": 10,
              "solidity": 0.2
             }
            },
            "type": "histogram"
           }
          ],
          "histogram2d": [
           {
            "colorbar": {
             "outlinewidth": 0,
             "ticks": ""
            },
            "colorscale": [
             [
              0,
              "#0d0887"
             ],
             [
              0.1111111111111111,
              "#46039f"
             ],
             [
              0.2222222222222222,
              "#7201a8"
             ],
             [
              0.3333333333333333,
              "#9c179e"
             ],
             [
              0.4444444444444444,
              "#bd3786"
             ],
             [
              0.5555555555555556,
              "#d8576b"
             ],
             [
              0.6666666666666666,
              "#ed7953"
             ],
             [
              0.7777777777777778,
              "#fb9f3a"
             ],
             [
              0.8888888888888888,
              "#fdca26"
             ],
             [
              1,
              "#f0f921"
             ]
            ],
            "type": "histogram2d"
           }
          ],
          "histogram2dcontour": [
           {
            "colorbar": {
             "outlinewidth": 0,
             "ticks": ""
            },
            "colorscale": [
             [
              0,
              "#0d0887"
             ],
             [
              0.1111111111111111,
              "#46039f"
             ],
             [
              0.2222222222222222,
              "#7201a8"
             ],
             [
              0.3333333333333333,
              "#9c179e"
             ],
             [
              0.4444444444444444,
              "#bd3786"
             ],
             [
              0.5555555555555556,
              "#d8576b"
             ],
             [
              0.6666666666666666,
              "#ed7953"
             ],
             [
              0.7777777777777778,
              "#fb9f3a"
             ],
             [
              0.8888888888888888,
              "#fdca26"
             ],
             [
              1,
              "#f0f921"
             ]
            ],
            "type": "histogram2dcontour"
           }
          ],
          "mesh3d": [
           {
            "colorbar": {
             "outlinewidth": 0,
             "ticks": ""
            },
            "type": "mesh3d"
           }
          ],
          "parcoords": [
           {
            "line": {
             "colorbar": {
              "outlinewidth": 0,
              "ticks": ""
             }
            },
            "type": "parcoords"
           }
          ],
          "pie": [
           {
            "automargin": true,
            "type": "pie"
           }
          ],
          "scatter": [
           {
            "fillpattern": {
             "fillmode": "overlay",
             "size": 10,
             "solidity": 0.2
            },
            "type": "scatter"
           }
          ],
          "scatter3d": [
           {
            "line": {
             "colorbar": {
              "outlinewidth": 0,
              "ticks": ""
             }
            },
            "marker": {
             "colorbar": {
              "outlinewidth": 0,
              "ticks": ""
             }
            },
            "type": "scatter3d"
           }
          ],
          "scattercarpet": [
           {
            "marker": {
             "colorbar": {
              "outlinewidth": 0,
              "ticks": ""
             }
            },
            "type": "scattercarpet"
           }
          ],
          "scattergeo": [
           {
            "marker": {
             "colorbar": {
              "outlinewidth": 0,
              "ticks": ""
             }
            },
            "type": "scattergeo"
           }
          ],
          "scattergl": [
           {
            "marker": {
             "colorbar": {
              "outlinewidth": 0,
              "ticks": ""
             }
            },
            "type": "scattergl"
           }
          ],
          "scattermap": [
           {
            "marker": {
             "colorbar": {
              "outlinewidth": 0,
              "ticks": ""
             }
            },
            "type": "scattermap"
           }
          ],
          "scattermapbox": [
           {
            "marker": {
             "colorbar": {
              "outlinewidth": 0,
              "ticks": ""
             }
            },
            "type": "scattermapbox"
           }
          ],
          "scatterpolar": [
           {
            "marker": {
             "colorbar": {
              "outlinewidth": 0,
              "ticks": ""
             }
            },
            "type": "scatterpolar"
           }
          ],
          "scatterpolargl": [
           {
            "marker": {
             "colorbar": {
              "outlinewidth": 0,
              "ticks": ""
             }
            },
            "type": "scatterpolargl"
           }
          ],
          "scatterternary": [
           {
            "marker": {
             "colorbar": {
              "outlinewidth": 0,
              "ticks": ""
             }
            },
            "type": "scatterternary"
           }
          ],
          "surface": [
           {
            "colorbar": {
             "outlinewidth": 0,
             "ticks": ""
            },
            "colorscale": [
             [
              0,
              "#0d0887"
             ],
             [
              0.1111111111111111,
              "#46039f"
             ],
             [
              0.2222222222222222,
              "#7201a8"
             ],
             [
              0.3333333333333333,
              "#9c179e"
             ],
             [
              0.4444444444444444,
              "#bd3786"
             ],
             [
              0.5555555555555556,
              "#d8576b"
             ],
             [
              0.6666666666666666,
              "#ed7953"
             ],
             [
              0.7777777777777778,
              "#fb9f3a"
             ],
             [
              0.8888888888888888,
              "#fdca26"
             ],
             [
              1,
              "#f0f921"
             ]
            ],
            "type": "surface"
           }
          ],
          "table": [
           {
            "cells": {
             "fill": {
              "color": "#EBF0F8"
             },
             "line": {
              "color": "white"
             }
            },
            "header": {
             "fill": {
              "color": "#C8D4E3"
             },
             "line": {
              "color": "white"
             }
            },
            "type": "table"
           }
          ]
         },
         "layout": {
          "annotationdefaults": {
           "arrowcolor": "#2a3f5f",
           "arrowhead": 0,
           "arrowwidth": 1
          },
          "autotypenumbers": "strict",
          "coloraxis": {
           "colorbar": {
            "outlinewidth": 0,
            "ticks": ""
           }
          },
          "colorscale": {
           "diverging": [
            [
             0,
             "#8e0152"
            ],
            [
             0.1,
             "#c51b7d"
            ],
            [
             0.2,
             "#de77ae"
            ],
            [
             0.3,
             "#f1b6da"
            ],
            [
             0.4,
             "#fde0ef"
            ],
            [
             0.5,
             "#f7f7f7"
            ],
            [
             0.6,
             "#e6f5d0"
            ],
            [
             0.7,
             "#b8e186"
            ],
            [
             0.8,
             "#7fbc41"
            ],
            [
             0.9,
             "#4d9221"
            ],
            [
             1,
             "#276419"
            ]
           ],
           "sequential": [
            [
             0,
             "#0d0887"
            ],
            [
             0.1111111111111111,
             "#46039f"
            ],
            [
             0.2222222222222222,
             "#7201a8"
            ],
            [
             0.3333333333333333,
             "#9c179e"
            ],
            [
             0.4444444444444444,
             "#bd3786"
            ],
            [
             0.5555555555555556,
             "#d8576b"
            ],
            [
             0.6666666666666666,
             "#ed7953"
            ],
            [
             0.7777777777777778,
             "#fb9f3a"
            ],
            [
             0.8888888888888888,
             "#fdca26"
            ],
            [
             1,
             "#f0f921"
            ]
           ],
           "sequentialminus": [
            [
             0,
             "#0d0887"
            ],
            [
             0.1111111111111111,
             "#46039f"
            ],
            [
             0.2222222222222222,
             "#7201a8"
            ],
            [
             0.3333333333333333,
             "#9c179e"
            ],
            [
             0.4444444444444444,
             "#bd3786"
            ],
            [
             0.5555555555555556,
             "#d8576b"
            ],
            [
             0.6666666666666666,
             "#ed7953"
            ],
            [
             0.7777777777777778,
             "#fb9f3a"
            ],
            [
             0.8888888888888888,
             "#fdca26"
            ],
            [
             1,
             "#f0f921"
            ]
           ]
          },
          "colorway": [
           "#636efa",
           "#EF553B",
           "#00cc96",
           "#ab63fa",
           "#FFA15A",
           "#19d3f3",
           "#FF6692",
           "#B6E880",
           "#FF97FF",
           "#FECB52"
          ],
          "font": {
           "color": "#2a3f5f"
          },
          "geo": {
           "bgcolor": "white",
           "lakecolor": "white",
           "landcolor": "#E5ECF6",
           "showlakes": true,
           "showland": true,
           "subunitcolor": "white"
          },
          "hoverlabel": {
           "align": "left"
          },
          "hovermode": "closest",
          "mapbox": {
           "style": "light"
          },
          "paper_bgcolor": "white",
          "plot_bgcolor": "#E5ECF6",
          "polar": {
           "angularaxis": {
            "gridcolor": "white",
            "linecolor": "white",
            "ticks": ""
           },
           "bgcolor": "#E5ECF6",
           "radialaxis": {
            "gridcolor": "white",
            "linecolor": "white",
            "ticks": ""
           }
          },
          "scene": {
           "xaxis": {
            "backgroundcolor": "#E5ECF6",
            "gridcolor": "white",
            "gridwidth": 2,
            "linecolor": "white",
            "showbackground": true,
            "ticks": "",
            "zerolinecolor": "white"
           },
           "yaxis": {
            "backgroundcolor": "#E5ECF6",
            "gridcolor": "white",
            "gridwidth": 2,
            "linecolor": "white",
            "showbackground": true,
            "ticks": "",
            "zerolinecolor": "white"
           },
           "zaxis": {
            "backgroundcolor": "#E5ECF6",
            "gridcolor": "white",
            "gridwidth": 2,
            "linecolor": "white",
            "showbackground": true,
            "ticks": "",
            "zerolinecolor": "white"
           }
          },
          "shapedefaults": {
           "line": {
            "color": "#2a3f5f"
           }
          },
          "ternary": {
           "aaxis": {
            "gridcolor": "white",
            "linecolor": "white",
            "ticks": ""
           },
           "baxis": {
            "gridcolor": "white",
            "linecolor": "white",
            "ticks": ""
           },
           "bgcolor": "#E5ECF6",
           "caxis": {
            "gridcolor": "white",
            "linecolor": "white",
            "ticks": ""
           }
          },
          "title": {
           "x": 0.05
          },
          "xaxis": {
           "automargin": true,
           "gridcolor": "white",
           "linecolor": "white",
           "ticks": "",
           "title": {
            "standoff": 15
           },
           "zerolinecolor": "white",
           "zerolinewidth": 2
          },
          "yaxis": {
           "automargin": true,
           "gridcolor": "white",
           "linecolor": "white",
           "ticks": "",
           "title": {
            "standoff": 15
           },
           "zerolinecolor": "white",
           "zerolinewidth": 2
          }
         }
        },
        "title": {
         "text": "3D Odometry (scaled) vs Ground Truth Trajectory"
        }
       }
      }
     },
     "metadata": {},
     "output_type": "display_data"
    }
   ],
   "source": [
    "import plotly.graph_objs as go\n",
    "import numpy as np\n",
    "\n",
    "# --- Trajektoria odometrii ---\n",
    "trajectory_3d_np = np.array(trajectory_3d)\n",
    "trajectory_3d_np = trajectory_3d_np[::5]\n",
    "\n",
    "# --- Ground Truth ---\n",
    "gt_file = r\"C:\\VisualOdometry\\falcon_indoor_flight_1_pose_evo_gt.txt\"\n",
    "gt_positions = []\n",
    "with open(gt_file, \"r\") as f:\n",
    "    for line in f:\n",
    "        if line.strip() == \"\" or line.startswith(\"#\"):\n",
    "            continue\n",
    "        parts = line.strip().split()\n",
    "        tx, ty, tz = map(float, parts[1:4])\n",
    "        gt_positions.append([tx, ty, tz])\n",
    "gt_positions = np.array(gt_positions)\n",
    "\n",
    "# --- Wyrównanie punktu startowego ---\n",
    "trajectory_3d_np = trajectory_3d_np - trajectory_3d_np[0]\n",
    "gt_positions = gt_positions - gt_positions[0]\n",
    "\n",
    "\n",
    "# scale = np.max(gt_positions) / np.max(trajectory_3d_np)\n",
    "scale = np.max(np.abs(gt_positions), axis=0) / np.max(np.abs(trajectory_3d_np), axis=0)\n",
    "\n",
    "# --- Przeskaluj odometrię ---\n",
    "gt_positions =gt_positions/ np.max(np.abs(gt_positions), axis=0)\n",
    "trajectory_3d_np_scaled = trajectory_3d_np / np.max(np.abs(trajectory_3d_np), axis=0)\n",
    "\n",
    "# --- Moving average ---\n",
    "window = 3\n",
    "if len(trajectory_3d_np_scaled) >= window:\n",
    "    kernel = np.ones((window, 1)) / window\n",
    "    traj_ma = np.vstack(\n",
    "        [\n",
    "            np.convolve(trajectory_3d_np_scaled[:, 0], kernel.ravel(), mode=\"valid\"),\n",
    "            np.convolve(trajectory_3d_np_scaled[:, 1], kernel.ravel(), mode=\"valid\"),\n",
    "            np.convolve(trajectory_3d_np_scaled[:, 2], kernel.ravel(), mode=\"valid\"),\n",
    "        ]\n",
    "    ).T\n",
    "else:\n",
    "    traj_ma = trajectory_3d_np_scaled\n",
    "\n",
    "# --- Wspólny wykres ---\n",
    "fig = go.Figure()\n",
    "\n",
    "fig.add_trace(\n",
    "    go.Scatter3d(\n",
    "        x=-trajectory_3d_np_scaled[:, 0],\n",
    "        y=trajectory_3d_np_scaled[:, 1],\n",
    "        z=-trajectory_3d_np_scaled[:, 2],\n",
    "        mode=\"lines\",\n",
    "        line=dict(color=\"green\", width=2),\n",
    "        opacity=0.3,\n",
    "        name=\"Odometry (scaled)\",\n",
    "    )\n",
    ")\n",
    "\n",
    "fig.add_trace(\n",
    "    go.Scatter3d(\n",
    "        x=-traj_ma[:, 0],\n",
    "        y=traj_ma[:, 1],\n",
    "        z=-traj_ma[:, 2],\n",
    "        mode=\"lines\",\n",
    "        line=dict(color=\"blue\", width=6),\n",
    "        opacity=1.0,\n",
    "        name=\"Odometry Moving Average (scaled)\",\n",
    "    )\n",
    ")\n",
    "\n",
    "fig.add_trace(\n",
    "    go.Scatter3d(\n",
    "        x=gt_positions[:, 0],\n",
    "        y=gt_positions[:, 2],\n",
    "        z=-gt_positions[:, 1],\n",
    "        mode=\"lines\",\n",
    "        line=dict(color=\"red\", width=4),\n",
    "        name=\"Ground Truth\",\n",
    "    )\n",
    ")\n",
    "\n",
    "fig.update_layout(\n",
    "    scene=dict(xaxis_title=\"X\", yaxis_title=\"Y\", zaxis_title=\"Z\"),\n",
    "    title=\"3D Odometry (scaled) vs Ground Truth Trajectory\",\n",
    ")\n",
    "fig.show()"
   ]
  }
 ],
 "metadata": {
  "kernelspec": {
   "display_name": "Python 3",
   "language": "python",
   "name": "python3"
  },
  "language_info": {
   "codemirror_mode": {
    "name": "ipython",
    "version": 3
   },
   "file_extension": ".py",
   "mimetype": "text/x-python",
   "name": "python",
   "nbconvert_exporter": "python",
   "pygments_lexer": "ipython3",
   "version": "3.12.2"
  }
 },
 "nbformat": 4,
 "nbformat_minor": 5
}

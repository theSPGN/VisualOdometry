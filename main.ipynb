{
 "cells": [
  {
   "cell_type": "code",
   "execution_count": 8,
   "id": "8b471425",
   "metadata": {},
   "outputs": [],
   "source": [
    "import numpy as np\n",
    "import h5py\n",
    "import cv2\n",
    "FILE_PATH = r\"C:\\VisualOdometry\\falcon_indoor_flight_1_data.h5\""
   ]
  },
  {
   "cell_type": "code",
   "execution_count": null,
   "id": "6f9dead5",
   "metadata": {},
   "outputs": [],
   "source": [
    "with h5py.File(FILE_PATH, \"r\") as file:\n",
    "    w, h = list(file[\"prophesee\"][\"left\"][\"calib\"][\"resolution\"])\n",
    "    distortion_coeffs_left = list(file[\"prophesee\"][\"left\"][\"calib\"][\"distortion_coeffs\"])\n",
    "    fx, fy, cx, cy = (list(file[\"prophesee\"][\"left\"][\"calib\"][\"intrinsics\"]))\n",
    "    K_left = np.array([[fx, 0, cx], [0, fy, cy], [0, 0, 1]])\n",
    "\n",
    "    distortion_coeffs_right = list(file[\"prophesee\"][\"right\"][\"calib\"][\"distortion_coeffs\"])\n",
    "    fx, fy, cx, cy = (list(file[\"prophesee\"][\"right\"][\"calib\"][\"intrinsics\"]))\n",
    "    K_right = np.array([[fx, 0, cx], [0, fy, cy], [0, 0, 1]])\n",
    "\n",
    "    distortion_coeffs_rgb = (list(file[\"ovc\"][\"rgb\"][\"calib\"][\"distortion_coeffs\"]))\n",
    "    fx, fy, cx, cy = list(file[\"ovc\"][\"rgb\"][\"calib\"][\"intrinsics\"])\n",
    "    T_rgb = (list(file[\"ovc\"][\"rgb\"][\"calib\"][\"T_to_prophesee_left\"]))\n",
    "    T_rgb = np.array(T_rgb)\n",
    "    K_rgb = np.array([[fx, 0, cx], [0, fy, cy], [0, 0, 1]])"
   ]
  },
  {
   "cell_type": "code",
   "execution_count": 10,
   "id": "777bcf26",
   "metadata": {},
   "outputs": [],
   "source": [
    "def event_generator(file_path, cam_direction=\"left\", batch_size=1024):\n",
    "    with h5py.File(file_path, \"r\") as file:\n",
    "        x = file[\"prophesee\"][cam_direction][\"x\"]\n",
    "        y = file[\"prophesee\"][cam_direction][\"y\"]\n",
    "        p = file[\"prophesee\"][cam_direction][\"p\"]\n",
    "        t = file[\"prophesee\"][cam_direction][\"t\"]\n",
    "        total = x.shape[0]\n",
    "        for i in range(0, total, batch_size):\n",
    "            yield (\n",
    "                x[i : i + batch_size],\n",
    "                y[i : i + batch_size],\n",
    "                p[i : i + batch_size],\n",
    "                t[i : i + batch_size],\n",
    "            )"
   ]
  },
  {
   "cell_type": "code",
   "execution_count": 11,
   "id": "a7aaab75",
   "metadata": {},
   "outputs": [],
   "source": [
    "def event_frame(coords, polarities, img_shape):\n",
    "    matrix = np.ones(img_shape, dtype=np.uint8) * 127\n",
    "    coords = np.array(coords)\n",
    "    if len(coords) > 0:\n",
    "        y = coords[:, 0]\n",
    "        x = coords[:, 1]\n",
    "        matrix[y, x] = np.where(np.array(polarities) > 0, 255, 0)\n",
    "    return matrix"
   ]
  },
  {
   "cell_type": "code",
   "execution_count": 108,
   "id": "45b7b4a2",
   "metadata": {},
   "outputs": [],
   "source": [
    "prev_img = None\n",
    "cur_R = np.eye(3)\n",
    "cur_t = np.zeros((3, 1))\n",
    "trajectory_3d = []\n",
    "\n",
    "\n",
    "def odom(picture, K):\n",
    "    global prev_img, cur_R, cur_t, trajectory_3d\n",
    "\n",
    "    if len(picture.shape) == 3:\n",
    "        gray = cv2.cvtColor(picture, cv2.COLOR_BGR2GRAY)\n",
    "    else:\n",
    "        gray = picture.copy()\n",
    "\n",
    "    fast = cv2.FastFeatureDetector_create(threshold=75, nonmaxSuppression=True)\n",
    "    brief = cv2.xfeatures2d.BriefDescriptorExtractor_create()\n",
    "\n",
    "    if prev_img is None:\n",
    "        prev_img = gray\n",
    "        return cur_t.copy()\n",
    "\n",
    "    kp1 = fast.detect(prev_img, None)\n",
    "    kp2 = fast.detect(gray, None)\n",
    "    if len(kp1) < 10 or len(kp2) < 10:\n",
    "        prev_img = gray\n",
    "        return cur_t.copy()\n",
    "\n",
    "    kp1, des1 = brief.compute(prev_img, kp1)\n",
    "    kp2, des2 = brief.compute(gray, kp2)\n",
    "    if des1 is None or des2 is None or len(kp1) < 10 or len(kp2) < 10:\n",
    "        prev_img = gray\n",
    "        return cur_t.copy()\n",
    "\n",
    "    bf = cv2.BFMatcher(cv2.NORM_HAMMING, crossCheck=True)\n",
    "    matches = bf.match(des1, des2)\n",
    "    matches = sorted(matches, key=lambda x: x.distance)\n",
    "    if len(matches) < 8:\n",
    "        prev_img = gray\n",
    "        return cur_t.copy()\n",
    "\n",
    "    pts1 = np.float32([kp1[m.queryIdx].pt for m in matches]).reshape(-1, 1, 2)\n",
    "    pts2 = np.float32([kp2[m.trainIdx].pt for m in matches]).reshape(-1, 1, 2)\n",
    "\n",
    "    E, mask = cv2.findEssentialMat(\n",
    "        pts1, pts2, K, method=cv2.RANSAC, prob=0.999, threshold=1.0\n",
    "    )\n",
    "    if E is None:\n",
    "        prev_img = gray\n",
    "        return cur_t.copy()\n",
    "\n",
    "    _, R, t, mask_pose = cv2.recoverPose(E, pts1, pts2, K)\n",
    "\n",
    "    cur_t += cur_R @ t\n",
    "    cur_R = R @ cur_R\n",
    "\n",
    "    trajectory_3d.append(cur_t.flatten().copy())\n",
    "\n",
    "    prev_img = gray\n",
    "    return cur_t.copy()"
   ]
  },
  {
   "cell_type": "code",
   "execution_count": 7,
   "id": "31782b95",
   "metadata": {},
   "outputs": [],
   "source": [
    "cnt = 1\n",
    "batch_idx = 0\n",
    "temp_x, temp_y, temp_p, temp_t = [], [], [], []\n",
    "prev_img = None\n",
    "cur_R = np.eye(3)\n",
    "cur_t = np.zeros((3, 1))\n",
    "trajectory_3d = []\n",
    "exit = False\n",
    "\n",
    "for x_batch, y_batch, p_batch, t_batch in event_generator(\n",
    "    FILE_PATH, \"left\", batch_size=10000\n",
    "):\n",
    "    batch_idx += 1\n",
    "    if batch_idx % 25 != 0:\n",
    "        continue\n",
    "\n",
    "    temp_x.extend(x_batch)\n",
    "    temp_y.extend(y_batch)\n",
    "    temp_p.extend(np.where(p_batch > 0, 1, -1))\n",
    "    temp_t.extend(t_batch)\n",
    "\n",
    "    while len(temp_t) > 0 and temp_t[-1] > cnt * 1e5:\n",
    "        cnt += 1\n",
    "        coords = list(zip(temp_y, temp_x))\n",
    "        img = event_frame(coords, temp_p, (h, w))\n",
    "\n",
    "        odom(img, K_left)\n",
    "        cv2.imshow(\"Event Frame\", img)\n",
    "        if cv2.waitKey(1) & 0xFF == ord(\"q\"):\n",
    "            exit = True\n",
    "            break\n",
    "        temp_x.clear()\n",
    "        temp_y.clear()\n",
    "        temp_p.clear()\n",
    "        temp_t.clear()\n",
    "    if exit:\n",
    "        break\n",
    "\n",
    "cv2.destroyAllWindows()"
   ]
  },
  {
   "cell_type": "code",
   "execution_count": null,
   "id": "bfa227eb",
   "metadata": {},
   "outputs": [
    {
     "data": {
      "image/png": "[encoded data removed]",
      "text/plain": [
       "<Figure size 640x480 with 1 Axes>"
      ]
     },
     "metadata": {},
     "output_type": "display_data"
    }
   ],
   "source": [
    "import matplotlib.pyplot as plt\n",
    "from mpl_toolkits.mplot3d import Axes3D\n",
    "\n",
    "if len(trajectory_3d) > 1:\n",
    "    trajectory_3d_np = np.array(trajectory_3d)\n",
    "    fig = plt.figure()\n",
    "    ax = fig.add_subplot(111, projection=\"3d\")\n",
    "    n = len(trajectory_3d_np)\n",
    "    for i in range(n - 1):\n",
    "        alpha = 0.8 * (1 - i / (n - 1))\n",
    "        ax.plot(\n",
    "            trajectory_3d_np[i : i + 2, 0],\n",
    "            trajectory_3d_np[i : i + 2, 1],\n",
    "            trajectory_3d_np[i : i + 2, 2],\n",
    "            color=\"g\",\n",
    "            alpha=alpha,\n",
    "            linewidth=2,\n",
    "        )\n",
    "    ax.set_xlabel(\"X\")\n",
    "    ax.set_ylabel(\"Y\")\n",
    "    ax.set_zlabel(\"Z\")\n",
    "    ax.set_title(\"3D Odometry Trajectory (left, gradient alpha)\")\n",
    "    plt.show()"
   ]
  },
  {
   "cell_type": "code",
   "execution_count": 109,
   "id": "b4b38cac",
   "metadata": {},
   "outputs": [],
   "source": [
    "prev_img = None\n",
    "cur_R = np.eye(3)\n",
    "cur_t = np.zeros((3, 1))\n",
    "trajectory_3d = []\n",
    "with h5py.File(FILE_PATH, \"r\") as file:\n",
    "    rgb_dataset = file[\"ovc\"][\"rgb\"][\"data\"]\n",
    "    num_images = rgb_dataset.shape[0]\n",
    "    # 150\n",
    "    for i in range(150,num_images-60):\n",
    "        rgb = rgb_dataset[i]\n",
    "        rgb = np.array(rgb, dtype=np.uint8)\n",
    "        gray = cv2.cvtColor(rgb, cv2.COLOR_RGB2GRAY)\n",
    "        odom(gray, K_rgb)\n",
    "        cv2.imshow(\"Grayscale OVC Image\", gray)\n",
    "        if cv2.waitKey(1) & 0xFF == ord(\"q\"):\n",
    "            break\n",
    "\n",
    "cv2.destroyAllWindows()"
   ]
  },
  {
   "cell_type": "code",
   "execution_count": 110,
   "id": "12a167c3",
   "metadata": {},
   "outputs": [
    {
     "data": {
      "application/vnd.plotly.v1+json": {
       "config": {
        "plotlyServerURL": "https://plot.ly"
       },
       "data": [
        {
         "line": {
          "color": "green",
          "width": 4
         },
         "mode": "lines",
         "opacity": 0.8,
         "showlegend": false,
         "type": "scatter3d",
         "x": {
          "bdata": "w6PzdsCrp7+YK7ErVtLCPw==",
          "dtype": "f8"
         },
         "y": {
          "bdata": "AnIJzl2ZkD9MZsf0kI37vw==",
          "dtype": "f8"
         },
         "z": {
          "bdata": "FXUStin27z/u4OFw0rASQA==",
          "dtype": "f8"
         }
        },
        {
         "line": {
          "color": "green",
          "width": 4
         },
         "mode": "lines",
         "opacity": 0.791919191919192,
         "showlegend": false,
         "type": "scatter3d",
         "x": {
          "bdata": "mCuxK1bSwj9Uwsg0Q//dPw==",
          "dtype": "f8"
         },
         "y": {
          "bdata": "TGbH9JCN+78ti6ryz0QHwA==",
          "dtype": "f8"
         },
         "z": {
          "bdata": "7uDhcNKwEkAuNn0VvO4VQA==",
          "dtype": "f8"
         }
        },
        {
         "line": {
          "color": "green",
          "width": 4
         },
         "mode": "lines",
         "opacity": 0.7838383838383839,
         "showlegend": false,
         "type": "scatter3d",
         "x": {
          "bdata": "VMLINEP/3T8bsTJMfzfmvw==",
          "dtype": "f8"
         },
         "y": {
          "bdata": "LYuq8s9EB8DcZTlXCTX/vw==",
          "dtype": "f8"
         },
         "z": {
          "bdata": "LjZ9FbzuFUDlgr6V2LIUQA==",
          "dtype": "f8"
         }
        },
        {
         "line": {
          "color": "green",
          "width": 4
         },
         "mode": "lines",
         "opacity": 0.7757575757575759,
         "showlegend": false,
         "type": "scatter3d",
         "x": {
          "bdata": "G7EyTH835r9SlLf2ZXnrvw==",
          "dtype": "f8"
         },
         "y": {
          "bdata": "3GU5Vwk1/780ES1WXlz+vw==",
          "dtype": "f8"
         },
         "z": {
          "bdata": "5YK+ldiyFEDOiPEWETsTQA==",
          "dtype": "f8"
         }
        },
        {
         "line": {
          "color": "green",
          "width": 4
         },
         "mode": "lines",
         "opacity": 0.7676767676767677,
         "showlegend": false,
         "type": "scatter3d",
         "x": {
          "bdata": "UpS39mV567+FPZZfP6//vw==",
          "dtype": "f8"
         },
         "y": {
          "bdata": "NBEtVl5c/r+sPkCkrqrDPw==",
          "dtype": "f8"
         },
         "z": {
          "bdata": "zojxFhE7E0DcxXXEutgdQA==",
          "dtype": "f8"
         }
        },
        {
         "line": {
          "color": "green",
          "width": 4
         },
         "mode": "lines",
         "opacity": 0.7595959595959596,
         "showlegend": false,
         "type": "scatter3d",
         "x": {
          "bdata": "hT2WXz+v/7/RcWC+INADwA==",
          "dtype": "f8"
         },
         "y": {
          "bdata": "rD5ApK6qwz+opeXhQaG4vw==",
          "dtype": "f8"
         },
         "z": {
          "bdata": "3MV1xLrYHUBSPOLsrAoaQA==",
          "dtype": "f8"
         }
        },
        {
         "line": {
          "color": "green",
          "width": 4
         },
         "mode": "lines",
         "opacity": 0.7515151515151516,
         "showlegend": false,
         "type": "scatter3d",
         "x": {
          "bdata": "0XFgviDQA8DHSVGZUOYGwA==",
          "dtype": "f8"
         },
         "y": {
          "bdata": "qKXl4UGhuL/U+1pHUBLlPw==",
          "dtype": "f8"
         },
         "z": {
          "bdata": "Ujzi7KwKGkDuK5l36zIdQA==",
          "dtype": "f8"
         }
        },
        {
         "line": {
          "color": "green",
          "width": 4
         },
         "mode": "lines",
         "opacity": 0.7434343434343434,
         "showlegend": false,
         "type": "scatter3d",
         "x": {
          "bdata": "x0lRmVDmBsAf0UTWHn4TwA==",
          "dtype": "f8"
         },
         "y": {
          "bdata": "1PtaR1AS5T/W8WMfCcG+vw==",
          "dtype": "f8"
         },
         "z": {
          "bdata": "7iuZd+syHUAapu4WicQeQA==",
          "dtype": "f8"
         }
        },
        {
         "line": {
          "color": "green",
          "width": 4
         },
         "mode": "lines",
         "opacity": 0.7353535353535354,
         "showlegend": false,
         "type": "scatter3d",
         "x": {
          "bdata": "H9FE1h5+E8AlEE90jlcUwA==",
          "dtype": "f8"
         },
         "y": {
          "bdata": "1vFjHwnBvr+JH6B7yI0BQA==",
          "dtype": "f8"
         },
         "z": {
          "bdata": "GqbuFonEHkBdkd1QdtsbQA==",
          "dtype": "f8"
         }
        },
        {
         "line": {
          "color": "green",
          "width": 4
         },
         "mode": "lines",
         "opacity": 0.7272727272727273,
         "showlegend": false,
         "type": "scatter3d",
         "x": {
          "bdata": "JRBPdI5XFMAeW5BEwNEZwA==",
          "dtype": "f8"
         },
         "y": {
          "bdata": "iR+ge8iNAUAnVwNLRHLpPw==",
          "dtype": "f8"
         },
         "z": {
          "bdata": "XZHdUHbbG0AgzHLR46wYQA==",
          "dtype": "f8"
         }
        },
        {
         "line": {
          "color": "green",
          "width": 4
         },
         "mode": "lines",
         "opacity": 0.7191919191919193,
         "showlegend": false,
         "type": "scatter3d",
         "x": {
          "bdata": "HluQRMDRGcCQ08SMFQkVwA==",
          "dtype": "f8"
         },
         "y": {
          "bdata": "J1cDS0Ry6T/s7pq7Pvn7Pw==",
          "dtype": "f8"
         },
         "z": {
          "bdata": "IMxy0eOsGEBsC6EqTqcWQA==",
          "dtype": "f8"
         }
        },
        {
         "line": {
          "color": "green",
          "width": 4
         },
         "mode": "lines",
         "opacity": 0.7111111111111111,
         "showlegend": false,
         "type": "scatter3d",
         "x": {
          "bdata": "kNPEjBUJFcCUTFHdKmcYwA==",
          "dtype": "f8"
         },
         "y": {
          "bdata": "7O6auz75+z88GrsQiDIAQA==",
          "dtype": "f8"
         },
         "z": {
          "bdata": "bAuhKk6nFkB/DXlMwBQXQA==",
          "dtype": "f8"
         }
        },
        {
         "line": {
          "color": "green",
          "width": 4
         },
         "mode": "lines",
         "opacity": 0.7030303030303031,
         "showlegend": false,
         "type": "scatter3d",
         "x": {
          "bdata": "lExR3SpnGMAVXmjkUrUXwA==",
          "dtype": "f8"
         },
         "y": {
          "bdata": "PBq7EIgyAEBYhXS0+Bj3Pw==",
          "dtype": "f8"
         },
         "z": {
          "bdata": "fw15TMAUF0DH+s2b0mITQA==",
          "dtype": "f8"
         }
        },
        {
         "line": {
          "color": "green",
          "width": 4
         },
         "mode": "lines",
         "opacity": 0.694949494949495,
         "showlegend": false,
         "type": "scatter3d",
         "x": {
          "bdata": "FV5o5FK1F8CEyd9gzg4WwA==",
          "dtype": "f8"
         },
         "y": {
          "bdata": "WIV0tPgY9z94nWggDLDmPw==",
          "dtype": "f8"
         },
         "z": {
          "bdata": "x/rNm9JiE0DdVNcld8UQQA==",
          "dtype": "f8"
         }
        },
        {
         "line": {
          "color": "green",
          "width": 4
         },
         "mode": "lines",
         "opacity": 0.6868686868686869,
         "showlegend": false,
         "type": "scatter3d",
         "x": {
          "bdata": "hMnfYM4OFsDXoUnv1IEWwA==",
          "dtype": "f8"
         },
         "y": {
          "bdata": "eJ1oIAyw5j81yaiO/N/+Pw==",
          "dtype": "f8"
         },
         "z": {
          "bdata": "3VTXJXfFEECvXo6YdBsRQA==",
          "dtype": "f8"
         }
        },
        {
         "line": {
          "color": "green",
          "width": 4
         },
         "mode": "lines",
         "opacity": 0.6787878787878788,
         "showlegend": false,
         "type": "scatter3d",
         "x": {
          "bdata": "16FJ79SBFsDM5LB1dwAUwA==",
          "dtype": "f8"
         },
         "y": {
          "bdata": "Ncmojvzf/j88G+tS53b9Pw==",
          "dtype": "f8"
         },
         "z": {
          "bdata": "r16OmHQbEUBkT7LZcvUSQA==",
          "dtype": "f8"
         }
        },
        {
         "line": {
          "color": "green",
          "width": 4
         },
         "mode": "lines",
         "opacity": 0.6707070707070707,
         "showlegend": false,
         "type": "scatter3d",
         "x": {
          "bdata": "zOSwdXcAFMDBUQezA80TwA==",
          "dtype": "f8"
         },
         "y": {
          "bdata": "PBvrUud2/T/rV6BUo1sOQA==",
          "dtype": "f8"
         },
         "z": {
          "bdata": "ZE+y2XL1EkAytNJ6Ty0MQA==",
          "dtype": "f8"
         }
        },
        {
         "line": {
          "color": "green",
          "width": 4
         },
         "mode": "lines",
         "opacity": 0.6626262626262627,
         "showlegend": false,
         "type": "scatter3d",
         "x": {
          "bdata": "wVEHswPNE8Au2vQVztIXwA==",
          "dtype": "f8"
         },
         "y": {
          "bdata": "61egVKNbDkBUWHxmQUMPQA==",
          "dtype": "f8"
         },
         "z": {
          "bdata": "MrTSek8tDECQD5+aausWQA==",
          "dtype": "f8"
         }
        },
        {
         "line": {
          "color": "green",
          "width": 4
         },
         "mode": "lines",
         "opacity": 0.6545454545454545,
         "showlegend": false,
         "type": "scatter3d",
         "x": {
          "bdata": "Ltr0Fc7SF8ASd8kSIgoVwA==",
          "dtype": "f8"
         },
         "y": {
          "bdata": "VFh8ZkFDD0ASfxgLxlgCQA==",
          "dtype": "f8"
         },
         "z": {
          "bdata": "kA+fmmrrFkDx35fmTToOQA==",
          "dtype": "f8"
         }
        },
        {
         "line": {
          "color": "green",
          "width": 4
         },
         "mode": "lines",
         "opacity": 0.6464646464646465,
         "showlegend": false,
         "type": "scatter3d",
         "x": {
          "bdata": "EnfJEiIKFcCiVTukcy0TwA==",
          "dtype": "f8"
         },
         "y": {
          "bdata": "En8YC8ZYAkDAsP0fzLMFQA==",
          "dtype": "f8"
         },
         "z": {
          "bdata": "8d+X5k06DkC29hoJQD4IQA==",
          "dtype": "f8"
         }
        },
        {
         "line": {
          "color": "green",
          "width": 4
         },
         "mode": "lines",
         "opacity": 0.6383838383838385,
         "showlegend": false,
         "type": "scatter3d",
         "x": {
          "bdata": "olU7pHMtE8Apwt8CYGcSwA==",
          "dtype": "f8"
         },
         "y": {
          "bdata": "wLD9H8yzBUDh+xmLJfYBQA==",
          "dtype": "f8"
         },
         "z": {
          "bdata": "tvYaCUA+CEDmO7PD+336Pw==",
          "dtype": "f8"
         }
        },
        {
         "line": {
          "color": "green",
          "width": 4
         },
         "mode": "lines",
         "opacity": 0.6303030303030304,
         "showlegend": false,
         "type": "scatter3d",
         "x": {
          "bdata": "KcLfAmBnEsBwfzf/RooXwA==",
          "dtype": "f8"
         },
         "y": {
          "bdata": "4fsZiyX2AUCnJUUIp1r+Pw==",
          "dtype": "f8"
         },
         "z": {
          "bdata": "5juzw/t9+j9DqbRz1hkIQA==",
          "dtype": "f8"
         }
        },
        {
         "line": {
          "color": "green",
          "width": 4
         },
         "mode": "lines",
         "opacity": 0.6222222222222222,
         "showlegend": false,
         "type": "scatter3d",
         "x": {
          "bdata": "cH83/0aKF8DePd4XArUbwA==",
          "dtype": "f8"
         },
         "y": {
          "bdata": "pyVFCKda/j+YJGj+np0CQA==",
          "dtype": "f8"
         },
         "z": {
          "bdata": "Q6m0c9YZCEBIu40ApagPQA==",
          "dtype": "f8"
         }
        },
        {
         "line": {
          "color": "green",
          "width": 4
         },
         "mode": "lines",
         "opacity": 0.6141414141414142,
         "showlegend": false,
         "type": "scatter3d",
         "x": {
          "bdata": "3j3eFwK1G8CQ+9JKRHIcwA==",
          "dtype": "f8"
         },
         "y": {
          "bdata": "mCRo/p6dAkAALuo8gpgHQA==",
          "dtype": "f8"
         },
         "z": {
          "bdata": "SLuNAKWoD0AsiR1YEh4UQA==",
          "dtype": "f8"
         }
        },
        {
         "line": {
          "color": "green",
          "width": 4
         },
         "mode": "lines",
         "opacity": 0.6060606060606061,
         "showlegend": false,
         "type": "scatter3d",
         "x": {
          "bdata": "kPvSSkRyHMB/vUuDCrYWwA==",
          "dtype": "f8"
         },
         "y": {
          "bdata": "AC7qPIKYB0Dw4STehogOQA==",
          "dtype": "f8"
         },
         "z": {
          "bdata": "LIkdWBIeFEDLvIf6bYISQA==",
          "dtype": "f8"
         }
        },
        {
         "line": {
          "color": "green",
          "width": 4
         },
         "mode": "lines",
         "opacity": 0.597979797979798,
         "showlegend": false,
         "type": "scatter3d",
         "x": {
          "bdata": "f71Lgwq2FsCe7CFFT9UKwA==",
          "dtype": "f8"
         },
         "y": {
          "bdata": "8OEk3oaIDkAvafqEQogLQA==",
          "dtype": "f8"
         },
         "z": {
          "bdata": "y7yH+m2CEkD9SuMre4IJQA==",
          "dtype": "f8"
         }
        },
        {
         "line": {
          "color": "green",
          "width": 4
         },
         "mode": "lines",
         "opacity": 0.5898989898989899,
         "showlegend": false,
         "type": "scatter3d",
         "x": {
          "bdata": "nuwhRU/VCsACSTH8vnEMwA==",
          "dtype": "f8"
         },
         "y": {
          "bdata": "L2n6hEKIC0AQWyQJdCv6Pw==",
          "dtype": "f8"
         },
         "z": {
          "bdata": "/UrjK3uCCUDhOd41J2oYQA==",
          "dtype": "f8"
         }
        },
        {
         "line": {
          "color": "green",
          "width": 4
         },
         "mode": "lines",
         "opacity": 0.5818181818181819,
         "showlegend": false,
         "type": "scatter3d",
         "x": {
          "bdata": "Akkx/L5xDMDDlxiv75gAwA==",
          "dtype": "f8"
         },
         "y": {
          "bdata": "EFskCXQr+j865jzijRIHQA==",
          "dtype": "f8"
         },
         "z": {
          "bdata": "4TneNSdqGEDqVkx6YYMaQA==",
          "dtype": "f8"
         }
        },
        {
         "line": {
          "color": "green",
          "width": 4
         },
         "mode": "lines",
         "opacity": 0.5737373737373738,
         "showlegend": false,
         "type": "scatter3d",
         "x": {
          "bdata": "w5cYr++YAMC8tJSE2+AGwA==",
          "dtype": "f8"
         },
         "y": {
          "bdata": "OuY84o0SB0D2KvIaiXENQA==",
          "dtype": "f8"
         },
         "z": {
          "bdata": "6lZMemGDGkCWMpFWLJgYQA==",
          "dtype": "f8"
         }
        },
        {
         "line": {
          "color": "green",
          "width": 4
         },
         "mode": "lines",
         "opacity": 0.5656565656565656,
         "showlegend": false,
         "type": "scatter3d",
         "x": {
          "bdata": "vLSUhNvgBsAYCG4FhokIwA==",
          "dtype": "f8"
         },
         "y": {
          "bdata": "9iryGolxDUAzOFMe8oUKQA==",
          "dtype": "f8"
         },
         "z": {
          "bdata": "ljKRViyYGEDPVvfXIescQA==",
          "dtype": "f8"
         }
        },
        {
         "line": {
          "color": "green",
          "width": 4
         },
         "mode": "lines",
         "opacity": 0.5575757575757576,
         "showlegend": false,
         "type": "scatter3d",
         "x": {
          "bdata": "GAhuBYaJCMBxTXadmh4UwA==",
          "dtype": "f8"
         },
         "y": {
          "bdata": "MzhTHvKFCkAi9aA7n2UQQA==",
          "dtype": "f8"
         },
         "z": {
          "bdata": "z1b31yHrHECXKFXk4MUgQA==",
          "dtype": "f8"
         }
        },
        {
         "line": {
          "color": "green",
          "width": 4
         },
         "mode": "lines",
         "opacity": 0.5494949494949495,
         "showlegend": false,
         "type": "scatter3d",
         "x": {
          "bdata": "cU12nZoeFMDmi2AGvqAVwA==",
          "dtype": "f8"
         },
         "y": {
          "bdata": "IvWgO59lEECCQxgHFTsRQA==",
          "dtype": "f8"
         },
         "z": {
          "bdata": "lyhV5ODFIEBaX2Q3hdYaQA==",
          "dtype": "f8"
         }
        },
        {
         "line": {
          "color": "green",
          "width": 4
         },
         "mode": "lines",
         "opacity": 0.5414141414141413,
         "showlegend": false,
         "type": "scatter3d",
         "x": {
          "bdata": "5otgBr6gFcBCIPYAIS0TwA==",
          "dtype": "f8"
         },
         "y": {
          "bdata": "gkMYBxU7EUCoxe079QETQA==",
          "dtype": "f8"
         },
         "z": {
          "bdata": "Wl9kN4XWGkC7/Iz0nmQhQA==",
          "dtype": "f8"
         }
        },
        {
         "line": {
          "color": "green",
          "width": 4
         },
         "mode": "lines",
         "opacity": 0.5333333333333334,
         "showlegend": false,
         "type": "scatter3d",
         "x": {
          "bdata": "QiD2ACEtE8CrdfIsPr0GwA==",
          "dtype": "f8"
         },
         "y": {
          "bdata": "qMXtO/UBE0BjDOf664UgQA==",
          "dtype": "f8"
         },
         "z": {
          "bdata": "u/yM9J5kIUBC51b3znkgQA==",
          "dtype": "f8"
         }
        },
        {
         "line": {
          "color": "green",
          "width": 4
         },
         "mode": "lines",
         "opacity": 0.5252525252525253,
         "showlegend": false,
         "type": "scatter3d",
         "x": {
          "bdata": "q3XyLD69BsAsTZ40M7MIwA==",
          "dtype": "f8"
         },
         "y": {
          "bdata": "Ywzn+uuFIEBmpk9WX58gQA==",
          "dtype": "f8"
         },
         "z": {
          "bdata": "QudW9855IEDs8DX2TlAiQA==",
          "dtype": "f8"
         }
        },
        {
         "line": {
          "color": "green",
          "width": 4
         },
         "mode": "lines",
         "opacity": 0.5171717171717172,
         "showlegend": false,
         "type": "scatter3d",
         "x": {
          "bdata": "LE2eNDOzCMDco7pQIwMRwA==",
          "dtype": "f8"
         },
         "y": {
          "bdata": "ZqZPVl+fIEBygdJM7tYeQA==",
          "dtype": "f8"
         },
         "z": {
          "bdata": "7PA19k5QIkCMA7ZVhRUiQA==",
          "dtype": "f8"
         }
        },
        {
         "line": {
          "color": "green",
          "width": 4
         },
         "mode": "lines",
         "opacity": 0.5090909090909091,
         "showlegend": false,
         "type": "scatter3d",
         "x": {
          "bdata": "3KO6UCMDEcCG3HcpYjAPwA==",
          "dtype": "f8"
         },
         "y": {
          "bdata": "coHSTO7WHkA4CFv85u8aQA==",
          "dtype": "f8"
         },
         "z": {
          "bdata": "jAO2VYUVIkDkkF/JofcaQA==",
          "dtype": "f8"
         }
        },
        {
         "line": {
          "color": "green",
          "width": 4
         },
         "mode": "lines",
         "opacity": 0.501010101010101,
         "showlegend": false,
         "type": "scatter3d",
         "x": {
          "bdata": "htx3KWIwD8C7jrxpqSARwA==",
          "dtype": "f8"
         },
         "y": {
          "bdata": "OAhb/ObvGkAr/HvTLg0dQA==",
          "dtype": "f8"
         },
         "z": {
          "bdata": "5JBfyaH3GkBSUjhn/W8hQA==",
          "dtype": "f8"
         }
        },
        {
         "line": {
          "color": "green",
          "width": 4
         },
         "mode": "lines",
         "opacity": 0.49292929292929294,
         "showlegend": false,
         "type": "scatter3d",
         "x": {
          "bdata": "u468aakgEcA9hRTGD68SwA==",
          "dtype": "f8"
         },
         "y": {
          "bdata": "K/x70y4NHUDf4k/7AxQgQA==",
          "dtype": "f8"
         },
         "z": {
          "bdata": "UlI4Z/1vIUC+pYttpv4jQA==",
          "dtype": "f8"
         }
        },
        {
         "line": {
          "color": "green",
          "width": 4
         },
         "mode": "lines",
         "opacity": 0.48484848484848486,
         "showlegend": false,
         "type": "scatter3d",
         "x": {
          "bdata": "PYUUxg+vEsDbZ0DZQIAUwA==",
          "dtype": "f8"
         },
         "y": {
          "bdata": "3+JP+wMUIEAkgWIKfJYaQA==",
          "dtype": "f8"
         },
         "z": {
          "bdata": "vqWLbab+I0CZdHoAltIiQA==",
          "dtype": "f8"
         }
        },
        {
         "line": {
          "color": "green",
          "width": 4
         },
         "mode": "lines",
         "opacity": 0.47676767676767684,
         "showlegend": false,
         "type": "scatter3d",
         "x": {
          "bdata": "22dA2UCAFMC2ScFpf6IYwA==",
          "dtype": "f8"
         },
         "y": {
          "bdata": "JIFiCnyWGkBIuXkZSw4TQA==",
          "dtype": "f8"
         },
         "z": {
          "bdata": "mXR6AJbSIkALZ0zrTKAgQA==",
          "dtype": "f8"
         }
        },
        {
         "line": {
          "color": "green",
          "width": 4
         },
         "mode": "lines",
         "opacity": 0.4686868686868687,
         "showlegend": false,
         "type": "scatter3d",
         "x": {
          "bdata": "tknBaX+iGMCIg3ipQMYYwA==",
          "dtype": "f8"
         },
         "y": {
          "bdata": "SLl5GUsOE0DUVqKNJewJQA==",
          "dtype": "f8"
         },
         "z": {
          "bdata": "C2dM60ygIEDRffYa81okQA==",
          "dtype": "f8"
         }
        },
        {
         "line": {
          "color": "green",
          "width": 4
         },
         "mode": "lines",
         "opacity": 0.4606060606060606,
         "showlegend": false,
         "type": "scatter3d",
         "x": {
          "bdata": "iIN4qUDGGMC7lDt5gZoRwA==",
          "dtype": "f8"
         },
         "y": {
          "bdata": "1FaijSXsCUCagQEotLMAQA==",
          "dtype": "f8"
         },
         "z": {
          "bdata": "0X32GvNaJED8D0JXS9UkQA==",
          "dtype": "f8"
         }
        },
        {
         "line": {
          "color": "green",
          "width": 4
         },
         "mode": "lines",
         "opacity": 0.45252525252525255,
         "showlegend": false,
         "type": "scatter3d",
         "x": {
          "bdata": "u5Q7eYGaEcDIiQ1wd4QVwA==",
          "dtype": "f8"
         },
         "y": {
          "bdata": "moEBKLSzAEAZUcMsbX3/Pw==",
          "dtype": "f8"
         },
         "z": {
          "bdata": "/A9CV0vVJEBOCdp1u1MmQA==",
          "dtype": "f8"
         }
        },
        {
         "line": {
          "color": "green",
          "width": 4
         },
         "mode": "lines",
         "opacity": 0.4444444444444445,
         "showlegend": false,
         "type": "scatter3d",
         "x": {
          "bdata": "yIkNcHeEFcC2Hvtakt0WwA==",
          "dtype": "f8"
         },
         "y": {
          "bdata": "GVHDLG19/z+Sqke9r04GQA==",
          "dtype": "f8"
         },
         "z": {
          "bdata": "TgnadbtTJkA20hmGUZgmQA==",
          "dtype": "f8"
         }
        },
        {
         "line": {
          "color": "green",
          "width": 4
         },
         "mode": "lines",
         "opacity": 0.43636363636363634,
         "showlegend": false,
         "type": "scatter3d",
         "x": {
          "bdata": "th77WpLdFsC+WZl8dWMhwA==",
          "dtype": "f8"
         },
         "y": {
          "bdata": "kqpHva9OBkCm30Ta6jULQA==",
          "dtype": "f8"
         },
         "z": {
          "bdata": "NtIZhlGYJkD8G/7yhuopQA==",
          "dtype": "f8"
         }
        },
        {
         "line": {
          "color": "green",
          "width": 4
         },
         "mode": "lines",
         "opacity": 0.4282828282828283,
         "showlegend": false,
         "type": "scatter3d",
         "x": {
          "bdata": "vlmZfHVjIcAmqG3fE3QlwA==",
          "dtype": "f8"
         },
         "y": {
          "bdata": "pt9E2uo1C0BY+IPwGH4EQA==",
          "dtype": "f8"
         },
         "z": {
          "bdata": "/Bv+8obqKUB1e+bbUJYkQA==",
          "dtype": "f8"
         }
        },
        {
         "line": {
          "color": "green",
          "width": 4
         },
         "mode": "lines",
         "opacity": 0.42020202020202024,
         "showlegend": false,
         "type": "scatter3d",
         "x": {
          "bdata": "Jqht3xN0JcCDFJuLk+ojwA==",
          "dtype": "f8"
         },
         "y": {
          "bdata": "WPiD8Bh+BEDwUMcLr3T5Pw==",
          "dtype": "f8"
         },
         "z": {
          "bdata": "dXvm21CWJECy8hBbYrAkQA==",
          "dtype": "f8"
         }
        },
        {
         "line": {
          "color": "green",
          "width": 4
         },
         "mode": "lines",
         "opacity": 0.4121212121212121,
         "showlegend": false,
         "type": "scatter3d",
         "x": {
          "bdata": "gxSbi5PqI8ChP4QdEzIlwA==",
          "dtype": "f8"
         },
         "y": {
          "bdata": "8FDHC690+T8DlZ9cIhX4Pw==",
          "dtype": "f8"
         },
         "z": {
          "bdata": "svIQW2KwJED0pRIF9lciQA==",
          "dtype": "f8"
         }
        },
        {
         "line": {
          "color": "green",
          "width": 4
         },
         "mode": "lines",
         "opacity": 0.404040404040404,
         "showlegend": false,
         "type": "scatter3d",
         "x": {
          "bdata": "oT+EHRMyJcCX6WQvDnUiwA==",
          "dtype": "f8"
         },
         "y": {
          "bdata": "A5WfXCIV+D9oZT1DxWwFQA==",
          "dtype": "f8"
         },
         "z": {
          "bdata": "9KUSBfZXIkCbgj8lNlQiQA==",
          "dtype": "f8"
         }
        },
        {
         "line": {
          "color": "green",
          "width": 4
         },
         "mode": "lines",
         "opacity": 0.39595959595959596,
         "showlegend": false,
         "type": "scatter3d",
         "x": {
          "bdata": "l+lkLw51IsClfq9gy7MgwA==",
          "dtype": "f8"
         },
         "y": {
          "bdata": "aGU9Q8VsBUC+ZHIi0ccBQA==",
          "dtype": "f8"
         },
         "z": {
          "bdata": "m4I/JTZUIkA10DjgckQjQA==",
          "dtype": "f8"
         }
        },
        {
         "line": {
          "color": "green",
          "width": 4
         },
         "mode": "lines",
         "opacity": 0.38787878787878793,
         "showlegend": false,
         "type": "scatter3d",
         "x": {
          "bdata": "pX6vYMuzIMBuB7M8M+oVwA==",
          "dtype": "f8"
         },
         "y": {
          "bdata": "vmRyItHHAUC7dZkVYDsSQA==",
          "dtype": "f8"
         },
         "z": {
          "bdata": "NdA44HJEI0AEnH/oFaYmQA==",
          "dtype": "f8"
         }
        },
        {
         "line": {
          "color": "green",
          "width": 4
         },
         "mode": "lines",
         "opacity": 0.3797979797979798,
         "showlegend": false,
         "type": "scatter3d",
         "x": {
          "bdata": "bgezPDPqFcCeeuXasZQVwA==",
          "dtype": "f8"
         },
         "y": {
          "bdata": "u3WZFWA7EkBzJSOoC6EPQA==",
          "dtype": "f8"
         },
         "z": {
          "bdata": "BJx/6BWmJkCTq7HjvI4iQA==",
          "dtype": "f8"
         }
        },
        {
         "line": {
          "color": "green",
          "width": 4
         },
         "mode": "lines",
         "opacity": 0.3717171717171717,
         "showlegend": false,
         "type": "scatter3d",
         "x": {
          "bdata": "nnrl2rGUFcDZcgcRBx8dwA==",
          "dtype": "f8"
         },
         "y": {
          "bdata": "cyUjqAuhD0C9JGaEY3oIQA==",
          "dtype": "f8"
         },
         "z": {
          "bdata": "k6ux47yOIkCv56QPV9QhQA==",
          "dtype": "f8"
         }
        },
        {
         "line": {
          "color": "green",
          "width": 4
         },
         "mode": "lines",
         "opacity": 0.3636363636363637,
         "showlegend": false,
         "type": "scatter3d",
         "x": {
          "bdata": "2XIHEQcfHcBYt9ViKusYwA==",
          "dtype": "f8"
         },
         "y": {
          "bdata": "vSRmhGN6CEC+OHmWMJH3Pw==",
          "dtype": "f8"
         },
         "z": {
          "bdata": "r+ekD1fUIUDX7UcLHwsgQA==",
          "dtype": "f8"
         }
        },
        {
         "line": {
          "color": "green",
          "width": 4
         },
         "mode": "lines",
         "opacity": 0.35555555555555557,
         "showlegend": false,
         "type": "scatter3d",
         "x": {
          "bdata": "WLfVYirrGMCeyakyUBYWwA==",
          "dtype": "f8"
         },
         "y": {
          "bdata": "vjh5ljCR9z8vYiJ4+X7nPw==",
          "dtype": "f8"
         },
         "z": {
          "bdata": "1+1HCx8LIEDmRzV7NBYZQA==",
          "dtype": "f8"
         }
        },
        {
         "line": {
          "color": "green",
          "width": 4
         },
         "mode": "lines",
         "opacity": 0.3474747474747475,
         "showlegend": false,
         "type": "scatter3d",
         "x": {
          "bdata": "nsmpMlAWFsB92fe5wZwMwA==",
          "dtype": "f8"
         },
         "y": {
          "bdata": "L2IiePl+5z8AG/wFiFzlPw==",
          "dtype": "f8"
         },
         "z": {
          "bdata": "5kc1ezQWGUC2ttFNfDMaQA==",
          "dtype": "f8"
         }
        },
        {
         "line": {
          "color": "green",
          "width": 4
         },
         "mode": "lines",
         "opacity": 0.33939393939393936,
         "showlegend": false,
         "type": "scatter3d",
         "x": {
          "bdata": "fdn3ucGcDMC0M6uo2GIEwA==",
          "dtype": "f8"
         },
         "y": {
          "bdata": "ABv8BYhc5T/aFbCpnoACQA==",
          "dtype": "f8"
         },
         "z": {
          "bdata": "trbRTXwzGkDafOnGhXgeQA==",
          "dtype": "f8"
         }
        },
        {
         "line": {
          "color": "green",
          "width": 4
         },
         "mode": "lines",
         "opacity": 0.33131313131313134,
         "showlegend": false,
         "type": "scatter3d",
         "x": {
          "bdata": "tDOrqNhiBMDuFq3G1KQDwA==",
          "dtype": "f8"
         },
         "y": {
          "bdata": "2hWwqZ6AAkC8bv1DaoEFQA==",
          "dtype": "f8"
         },
         "z": {
          "bdata": "2nzpxoV4HkCSvidb2X0bQA==",
          "dtype": "f8"
         }
        },
        {
         "line": {
          "color": "green",
          "width": 4
         },
         "mode": "lines",
         "opacity": 0.3232323232323233,
         "showlegend": false,
         "type": "scatter3d",
         "x": {
          "bdata": "7hatxtSkA8CftPrYgVkMwA==",
          "dtype": "f8"
         },
         "y": {
          "bdata": "vG79Q2qBBUAmXfxlMhUPQA==",
          "dtype": "f8"
         },
         "z": {
          "bdata": "kr4nW9l9G0DY7P/iphIgQA==",
          "dtype": "f8"
         }
        },
        {
         "line": {
          "color": "green",
          "width": 4
         },
         "mode": "lines",
         "opacity": 0.3151515151515152,
         "showlegend": false,
         "type": "scatter3d",
         "x": {
          "bdata": "n7T62IFZDMBZpBIYW4wVwA==",
          "dtype": "f8"
         },
         "y": {
          "bdata": "Jl38ZTIVD0DHVL2w8BYRQA==",
          "dtype": "f8"
         },
         "z": {
          "bdata": "2Oz/4qYSIEAdAalhh84jQA==",
          "dtype": "f8"
         }
        },
        {
         "line": {
          "color": "green",
          "width": 4
         },
         "mode": "lines",
         "opacity": 0.3070707070707071,
         "showlegend": false,
         "type": "scatter3d",
         "x": {
          "bdata": "WaQSGFuMFcCAwYxrErzevw==",
          "dtype": "f8"
         },
         "y": {
          "bdata": "x1S9sPAWEUAAq3yNK7kQQA==",
          "dtype": "f8"
         },
         "z": {
          "bdata": "HQGpYYfOI0BsDkEG+v4iQA==",
          "dtype": "f8"
         }
        },
        {
         "line": {
          "color": "green",
          "width": 4
         },
         "mode": "lines",
         "opacity": 0.298989898989899,
         "showlegend": false,
         "type": "scatter3d",
         "x": {
          "bdata": "gMGMaxK83r/9mk5DJHfgPw==",
          "dtype": "f8"
         },
         "y": {
          "bdata": "AKt8jSu5EEDdjMzUve8QQA==",
          "dtype": "f8"
         },
         "z": {
          "bdata": "bA5BBvr+IkDLmRh2Td0iQA==",
          "dtype": "f8"
         }
        },
        {
         "line": {
          "color": "green",
          "width": 4
         },
         "mode": "lines",
         "opacity": 0.29090909090909095,
         "showlegend": false,
         "type": "scatter3d",
         "x": {
          "bdata": "/ZpOQyR34D8cN83TTWoDQA==",
          "dtype": "f8"
         },
         "y": {
          "bdata": "3YzM1L3vEEARRfYm1X0SQA==",
          "dtype": "f8"
         },
         "z": {
          "bdata": "y5kYdk3dIkDzVCRuIZEiQA==",
          "dtype": "f8"
         }
        },
        {
         "line": {
          "color": "green",
          "width": 4
         },
         "mode": "lines",
         "opacity": 0.2828282828282828,
         "showlegend": false,
         "type": "scatter3d",
         "x": {
          "bdata": "HDfN001qA0AlEBuPMx0VQA==",
          "dtype": "f8"
         },
         "y": {
          "bdata": "EUX2JtV9EkAQBIUjnCwTQA==",
          "dtype": "f8"
         },
         "z": {
          "bdata": "81QkbiGRIkD9INdBCyMiQA==",
          "dtype": "f8"
         }
        },
        {
         "line": {
          "color": "green",
          "width": 4
         },
         "mode": "lines",
         "opacity": 0.27474747474747474,
         "showlegend": false,
         "type": "scatter3d",
         "x": {
          "bdata": "JRAbjzMdFUAYStV7WJMNQA==",
          "dtype": "f8"
         },
         "y": {
          "bdata": "EASFI5wsE0CejfvCtlEZQA==",
          "dtype": "f8"
         },
         "z": {
          "bdata": "/SDXQQsjIkAPr3733rIjQA==",
          "dtype": "f8"
         }
        },
        {
         "line": {
          "color": "green",
          "width": 4
         },
         "mode": "lines",
         "opacity": 0.2666666666666667,
         "showlegend": false,
         "type": "scatter3d",
         "x": {
          "bdata": "GErVe1iTDUDUyjPPAikQQA==",
          "dtype": "f8"
         },
         "y": {
          "bdata": "no37wrZRGUCZkPc0sRsbQA==",
          "dtype": "f8"
         },
         "z": {
          "bdata": "D69+996yI0DtlAoHFsAjQA==",
          "dtype": "f8"
         }
        },
        {
         "line": {
          "color": "green",
          "width": 4
         },
         "mode": "lines",
         "opacity": 0.2585858585858586,
         "showlegend": false,
         "type": "scatter3d",
         "x": {
          "bdata": "1MozzwIpEEBCzbJMMUwLQA==",
          "dtype": "f8"
         },
         "y": {
          "bdata": "mZD3NLEbG0BP6NaI0zAcQA==",
          "dtype": "f8"
         },
         "z": {
          "bdata": "7ZQKBxbAI0BL0bDPAW0iQA==",
          "dtype": "f8"
         }
        },
        {
         "line": {
          "color": "green",
          "width": 4
         },
         "mode": "lines",
         "opacity": 0.2505050505050505,
         "showlegend": false,
         "type": "scatter3d",
         "x": {
          "bdata": "Qs2yTDFMC0DT4E6WvikOQA==",
          "dtype": "f8"
         },
         "y": {
          "bdata": "T+jWiNMwHECdjwzP+kwiQA==",
          "dtype": "f8"
         },
         "z": {
          "bdata": "S9GwzwFtIkAjU3xAhvckQA==",
          "dtype": "f8"
         }
        },
        {
         "line": {
          "color": "green",
          "width": 4
         },
         "mode": "lines",
         "opacity": 0.2424242424242424,
         "showlegend": false,
         "type": "scatter3d",
         "x": {
          "bdata": "0+BOlr4pDkDAVOiWJ5kWQA==",
          "dtype": "f8"
         },
         "y": {
          "bdata": "nY8Mz/pMIkAePyvEaMoiQA==",
          "dtype": "f8"
         },
         "z": {
          "bdata": "I1N8QIb3JEC8KoETAxMmQA==",
          "dtype": "f8"
         }
        },
        {
         "line": {
          "color": "green",
          "width": 4
         },
         "mode": "lines",
         "opacity": 0.23434343434343435,
         "showlegend": false,
         "type": "scatter3d",
         "x": {
          "bdata": "wFTolieZFkDJDB1lxlUUQA==",
          "dtype": "f8"
         },
         "y": {
          "bdata": "Hj8rxGjKIkCWAt5k3kgiQA==",
          "dtype": "f8"
         },
         "z": {
          "bdata": "vCqBEwMTJkCZPOFK/MonQA==",
          "dtype": "f8"
         }
        },
        {
         "line": {
          "color": "green",
          "width": 4
         },
         "mode": "lines",
         "opacity": 0.2262626262626263,
         "showlegend": false,
         "type": "scatter3d",
         "x": {
          "bdata": "yQwdZcZVFEB1X/YKebMRQA==",
          "dtype": "f8"
         },
         "y": {
          "bdata": "lgLeZN5IIkAuXkghjzcjQA==",
          "dtype": "f8"
         },
         "z": {
          "bdata": "mTzhSvzKJ0CKJxi+yx4mQA==",
          "dtype": "f8"
         }
        },
        {
         "line": {
          "color": "green",
          "width": 4
         },
         "mode": "lines",
         "opacity": 0.21818181818181817,
         "showlegend": false,
         "type": "scatter3d",
         "x": {
          "bdata": "dV/2CnmzEUAQVlXp3zcXQA==",
          "dtype": "f8"
         },
         "y": {
          "bdata": "Ll5IIY83I0DqumlMUekmQA==",
          "dtype": "f8"
         },
         "z": {
          "bdata": "iicYvsseJkC9CD9xaeokQA==",
          "dtype": "f8"
         }
        },
        {
         "line": {
          "color": "green",
          "width": 4
         },
         "mode": "lines",
         "opacity": 0.21010101010101012,
         "showlegend": false,
         "type": "scatter3d",
         "x": {
          "bdata": "EFZV6d83F0Al/3jcBEoOQA==",
          "dtype": "f8"
         },
         "y": {
          "bdata": "6rppTFHpJkBWLZi/0WUpQA==",
          "dtype": "f8"
         },
         "z": {
          "bdata": "vQg/cWnqJEAExMtbo2cmQA==",
          "dtype": "f8"
         }
        },
        {
         "line": {
          "color": "green",
          "width": 4
         },
         "mode": "lines",
         "opacity": 0.202020202020202,
         "showlegend": false,
         "type": "scatter3d",
         "x": {
          "bdata": "Jf943ARKDkBurKkAMUsFQA==",
          "dtype": "f8"
         },
         "y": {
          "bdata": "Vi2Yv9FlKUDcnXVfV0QqQA==",
          "dtype": "f8"
         },
         "z": {
          "bdata": "BMTLW6NnJkB5vQD88GQkQA==",
          "dtype": "f8"
         }
        },
        {
         "line": {
          "color": "green",
          "width": 4
         },
         "mode": "lines",
         "opacity": 0.19393939393939397,
         "showlegend": false,
         "type": "scatter3d",
         "x": {
          "bdata": "bqypADFLBUB9N5sKtWQGQA==",
          "dtype": "f8"
         },
         "y": {
          "bdata": "3J11X1dEKkC62wySJq4oQA==",
          "dtype": "f8"
         },
         "z": {
          "bdata": "eb0A/PBkJEA895EtTNslQA==",
          "dtype": "f8"
         }
        },
        {
         "line": {
          "color": "green",
          "width": 4
         },
         "mode": "lines",
         "opacity": 0.18585858585858592,
         "showlegend": false,
         "type": "scatter3d",
         "x": {
          "bdata": "fTebCrVkBkCCVM8YIoQJQA==",
          "dtype": "f8"
         },
         "y": {
          "bdata": "utsMkiauKECFWmMiwkwrQA==",
          "dtype": "f8"
         },
         "z": {
          "bdata": "PPeRLUzbJUA+pqaKu/ghQA==",
          "dtype": "f8"
         }
        },
        {
         "line": {
          "color": "green",
          "width": 4
         },
         "mode": "lines",
         "opacity": 0.17777777777777778,
         "showlegend": false,
         "type": "scatter3d",
         "x": {
          "bdata": "glTPGCKECUCikwofO77KPw==",
          "dtype": "f8"
         },
         "y": {
          "bdata": "hVpjIsJMK0CqLK8PJbAmQA==",
          "dtype": "f8"
         },
         "z": {
          "bdata": "Pqamirv4IUCc8PqcO44kQA==",
          "dtype": "f8"
         }
        },
        {
         "line": {
          "color": "green",
          "width": 4
         },
         "mode": "lines",
         "opacity": 0.16969696969696973,
         "showlegend": false,
         "type": "scatter3d",
         "x": {
          "bdata": "opMKHzu+yj/UmHnhhwTDPw==",
          "dtype": "f8"
         },
         "y": {
          "bdata": "qiyvDyWwJkBi14zwm6EnQA==",
          "dtype": "f8"
         },
         "z": {
          "bdata": "nPD6nDuOJEBDrtOn02skQA==",
          "dtype": "f8"
         }
        },
        {
         "line": {
          "color": "green",
          "width": 4
         },
         "mode": "lines",
         "opacity": 0.1616161616161616,
         "showlegend": false,
         "type": "scatter3d",
         "x": {
          "bdata": "1Jh54YcEwz9gpxtnbNmgvw==",
          "dtype": "f8"
         },
         "y": {
          "bdata": "YteM8JuhJ0BclGYLiTgiQA==",
          "dtype": "f8"
         },
         "z": {
          "bdata": "Q67Tp9NrJEDv2tvpL0AkQA==",
          "dtype": "f8"
         }
        },
        {
         "line": {
          "color": "green",
          "width": 4
         },
         "mode": "lines",
         "opacity": 0.15353535353535355,
         "showlegend": false,
         "type": "scatter3d",
         "x": {
          "bdata": "YKcbZ2zZoL+o4xMIczOovw==",
          "dtype": "f8"
         },
         "y": {
          "bdata": "XJRmC4k4IkAR0AoAB8IgQA==",
          "dtype": "f8"
         },
         "z": {
          "bdata": "79rb6S9AJEAPLkUbiTcmQA==",
          "dtype": "f8"
         }
        },
        {
         "line": {
          "color": "green",
          "width": 4
         },
         "mode": "lines",
         "opacity": 0.14545454545454542,
         "showlegend": false,
         "type": "scatter3d",
         "x": {
          "bdata": "qOMTCHMzqL8c7HdhF+TkPw==",
          "dtype": "f8"
         },
         "y": {
          "bdata": "EdAKAAfCIEAaZY1OMEIgQA==",
          "dtype": "f8"
         },
         "z": {
          "bdata": "Dy5FG4k3JkA84zvlwgMkQA==",
          "dtype": "f8"
         }
        },
        {
         "line": {
          "color": "green",
          "width": 4
         },
         "mode": "lines",
         "opacity": 0.13737373737373737,
         "showlegend": false,
         "type": "scatter3d",
         "x": {
          "bdata": "HOx3YRfk5D+4huLB4hrjvw==",
          "dtype": "f8"
         },
         "y": {
          "bdata": "GmWNTjBCIEBUox/5onwhQA==",
          "dtype": "f8"
         },
         "z": {
          "bdata": "POM75cIDJEDQqm3+mQkmQA==",
          "dtype": "f8"
         }
        },
        {
         "line": {
          "color": "green",
          "width": 4
         },
         "mode": "lines",
         "opacity": 0.12929292929292932,
         "showlegend": false,
         "type": "scatter3d",
         "x": {
          "bdata": "uIbiweIa479+gIrUHwO+vw==",
          "dtype": "f8"
         },
         "y": {
          "bdata": "VKMf+aJ8IUD6BXGG43chQA==",
          "dtype": "f8"
         },
         "z": {
          "bdata": "0Kpt/pkJJkDo3/+txpYlQA==",
          "dtype": "f8"
         }
        },
        {
         "line": {
          "color": "green",
          "width": 4
         },
         "mode": "lines",
         "opacity": 0.1212121212121212,
         "showlegend": false,
         "type": "scatter3d",
         "x": {
          "bdata": "foCK1B8Dvr8zJ/rOyuP0vw==",
          "dtype": "f8"
         },
         "y": {
          "bdata": "+gVxhuN3IUBTD2x+gaoiQA==",
          "dtype": "f8"
         },
         "z": {
          "bdata": "6N//rcaWJUDfPoWpgjYiQA==",
          "dtype": "f8"
         }
        },
        {
         "line": {
          "color": "green",
          "width": 4
         },
         "mode": "lines",
         "opacity": 0.11313131313131315,
         "showlegend": false,
         "type": "scatter3d",
         "x": {
          "bdata": "Myf6zsrj9L+eojcNq9P4vw==",
          "dtype": "f8"
         },
         "y": {
          "bdata": "Uw9sfoGqIkBuMF7N7lAgQA==",
          "dtype": "f8"
         },
         "z": {
          "bdata": "3z6FqYI2IkCOE5JvwOIbQA==",
          "dtype": "f8"
         }
        },
        {
         "line": {
          "color": "green",
          "width": 4
         },
         "mode": "lines",
         "opacity": 0.10505050505050502,
         "showlegend": false,
         "type": "scatter3d",
         "x": {
          "bdata": "nqI3DavT+L84FSO+OcfBPw==",
          "dtype": "f8"
         },
         "y": {
          "bdata": "bjBeze5QIEAO1IWRQmEcQA==",
          "dtype": "f8"
         },
         "z": {
          "bdata": "jhOSb8DiG0C77+Wblq4UQA==",
          "dtype": "f8"
         }
        },
        {
         "line": {
          "color": "green",
          "width": 4
         },
         "mode": "lines",
         "opacity": 0.09696969696969698,
         "showlegend": false,
         "type": "scatter3d",
         "x": {
          "bdata": "OBUjvjnHwT9dnp3uEZDivw==",
          "dtype": "f8"
         },
         "y": {
          "bdata": "DtSFkUJhHECSDgJwITUbQA==",
          "dtype": "f8"
         },
         "z": {
          "bdata": "u+/lm5auFEDjAINbJb4QQA==",
          "dtype": "f8"
         }
        },
        {
         "line": {
          "color": "green",
          "width": 4
         },
         "mode": "lines",
         "opacity": 0.08888888888888893,
         "showlegend": false,
         "type": "scatter3d",
         "x": {
          "bdata": "XZ6d7hGQ4r9mYUSiSyYCwA==",
          "dtype": "f8"
         },
         "y": {
          "bdata": "kg4CcCE1G0D35oM2eTMYQA==",
          "dtype": "f8"
         },
         "z": {
          "bdata": "4wCDWyW+EEAZQqI9/zkBQA==",
          "dtype": "f8"
         }
        },
        {
         "line": {
          "color": "green",
          "width": 4
         },
         "mode": "lines",
         "opacity": 0.0808080808080808,
         "showlegend": false,
         "type": "scatter3d",
         "x": {
          "bdata": "ZmFEoksmAsCYKXs4Btf0vw==",
          "dtype": "f8"
         },
         "y": {
          "bdata": "9+aDNnkzGEBF5FH5URUWQA==",
          "dtype": "f8"
         },
         "z": {
          "bdata": "GUKiPf85AUDLb4XXI1Xtvw==",
          "dtype": "f8"
         }
        },
        {
         "line": {
          "color": "green",
          "width": 4
         },
         "mode": "lines",
         "opacity": 0.07272727272727275,
         "showlegend": false,
         "type": "scatter3d",
         "x": {
          "bdata": "mCl7OAbX9L/w5H3+eLnsvw==",
          "dtype": "f8"
         },
         "y": {
          "bdata": "ReRR+VEVFkBmoSfhkWIBQA==",
          "dtype": "f8"
         },
         "z": {
          "bdata": "y2+F1yNV7b9k2hoFG0/hvw==",
          "dtype": "f8"
         }
        },
        {
         "line": {
          "color": "green",
          "width": 4
         },
         "mode": "lines",
         "opacity": 0.06464646464646462,
         "showlegend": false,
         "type": "scatter3d",
         "x": {
          "bdata": "8OR9/ni57L9BCCEjSt/4vw==",
          "dtype": "f8"
         },
         "y": {
          "bdata": "ZqEn4ZFiAUDIFt3GJt/yvw==",
          "dtype": "f8"
         },
         "z": {
          "bdata": "ZNoaBRtP4b9koppnJ/nnPw==",
          "dtype": "f8"
         }
        },
        {
         "line": {
          "color": "green",
          "width": 4
         },
         "mode": "lines",
         "opacity": 0.056565656565656576,
         "showlegend": false,
         "type": "scatter3d",
         "x": {
          "bdata": "QQghI0rf+L8RULoh6ykFwA==",
          "dtype": "f8"
         },
         "y": {
          "bdata": "yBbdxibf8r8+LpgRf4gGwA==",
          "dtype": "f8"
         },
         "z": {
          "bdata": "ZKKaZyf55z8n/UrEFrEDQA==",
          "dtype": "f8"
         }
        },
        {
         "line": {
          "color": "green",
          "width": 4
         },
         "mode": "lines",
         "opacity": 0.04848484848484844,
         "showlegend": false,
         "type": "scatter3d",
         "x": {
          "bdata": "EVC6IespBcBUnl+YqRf5vw==",
          "dtype": "f8"
         },
         "y": {
          "bdata": "Pi6YEX+IBsCXC0n+wqD0vw==",
          "dtype": "f8"
         },
         "z": {
          "bdata": "J/1KxBaxA0CMup2NEvMGQA==",
          "dtype": "f8"
         }
        },
        {
         "line": {
          "color": "green",
          "width": 4
         },
         "mode": "lines",
         "opacity": 0.0404040404040404,
         "showlegend": false,
         "type": "scatter3d",
         "x": {
          "bdata": "VJ5fmKkX+b9E8UeTOR/ovw==",
          "dtype": "f8"
         },
         "y": {
          "bdata": "lwtJ/sKg9L+qxGhwvL/xPw==",
          "dtype": "f8"
         },
         "z": {
          "bdata": "jLqdjRLzBkCMA/FWlY/2Pw==",
          "dtype": "f8"
         }
        },
        {
         "line": {
          "color": "green",
          "width": 4
         },
         "mode": "lines",
         "opacity": 0.03232323232323236,
         "showlegend": false,
         "type": "scatter3d",
         "x": {
          "bdata": "RPFHkzkf6L8XvtRG9Ifpvw==",
          "dtype": "f8"
         },
         "y": {
          "bdata": "qsRocLy/8T8fvYLUI6YHQA==",
          "dtype": "f8"
         },
         "z": {
          "bdata": "jAPxVpWP9j+2xufi8d7+Pw==",
          "dtype": "f8"
         }
        },
        {
         "line": {
          "color": "green",
          "width": 4
         },
         "mode": "lines",
         "opacity": 0.02424242424242422,
         "showlegend": false,
         "type": "scatter3d",
         "x": {
          "bdata": "F77URvSH6b/B9u7fV3vvvw==",
          "dtype": "f8"
         },
         "y": {
          "bdata": "H72C1COmB0A1j9YQK4cUQA==",
          "dtype": "f8"
         },
         "z": {
          "bdata": "tsbn4vHe/j8v7+6+UDzXvw==",
          "dtype": "f8"
         }
        },
        {
         "line": {
          "color": "green",
          "width": 4
         },
         "mode": "lines",
         "opacity": 0.01616161616161618,
         "showlegend": false,
         "type": "scatter3d",
         "x": {
          "bdata": "wfbu31d7778Th6g+dZMCwA==",
          "dtype": "f8"
         },
         "y": {
          "bdata": "NY/WECuHFEDZWnpUhdMQQA==",
          "dtype": "f8"
         },
         "z": {
          "bdata": "L+/uvlA817+kglcVbu3wvw==",
          "dtype": "f8"
         }
        },
        {
         "line": {
          "color": "green",
          "width": 4
         },
         "mode": "lines",
         "opacity": 0.008080808080808044,
         "showlegend": false,
         "type": "scatter3d",
         "x": {
          "bdata": "E4eoPnWTAsCoBbggO3T4vw==",
          "dtype": "f8"
         },
         "y": {
          "bdata": "2Vp6VIXTEEB6Z3xv3SsSQA==",
          "dtype": "f8"
         },
         "z": {
          "bdata": "pIJXFW7t8L9IiE8e1OLQPw==",
          "dtype": "f8"
         }
        }
       ],
       "layout": {
        "scene": {
         "xaxis": {
          "title": {
           "text": "X"
          }
         },
         "yaxis": {
          "title": {
           "text": "Y"
          }
         },
         "zaxis": {
          "title": {
           "text": "Z"
          }
         }
        },
        "template": {
         "data": {
          "bar": [
           {
            "error_x": {
             "color": "#2a3f5f"
            },
            "error_y": {
             "color": "#2a3f5f"
            },
            "marker": {
             "line": {
              "color": "#E5ECF6",
              "width": 0.5
             },
             "pattern": {
              "fillmode": "overlay",
              "size": 10,
              "solidity": 0.2
             }
            },
            "type": "bar"
           }
          ],
          "barpolar": [
           {
            "marker": {
             "line": {
              "color": "#E5ECF6",
              "width": 0.5
             },
             "pattern": {
              "fillmode": "overlay",
              "size": 10,
              "solidity": 0.2
             }
            },
            "type": "barpolar"
           }
          ],
          "carpet": [
           {
            "aaxis": {
             "endlinecolor": "#2a3f5f",
             "gridcolor": "white",
             "linecolor": "white",
             "minorgridcolor": "white",
             "startlinecolor": "#2a3f5f"
            },
            "baxis": {
             "endlinecolor": "#2a3f5f",
             "gridcolor": "white",
             "linecolor": "white",
             "minorgridcolor": "white",
             "startlinecolor": "#2a3f5f"
            },
            "type": "carpet"
           }
          ],
          "choropleth": [
           {
            "colorbar": {
             "outlinewidth": 0,
             "ticks": ""
            },
            "type": "choropleth"
           }
          ],
          "contour": [
           {
            "colorbar": {
             "outlinewidth": 0,
             "ticks": ""
            },
            "colorscale": [
             [
              0,
              "#0d0887"
             ],
             [
              0.1111111111111111,
              "#46039f"
             ],
             [
              0.2222222222222222,
              "#7201a8"
             ],
             [
              0.3333333333333333,
              "#9c179e"
             ],
             [
              0.4444444444444444,
              "#bd3786"
             ],
             [
              0.5555555555555556,
              "#d8576b"
             ],
             [
              0.6666666666666666,
              "#ed7953"
             ],
             [
              0.7777777777777778,
              "#fb9f3a"
             ],
             [
              0.8888888888888888,
              "#fdca26"
             ],
             [
              1,
              "#f0f921"
             ]
            ],
            "type": "contour"
           }
          ],
          "contourcarpet": [
           {
            "colorbar": {
             "outlinewidth": 0,
             "ticks": ""
            },
            "type": "contourcarpet"
           }
          ],
          "heatmap": [
           {
            "colorbar": {
             "outlinewidth": 0,
             "ticks": ""
            },
            "colorscale": [
             [
              0,
              "#0d0887"
             ],
             [
              0.1111111111111111,
              "#46039f"
             ],
             [
              0.2222222222222222,
              "#7201a8"
             ],
             [
              0.3333333333333333,
              "#9c179e"
             ],
             [
              0.4444444444444444,
              "#bd3786"
             ],
             [
              0.5555555555555556,
              "#d8576b"
             ],
             [
              0.6666666666666666,
              "#ed7953"
             ],
             [
              0.7777777777777778,
              "#fb9f3a"
             ],
             [
              0.8888888888888888,
              "#fdca26"
             ],
             [
              1,
              "#f0f921"
             ]
            ],
            "type": "heatmap"
           }
          ],
          "histogram": [
           {
            "marker": {
             "pattern": {
              "fillmode": "overlay",
              "size": 10,
              "solidity": 0.2
             }
            },
            "type": "histogram"
           }
          ],
          "histogram2d": [
           {
            "colorbar": {
             "outlinewidth": 0,
             "ticks": ""
            },
            "colorscale": [
             [
              0,
              "#0d0887"
             ],
             [
              0.1111111111111111,
              "#46039f"
             ],
             [
              0.2222222222222222,
              "#7201a8"
             ],
             [
              0.3333333333333333,
              "#9c179e"
             ],
             [
              0.4444444444444444,
              "#bd3786"
             ],
             [
              0.5555555555555556,
              "#d8576b"
             ],
             [
              0.6666666666666666,
              "#ed7953"
             ],
             [
              0.7777777777777778,
              "#fb9f3a"
             ],
             [
              0.8888888888888888,
              "#fdca26"
             ],
             [
              1,
              "#f0f921"
             ]
            ],
            "type": "histogram2d"
           }
          ],
          "histogram2dcontour": [
           {
            "colorbar": {
             "outlinewidth": 0,
             "ticks": ""
            },
            "colorscale": [
             [
              0,
              "#0d0887"
             ],
             [
              0.1111111111111111,
              "#46039f"
             ],
             [
              0.2222222222222222,
              "#7201a8"
             ],
             [
              0.3333333333333333,
              "#9c179e"
             ],
             [
              0.4444444444444444,
              "#bd3786"
             ],
             [
              0.5555555555555556,
              "#d8576b"
             ],
             [
              0.6666666666666666,
              "#ed7953"
             ],
             [
              0.7777777777777778,
              "#fb9f3a"
             ],
             [
              0.8888888888888888,
              "#fdca26"
             ],
             [
              1,
              "#f0f921"
             ]
            ],
            "type": "histogram2dcontour"
           }
          ],
          "mesh3d": [
           {
            "colorbar": {
             "outlinewidth": 0,
             "ticks": ""
            },
            "type": "mesh3d"
           }
          ],
          "parcoords": [
           {
            "line": {
             "colorbar": {
              "outlinewidth": 0,
              "ticks": ""
             }
            },
            "type": "parcoords"
           }
          ],
          "pie": [
           {
            "automargin": true,
            "type": "pie"
           }
          ],
          "scatter": [
           {
            "fillpattern": {
             "fillmode": "overlay",
             "size": 10,
             "solidity": 0.2
            },
            "type": "scatter"
           }
          ],
          "scatter3d": [
           {
            "line": {
             "colorbar": {
              "outlinewidth": 0,
              "ticks": ""
             }
            },
            "marker": {
             "colorbar": {
              "outlinewidth": 0,
              "ticks": ""
             }
            },
            "type": "scatter3d"
           }
          ],
          "scattercarpet": [
           {
            "marker": {
             "colorbar": {
              "outlinewidth": 0,
              "ticks": ""
             }
            },
            "type": "scattercarpet"
           }
          ],
          "scattergeo": [
           {
            "marker": {
             "colorbar": {
              "outlinewidth": 0,
              "ticks": ""
             }
            },
            "type": "scattergeo"
           }
          ],
          "scattergl": [
           {
            "marker": {
             "colorbar": {
              "outlinewidth": 0,
              "ticks": ""
             }
            },
            "type": "scattergl"
           }
          ],
          "scattermap": [
           {
            "marker": {
             "colorbar": {
              "outlinewidth": 0,
              "ticks": ""
             }
            },
            "type": "scattermap"
           }
          ],
          "scattermapbox": [
           {
            "marker": {
             "colorbar": {
              "outlinewidth": 0,
              "ticks": ""
             }
            },
            "type": "scattermapbox"
           }
          ],
          "scatterpolar": [
           {
            "marker": {
             "colorbar": {
              "outlinewidth": 0,
              "ticks": ""
             }
            },
            "type": "scatterpolar"
           }
          ],
          "scatterpolargl": [
           {
            "marker": {
             "colorbar": {
              "outlinewidth": 0,
              "ticks": ""
             }
            },
            "type": "scatterpolargl"
           }
          ],
          "scatterternary": [
           {
            "marker": {
             "colorbar": {
              "outlinewidth": 0,
              "ticks": ""
             }
            },
            "type": "scatterternary"
           }
          ],
          "surface": [
           {
            "colorbar": {
             "outlinewidth": 0,
             "ticks": ""
            },
            "colorscale": [
             [
              0,
              "#0d0887"
             ],
             [
              0.1111111111111111,
              "#46039f"
             ],
             [
              0.2222222222222222,
              "#7201a8"
             ],
             [
              0.3333333333333333,
              "#9c179e"
             ],
             [
              0.4444444444444444,
              "#bd3786"
             ],
             [
              0.5555555555555556,
              "#d8576b"
             ],
             [
              0.6666666666666666,
              "#ed7953"
             ],
             [
              0.7777777777777778,
              "#fb9f3a"
             ],
             [
              0.8888888888888888,
              "#fdca26"
             ],
             [
              1,
              "#f0f921"
             ]
            ],
            "type": "surface"
           }
          ],
          "table": [
           {
            "cells": {
             "fill": {
              "color": "#EBF0F8"
             },
             "line": {
              "color": "white"
             }
            },
            "header": {
             "fill": {
              "color": "#C8D4E3"
             },
             "line": {
              "color": "white"
             }
            },
            "type": "table"
           }
          ]
         },
         "layout": {
          "annotationdefaults": {
           "arrowcolor": "#2a3f5f",
           "arrowhead": 0,
           "arrowwidth": 1
          },
          "autotypenumbers": "strict",
          "coloraxis": {
           "colorbar": {
            "outlinewidth": 0,
            "ticks": ""
           }
          },
          "colorscale": {
           "diverging": [
            [
             0,
             "#8e0152"
            ],
            [
             0.1,
             "#c51b7d"
            ],
            [
             0.2,
             "#de77ae"
            ],
            [
             0.3,
             "#f1b6da"
            ],
            [
             0.4,
             "#fde0ef"
            ],
            [
             0.5,
             "#f7f7f7"
            ],
            [
             0.6,
             "#e6f5d0"
            ],
            [
             0.7,
             "#b8e186"
            ],
            [
             0.8,
             "#7fbc41"
            ],
            [
             0.9,
             "#4d9221"
            ],
            [
             1,
             "#276419"
            ]
           ],
           "sequential": [
            [
             0,
             "#0d0887"
            ],
            [
             0.1111111111111111,
             "#46039f"
            ],
            [
             0.2222222222222222,
             "#7201a8"
            ],
            [
             0.3333333333333333,
             "#9c179e"
            ],
            [
             0.4444444444444444,
             "#bd3786"
            ],
            [
             0.5555555555555556,
             "#d8576b"
            ],
            [
             0.6666666666666666,
             "#ed7953"
            ],
            [
             0.7777777777777778,
             "#fb9f3a"
            ],
            [
             0.8888888888888888,
             "#fdca26"
            ],
            [
             1,
             "#f0f921"
            ]
           ],
           "sequentialminus": [
            [
             0,
             "#0d0887"
            ],
            [
             0.1111111111111111,
             "#46039f"
            ],
            [
             0.2222222222222222,
             "#7201a8"
            ],
            [
             0.3333333333333333,
             "#9c179e"
            ],
            [
             0.4444444444444444,
             "#bd3786"
            ],
            [
             0.5555555555555556,
             "#d8576b"
            ],
            [
             0.6666666666666666,
             "#ed7953"
            ],
            [
             0.7777777777777778,
             "#fb9f3a"
            ],
            [
             0.8888888888888888,
             "#fdca26"
            ],
            [
             1,
             "#f0f921"
            ]
           ]
          },
          "colorway": [
           "#636efa",
           "#EF553B",
           "#00cc96",
           "#ab63fa",
           "#FFA15A",
           "#19d3f3",
           "#FF6692",
           "#B6E880",
           "#FF97FF",
           "#FECB52"
          ],
          "font": {
           "color": "#2a3f5f"
          },
          "geo": {
           "bgcolor": "white",
           "lakecolor": "white",
           "landcolor": "#E5ECF6",
           "showlakes": true,
           "showland": true,
           "subunitcolor": "white"
          },
          "hoverlabel": {
           "align": "left"
          },
          "hovermode": "closest",
          "mapbox": {
           "style": "light"
          },
          "paper_bgcolor": "white",
          "plot_bgcolor": "#E5ECF6",
          "polar": {
           "angularaxis": {
            "gridcolor": "white",
            "linecolor": "white",
            "ticks": ""
           },
           "bgcolor": "#E5ECF6",
           "radialaxis": {
            "gridcolor": "white",
            "linecolor": "white",
            "ticks": ""
           }
          },
          "scene": {
           "xaxis": {
            "backgroundcolor": "#E5ECF6",
            "gridcolor": "white",
            "gridwidth": 2,
            "linecolor": "white",
            "showbackground": true,
            "ticks": "",
            "zerolinecolor": "white"
           },
           "yaxis": {
            "backgroundcolor": "#E5ECF6",
            "gridcolor": "white",
            "gridwidth": 2,
            "linecolor": "white",
            "showbackground": true,
            "ticks": "",
            "zerolinecolor": "white"
           },
           "zaxis": {
            "backgroundcolor": "#E5ECF6",
            "gridcolor": "white",
            "gridwidth": 2,
            "linecolor": "white",
            "showbackground": true,
            "ticks": "",
            "zerolinecolor": "white"
           }
          },
          "shapedefaults": {
           "line": {
            "color": "#2a3f5f"
           }
          },
          "ternary": {
           "aaxis": {
            "gridcolor": "white",
            "linecolor": "white",
            "ticks": ""
           },
           "baxis": {
            "gridcolor": "white",
            "linecolor": "white",
            "ticks": ""
           },
           "bgcolor": "#E5ECF6",
           "caxis": {
            "gridcolor": "white",
            "linecolor": "white",
            "ticks": ""
           }
          },
          "title": {
           "x": 0.05
          },
          "xaxis": {
           "automargin": true,
           "gridcolor": "white",
           "linecolor": "white",
           "ticks": "",
           "title": {
            "standoff": 15
           },
           "zerolinecolor": "white",
           "zerolinewidth": 2
          },
          "yaxis": {
           "automargin": true,
           "gridcolor": "white",
           "linecolor": "white",
           "ticks": "",
           "title": {
            "standoff": 15
           },
           "zerolinecolor": "white",
           "zerolinewidth": 2
          }
         }
        },
        "title": {
         "text": "3D Odometry Trajectory rgb (gradient alpha)"
        }
       }
      }
     },
     "metadata": {},
     "output_type": "display_data"
    }
   ],
   "source": [
    "import plotly.graph_objs as go\n",
    "import numpy as np\n",
    "\n",
    "trajectory_3d_np = np.array(trajectory_3d)\n",
    "trajectory_3d_np = trajectory_3d_np[::5]\n",
    "fig = go.Figure()\n",
    "\n",
    "n = len(trajectory_3d_np)\n",
    "for i in range(n - 1):\n",
    "    alpha = 0.8 * (1 - i / (n - 1)) \n",
    "    fig.add_trace(\n",
    "        go.Scatter3d(\n",
    "            x=-trajectory_3d_np[i : i + 2, 0],\n",
    "            y=trajectory_3d_np[i : i + 2, 1],\n",
    "            z=-trajectory_3d_np[i : i + 2, 2],\n",
    "            mode=\"lines\",\n",
    "            line=dict(color=\"green\", width=4),\n",
    "            opacity=alpha,\n",
    "            showlegend=False,\n",
    "        )\n",
    "    )\n",
    "\n",
    "fig.update_layout(\n",
    "    scene=dict(xaxis_title=\"X\", yaxis_title=\"Y\", zaxis_title=\"Z\"),\n",
    "    title=\"3D Odometry Trajectory rgb (gradient alpha)\",\n",
    ")\n",
    "fig.show()"
   ]
  },
  {
   "cell_type": "code",
   "execution_count": 103,
   "id": "baa1a0fc",
   "metadata": {},
   "outputs": [
    {
     "data": {
      "application/vnd.plotly.v1+json": {
       "config": {
        "plotlyServerURL": "https://plot.ly"
       },
       "data": [
        {
         "line": {
          "color": "red",
          "width": 4
         },
         "mode": "lines",
         "type": "scatter3d",
         "x": {
          "bdata": "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",
          "dtype": "f8"
         },
         "y": {
          "bdata": "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",
          "dtype": "f8"
         },
         "z": {
          "bdata": "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",
          "dtype": "f8"
         }
        }
       ],
       "layout": {
        "scene": {
         "xaxis": {
          "title": {
           "text": "X"
          }
         },
         "yaxis": {
          "title": {
           "text": "Y"
          }
         },
         "zaxis": {
          "title": {
           "text": "Z"
          }
         }
        },
        "template": {
         "data": {
          "bar": [
           {
            "error_x": {
             "color": "#2a3f5f"
            },
            "error_y": {
             "color": "#2a3f5f"
            },
            "marker": {
             "line": {
              "color": "#E5ECF6",
              "width": 0.5
             },
             "pattern": {
              "fillmode": "overlay",
              "size": 10,
              "solidity": 0.2
             }
            },
            "type": "bar"
           }
          ],
          "barpolar": [
           {
            "marker": {
             "line": {
              "color": "#E5ECF6",
              "width": 0.5
             },
             "pattern": {
              "fillmode": "overlay",
              "size": 10,
              "solidity": 0.2
             }
            },
            "type": "barpolar"
           }
          ],
          "carpet": [
           {
            "aaxis": {
             "endlinecolor": "#2a3f5f",
             "gridcolor": "white",
             "linecolor": "white",
             "minorgridcolor": "white",
             "startlinecolor": "#2a3f5f"
            },
            "baxis": {
             "endlinecolor": "#2a3f5f",
             "gridcolor": "white",
             "linecolor": "white",
             "minorgridcolor": "white",
             "startlinecolor": "#2a3f5f"
            },
            "type": "carpet"
           }
          ],
          "choropleth": [
           {
            "colorbar": {
             "outlinewidth": 0,
             "ticks": ""
            },
            "type": "choropleth"
           }
          ],
          "contour": [
           {
            "colorbar": {
             "outlinewidth": 0,
             "ticks": ""
            },
            "colorscale": [
             [
              0,
              "#0d0887"
             ],
             [
              0.1111111111111111,
              "#46039f"
             ],
             [
              0.2222222222222222,
              "#7201a8"
             ],
             [
              0.3333333333333333,
              "#9c179e"
             ],
             [
              0.4444444444444444,
              "#bd3786"
             ],
             [
              0.5555555555555556,
              "#d8576b"
             ],
             [
              0.6666666666666666,
              "#ed7953"
             ],
             [
              0.7777777777777778,
              "#fb9f3a"
             ],
             [
              0.8888888888888888,
              "#fdca26"
             ],
             [
              1,
              "#f0f921"
             ]
            ],
            "type": "contour"
           }
          ],
          "contourcarpet": [
           {
            "colorbar": {
             "outlinewidth": 0,
             "ticks": ""
            },
            "type": "contourcarpet"
           }
          ],
          "heatmap": [
           {
            "colorbar": {
             "outlinewidth": 0,
             "ticks": ""
            },
            "colorscale": [
             [
              0,
              "#0d0887"
             ],
             [
              0.1111111111111111,
              "#46039f"
             ],
             [
              0.2222222222222222,
              "#7201a8"
             ],
             [
              0.3333333333333333,
              "#9c179e"
             ],
             [
              0.4444444444444444,
              "#bd3786"
             ],
             [
              0.5555555555555556,
              "#d8576b"
             ],
             [
              0.6666666666666666,
              "#ed7953"
             ],
             [
              0.7777777777777778,
              "#fb9f3a"
             ],
             [
              0.8888888888888888,
              "#fdca26"
             ],
             [
              1,
              "#f0f921"
             ]
            ],
            "type": "heatmap"
           }
          ],
          "histogram": [
           {
            "marker": {
             "pattern": {
              "fillmode": "overlay",
              "size": 10,
              "solidity": 0.2
             }
            },
            "type": "histogram"
           }
          ],
          "histogram2d": [
           {
            "colorbar": {
             "outlinewidth": 0,
             "ticks": ""
            },
            "colorscale": [
             [
              0,
              "#0d0887"
             ],
             [
              0.1111111111111111,
              "#46039f"
             ],
             [
              0.2222222222222222,
              "#7201a8"
             ],
             [
              0.3333333333333333,
              "#9c179e"
             ],
             [
              0.4444444444444444,
              "#bd3786"
             ],
             [
              0.5555555555555556,
              "#d8576b"
             ],
             [
              0.6666666666666666,
              "#ed7953"
             ],
             [
              0.7777777777777778,
              "#fb9f3a"
             ],
             [
              0.8888888888888888,
              "#fdca26"
             ],
             [
              1,
              "#f0f921"
             ]
            ],
            "type": "histogram2d"
           }
          ],
          "histogram2dcontour": [
           {
            "colorbar": {
             "outlinewidth": 0,
             "ticks": ""
            },
            "colorscale": [
             [
              0,
              "#0d0887"
             ],
             [
              0.1111111111111111,
              "#46039f"
             ],
             [
              0.2222222222222222,
              "#7201a8"
             ],
             [
              0.3333333333333333,
              "#9c179e"
             ],
             [
              0.4444444444444444,
              "#bd3786"
             ],
             [
              0.5555555555555556,
              "#d8576b"
             ],
             [
              0.6666666666666666,
              "#ed7953"
             ],
             [
              0.7777777777777778,
              "#fb9f3a"
             ],
             [
              0.8888888888888888,
              "#fdca26"
             ],
             [
              1,
              "#f0f921"
             ]
            ],
            "type": "histogram2dcontour"
           }
          ],
          "mesh3d": [
           {
            "colorbar": {
             "outlinewidth": 0,
             "ticks": ""
            },
            "type": "mesh3d"
           }
          ],
          "parcoords": [
           {
            "line": {
             "colorbar": {
              "outlinewidth": 0,
              "ticks": ""
             }
            },
            "type": "parcoords"
           }
          ],
          "pie": [
           {
            "automargin": true,
            "type": "pie"
           }
          ],
          "scatter": [
           {
            "fillpattern": {
             "fillmode": "overlay",
             "size": 10,
             "solidity": 0.2
            },
            "type": "scatter"
           }
          ],
          "scatter3d": [
           {
            "line": {
             "colorbar": {
              "outlinewidth": 0,
              "ticks": ""
             }
            },
            "marker": {
             "colorbar": {
              "outlinewidth": 0,
              "ticks": ""
             }
            },
            "type": "scatter3d"
           }
          ],
          "scattercarpet": [
           {
            "marker": {
             "colorbar": {
              "outlinewidth": 0,
              "ticks": ""
             }
            },
            "type": "scattercarpet"
           }
          ],
          "scattergeo": [
           {
            "marker": {
             "colorbar": {
              "outlinewidth": 0,
              "ticks": ""
             }
            },
            "type": "scattergeo"
           }
          ],
          "scattergl": [
           {
            "marker": {
             "colorbar": {
              "outlinewidth": 0,
              "ticks": ""
             }
            },
            "type": "scattergl"
           }
          ],
          "scattermap": [
           {
            "marker": {
             "colorbar": {
              "outlinewidth": 0,
              "ticks": ""
             }
            },
            "type": "scattermap"
           }
          ],
          "scattermapbox": [
           {
            "marker": {
             "colorbar": {
              "outlinewidth": 0,
              "ticks": ""
             }
            },
            "type": "scattermapbox"
           }
          ],
          "scatterpolar": [
           {
            "marker": {
             "colorbar": {
              "outlinewidth": 0,
              "ticks": ""
             }
            },
            "type": "scatterpolar"
           }
          ],
          "scatterpolargl": [
           {
            "marker": {
             "colorbar": {
              "outlinewidth": 0,
              "ticks": ""
             }
            },
            "type": "scatterpolargl"
           }
          ],
          "scatterternary": [
           {
            "marker": {
             "colorbar": {
              "outlinewidth": 0,
              "ticks": ""
             }
            },
            "type": "scatterternary"
           }
          ],
          "surface": [
           {
            "colorbar": {
             "outlinewidth": 0,
             "ticks": ""
            },
            "colorscale": [
             [
              0,
              "#0d0887"
             ],
             [
              0.1111111111111111,
              "#46039f"
             ],
             [
              0.2222222222222222,
              "#7201a8"
             ],
             [
              0.3333333333333333,
              "#9c179e"
             ],
             [
              0.4444444444444444,
              "#bd3786"
             ],
             [
              0.5555555555555556,
              "#d8576b"
             ],
             [
              0.6666666666666666,
              "#ed7953"
             ],
             [
              0.7777777777777778,
              "#fb9f3a"
             ],
             [
              0.8888888888888888,
              "#fdca26"
             ],
             [
              1,
              "#f0f921"
             ]
            ],
            "type": "surface"
           }
          ],
          "table": [
           {
            "cells": {
             "fill": {
              "color": "#EBF0F8"
             },
             "line": {
              "color": "white"
             }
            },
            "header": {
             "fill": {
              "color": "#C8D4E3"
             },
             "line": {
              "color": "white"
             }
            },
            "type": "table"
           }
          ]
         },
         "layout": {
          "annotationdefaults": {
           "arrowcolor": "#2a3f5f",
           "arrowhead": 0,
           "arrowwidth": 1
          },
          "autotypenumbers": "strict",
          "coloraxis": {
           "colorbar": {
            "outlinewidth": 0,
            "ticks": ""
           }
          },
          "colorscale": {
           "diverging": [
            [
             0,
             "#8e0152"
            ],
            [
             0.1,
             "#c51b7d"
            ],
            [
             0.2,
             "#de77ae"
            ],
            [
             0.3,
             "#f1b6da"
            ],
            [
             0.4,
             "#fde0ef"
            ],
            [
             0.5,
             "#f7f7f7"
            ],
            [
             0.6,
             "#e6f5d0"
            ],
            [
             0.7,
             "#b8e186"
            ],
            [
             0.8,
             "#7fbc41"
            ],
            [
             0.9,
             "#4d9221"
            ],
            [
             1,
             "#276419"
            ]
           ],
           "sequential": [
            [
             0,
             "#0d0887"
            ],
            [
             0.1111111111111111,
             "#46039f"
            ],
            [
             0.2222222222222222,
             "#7201a8"
            ],
            [
             0.3333333333333333,
             "#9c179e"
            ],
            [
             0.4444444444444444,
             "#bd3786"
            ],
            [
             0.5555555555555556,
             "#d8576b"
            ],
            [
             0.6666666666666666,
             "#ed7953"
            ],
            [
             0.7777777777777778,
             "#fb9f3a"
            ],
            [
             0.8888888888888888,
             "#fdca26"
            ],
            [
             1,
             "#f0f921"
            ]
           ],
           "sequentialminus": [
            [
             0,
             "#0d0887"
            ],
            [
             0.1111111111111111,
             "#46039f"
            ],
            [
             0.2222222222222222,
             "#7201a8"
            ],
            [
             0.3333333333333333,
             "#9c179e"
            ],
            [
             0.4444444444444444,
             "#bd3786"
            ],
            [
             0.5555555555555556,
             "#d8576b"
            ],
            [
             0.6666666666666666,
             "#ed7953"
            ],
            [
             0.7777777777777778,
             "#fb9f3a"
            ],
            [
             0.8888888888888888,
             "#fdca26"
            ],
            [
             1,
             "#f0f921"
            ]
           ]
          },
          "colorway": [
           "#636efa",
           "#EF553B",
           "#00cc96",
           "#ab63fa",
           "#FFA15A",
           "#19d3f3",
           "#FF6692",
           "#B6E880",
           "#FF97FF",
           "#FECB52"
          ],
          "font": {
           "color": "#2a3f5f"
          },
          "geo": {
           "bgcolor": "white",
           "lakecolor": "white",
           "landcolor": "#E5ECF6",
           "showlakes": true,
           "showland": true,
           "subunitcolor": "white"
          },
          "hoverlabel": {
           "align": "left"
          },
          "hovermode": "closest",
          "mapbox": {
           "style": "light"
          },
          "paper_bgcolor": "white",
          "plot_bgcolor": "#E5ECF6",
          "polar": {
           "angularaxis": {
            "gridcolor": "white",
            "linecolor": "white",
            "ticks": ""
           },
           "bgcolor": "#E5ECF6",
           "radialaxis": {
            "gridcolor": "white",
            "linecolor": "white",
            "ticks": ""
           }
          },
          "scene": {
           "xaxis": {
            "backgroundcolor": "#E5ECF6",
            "gridcolor": "white",
            "gridwidth": 2,
            "linecolor": "white",
            "showbackground": true,
            "ticks": "",
            "zerolinecolor": "white"
           },
           "yaxis": {
            "backgroundcolor": "#E5ECF6",
            "gridcolor": "white",
            "gridwidth": 2,
            "linecolor": "white",
            "showbackground": true,
            "ticks": "",
            "zerolinecolor": "white"
           },
           "zaxis": {
            "backgroundcolor": "#E5ECF6",
            "gridcolor": "white",
            "gridwidth": 2,
            "linecolor": "white",
            "showbackground": true,
            "ticks": "",
            "zerolinecolor": "white"
           }
          },
          "shapedefaults": {
           "line": {
            "color": "#2a3f5f"
           }
          },
          "ternary": {
           "aaxis": {
            "gridcolor": "white",
            "linecolor": "white",
            "ticks": ""
           },
           "baxis": {
            "gridcolor": "white",
            "linecolor": "white",
            "ticks": ""
           },
           "bgcolor": "#E5ECF6",
           "caxis": {
            "gridcolor": "white",
            "linecolor": "white",
            "ticks": ""
           }
          },
          "title": {
           "x": 0.05
          },
          "xaxis": {
           "automargin": true,
           "gridcolor": "white",
           "linecolor": "white",
           "ticks": "",
           "title": {
            "standoff": 15
           },
           "zerolinecolor": "white",
           "zerolinewidth": 2
          },
          "yaxis": {
           "automargin": true,
           "gridcolor": "white",
           "linecolor": "white",
           "ticks": "",
           "title": {
            "standoff": 15
           },
           "zerolinecolor": "white",
           "zerolinewidth": 2
          }
         }
        },
        "title": {
         "text": "3D Ground Truth Trajectory"
        }
       }
      }
     },
     "metadata": {},
     "output_type": "display_data"
    }
   ],
   "source": [
    "import plotly.graph_objs as go\n",
    "import numpy as np\n",
    "\n",
    "gt_file = r\"C:\\VisualOdometry\\falcon_indoor_flight_1_pose_evo_gt.txt\"\n",
    "gt_positions = []\n",
    "with open(gt_file, \"r\") as f:\n",
    "    for line in f:\n",
    "        if line.strip() == \"\" or line.startswith(\"#\"):\n",
    "            continue\n",
    "        parts = line.strip().split()\n",
    "        tx, ty, tz = map(float, parts[1:4])\n",
    "        gt_positions.append([tx, ty, tz])\n",
    "gt_positions = np.array(gt_positions)\n",
    "\n",
    "fig = go.Figure(\n",
    "    data=[\n",
    "        go.Scatter3d(\n",
    "            x=gt_positions[:, 0],\n",
    "            y=gt_positions[:, 1],\n",
    "            z=gt_positions[:, 2],\n",
    "            mode=\"lines\",\n",
    "            line=dict(color=\"red\", width=4),\n",
    "        )\n",
    "    ]\n",
    ")\n",
    "fig.update_layout(\n",
    "    scene=dict(xaxis_title=\"X\", yaxis_title=\"Y\", zaxis_title=\"Z\"),\n",
    "    title=\"3D Ground Truth Trajectory\",\n",
    ")\n",
    "fig.show()"
   ]
  }
 ],
 "metadata": {
  "kernelspec": {
   "display_name": "Python 3",
   "language": "python",
   "name": "python3"
  },
  "language_info": {
   "codemirror_mode": {
    "name": "ipython",
    "version": 3
   },
   "file_extension": ".py",
   "mimetype": "text/x-python",
   "name": "python",
   "nbconvert_exporter": "python",
   "pygments_lexer": "ipython3",
   "version": "3.12.2"
  }
 },
 "nbformat": 4,
 "nbformat_minor": 5
}

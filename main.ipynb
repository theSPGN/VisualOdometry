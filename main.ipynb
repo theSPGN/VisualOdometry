{
 "cells": [
  {
   "cell_type": "code",
   "execution_count": 2,
   "id": "8b471425",
   "metadata": {},
   "outputs": [],
   "source": [
    "import numpy as np\n",
    "import h5py\n",
    "import cv2\n",
    "FILE_PATH = r\"C:\\VisualOdometry\\falcon_indoor_flight_1_data.h5\""
   ]
  },
  {
   "cell_type": "code",
   "execution_count": 3,
   "id": "6f9dead5",
   "metadata": {},
   "outputs": [],
   "source": [
    "with h5py.File(FILE_PATH, \"r\") as file:\n",
    "    w, h = list(file[\"prophesee\"][\"left\"][\"calib\"][\"resolution\"])"
   ]
  },
  {
   "cell_type": "code",
   "execution_count": 4,
   "id": "777bcf26",
   "metadata": {},
   "outputs": [],
   "source": [
    "def event_generator(file_path, cam_direction=\"left\", batch_size=1024):\n",
    "    with h5py.File(file_path, \"r\") as file:\n",
    "        x = file[\"prophesee\"][cam_direction][\"x\"]\n",
    "        y = file[\"prophesee\"][cam_direction][\"y\"]\n",
    "        p = file[\"prophesee\"][cam_direction][\"p\"]\n",
    "        t = file[\"prophesee\"][cam_direction][\"t\"]\n",
    "        total = x.shape[0]\n",
    "        for i in range(0, total, batch_size):\n",
    "            yield (\n",
    "                x[i : i + batch_size],\n",
    "                y[i : i + batch_size],\n",
    "                p[i : i + batch_size],\n",
    "                t[i : i + batch_size],\n",
    "            )"
   ]
  },
  {
   "cell_type": "code",
   "execution_count": 5,
   "id": "a7aaab75",
   "metadata": {},
   "outputs": [],
   "source": [
    "def event_frame(coords, polarities, img_shape):\n",
    "    matrix = np.ones(img_shape, dtype=np.uint8) * 127\n",
    "    coords = np.array(coords)\n",
    "    if len(coords) > 0:\n",
    "        y = coords[:, 0]\n",
    "        x = coords[:, 1]\n",
    "        matrix[y, x] = np.where(np.array(polarities) > 0, 255, 0)\n",
    "    return matrix"
   ]
  },
  {
   "cell_type": "code",
   "execution_count": null,
   "id": "0e82cfe5",
   "metadata": {},
   "outputs": [],
   "source": [
    "def odom(current_odom_map, picture):\n",
    "    return current_odom_map"
   ]
  },
  {
   "cell_type": "code",
   "execution_count": 7,
   "id": "31782b95",
   "metadata": {},
   "outputs": [
    {
     "name": "stderr",
     "output_type": "stream",
     "text": [
      "C:\\Users\\mateu\\AppData\\Local\\Temp\\ipykernel_10144\\2379963195.py:56: DeprecationWarning: Conversion of an array with ndim > 0 to a scalar is deprecated, and will error in future. Ensure you extract a single element from your array before performing this operation. (Deprecated NumPy 1.25.)\n",
      "  x, z = int(cur_t[0]) + 300, int(cur_t[2]) + 300\n"
     ]
    }
   ],
   "source": [
    "cnt = 1\n",
    "batch_idx = 0\n",
    "temp_x, temp_y, temp_p, temp_t = [], [], [], []\n",
    "\n",
    "exit = False\n",
    "traj = np.zeros((600, 600, 600, 3), dtype=np.uint8)\n",
    "# default for left camera\n",
    "for x_batch, y_batch, p_batch, t_batch in event_generator(FILE_PATH, batch_size=10000):\n",
    "    batch_idx += 1\n",
    "    if batch_idx % 10 != 0:\n",
    "        continue\n",
    "\n",
    "    temp_x.extend(x_batch)\n",
    "    temp_y.extend(y_batch)\n",
    "    temp_p.extend(np.where(p_batch > 0, 1, -1))\n",
    "    temp_t.extend(t_batch)\n",
    "\n",
    "    while len(temp_t) > 0 and temp_t[-1] > cnt * 1e5//3:\n",
    "        cnt += 1\n",
    "        coords = list(zip(temp_y, temp_x))\n",
    "        img = event_frame(coords, temp_p, (h, w))\n",
    "        \n",
    "        # TODO Implement Optical flow cv2...LK...\n",
    "        # and odometry from labs\n",
    "        odom(traj, img)\n",
    "        cv2.imshow(\"Event Frame\", img)\n",
    "        if cv2.waitKey(1) & 0xFF == ord(\"q\"):\n",
    "            exit = True\n",
    "            break\n",
    "        temp_x.clear()\n",
    "        temp_y.clear()\n",
    "        temp_p.clear()\n",
    "        temp_t.clear()\n",
    "    if exit:\n",
    "        break\n",
    "\n",
    "cv2.destroyAllWindows()"
   ]
  },
  {
   "cell_type": "code",
   "execution_count": 8,
   "id": "b4b38cac",
   "metadata": {},
   "outputs": [
    {
     "name": "stderr",
     "output_type": "stream",
     "text": [
      "C:\\Users\\mateu\\AppData\\Local\\Temp\\ipykernel_10144\\2379963195.py:56: DeprecationWarning: Conversion of an array with ndim > 0 to a scalar is deprecated, and will error in future. Ensure you extract a single element from your array before performing this operation. (Deprecated NumPy 1.25.)\n",
      "  x, z = int(cur_t[0]) + 300, int(cur_t[2]) + 300\n"
     ]
    }
   ],
   "source": [
    "traj = np.zeros((600, 600, 3), dtype=np.uint8)\n",
    "with h5py.File(FILE_PATH, \"r\") as file:\n",
    "    rgb_dataset = file[\"ovc\"][\"rgb\"][\"data\"]\n",
    "    num_images = rgb_dataset.shape[0]\n",
    "    for i in range(num_images):\n",
    "        rgb = rgb_dataset[i]\n",
    "        rgb = np.array(rgb, dtype=np.uint8)\n",
    "        gray = cv2.cvtColor(rgb, cv2.COLOR_RGB2GRAY)\n",
    "        traj = odom(traj, gray)\n",
    "\n",
    "        cv2.imshow(\"Grayscale OVC Image\", gray)\n",
    "        cv2.imshow(\"Trajectory Map\", traj)\n",
    "        if cv2.waitKey(1) & 0xFF == ord(\"q\"):\n",
    "            break\n",
    "\n",
    "cv2.destroyAllWindows()"
   ]
  }
 ],
 "metadata": {
  "kernelspec": {
   "display_name": "Python 3",
   "language": "python",
   "name": "python3"
  },
  "language_info": {
   "codemirror_mode": {
    "name": "ipython",
    "version": 3
   },
   "file_extension": ".py",
   "mimetype": "text/x-python",
   "name": "python",
   "nbconvert_exporter": "python",
   "pygments_lexer": "ipython3",
   "version": "3.12.2"
  }
 },
 "nbformat": 4,
 "nbformat_minor": 5
}
